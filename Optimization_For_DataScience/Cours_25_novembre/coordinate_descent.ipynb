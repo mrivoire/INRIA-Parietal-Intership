{
 "cells": [
  {
   "cell_type": "markdown",
   "metadata": {},
   "source": [
    "# Coordinate descent for least squares\n",
    "\n",
    "Author: Alexandre Gramfort, Mathurin Massias"
   ]
  },
  {
   "cell_type": "code",
   "execution_count": null,
   "metadata": {},
   "outputs": [],
   "source": [
    "%matplotlib inline\n",
    "import numpy as np\n",
    "import matplotlib.pyplot as plt\n",
    "from scipy import linalg"
   ]
  },
  {
   "cell_type": "markdown",
   "metadata": {},
   "source": [
    "## Generate simulated data\n",
    "\n",
    "$y = Ax+noise$"
   ]
  },
  {
   "cell_type": "code",
   "execution_count": null,
   "metadata": {},
   "outputs": [],
   "source": [
    "np.random.seed(0)\n",
    "n_samples, n_features = 300, 100\n",
    "A = np.random.randn(n_samples, n_features)\n",
    "x = np.random.randn(n_features)\n",
    "y = np.dot(A, x)\n",
    "y += 0.3 * np.random.randn(n_samples)"
   ]
  },
  {
   "cell_type": "markdown",
   "metadata": {},
   "source": [
    "## Option 1 : \n",
    "\n",
    "$\\min_w \\frac{1}{2} \\|y - Ax\\|^2$\n",
    "\n",
    "solved with `linalg.solve`"
   ]
  },
  {
   "cell_type": "code",
   "execution_count": null,
   "metadata": {
    "scrolled": true
   },
   "outputs": [],
   "source": [
    "x_solve = linalg.solve(np.dot(A.T, A), np.dot(A.T, y))"
   ]
  },
  {
   "cell_type": "code",
   "execution_count": null,
   "metadata": {},
   "outputs": [],
   "source": [
    "plt.scatter(x, x_solve);"
   ]
  },
  {
   "cell_type": "markdown",
   "metadata": {},
   "source": [
    "## Option 2: gradient descent"
   ]
  },
  {
   "cell_type": "code",
   "execution_count": null,
   "metadata": {},
   "outputs": [],
   "source": [
    "def gradient(x):\n",
    "    return np.dot(A.T, np.dot(A, x) - y)\n",
    "\n",
    "\n",
    "def objective(x):\n",
    "    return 0.5 * linalg.norm(np.dot(A, x) - y) ** 2\n",
    "\n",
    "\n",
    "L = linalg.norm(A, ord=2) ** 2\n",
    "\n",
    "n_iter = 300\n",
    "\n",
    "x_hat = np.zeros_like(x)\n",
    "objs = list()\n",
    "for k in range(n_iter):\n",
    "    x_hat -= 1. / L * gradient(x_hat)\n",
    "    objs.append(objective(x_hat))\n",
    "\n",
    "eps = np.finfo('float').eps\n",
    "plt.semilogy(np.maximum(np.array(objs) - objective(x_solve), eps))\n",
    "plt.xlabel('iteration')\n",
    "plt.ylabel('objective')"
   ]
  },
  {
   "cell_type": "markdown",
   "metadata": {},
   "source": [
    "## Option 3: cyclic coordinate descent"
   ]
  },
  {
   "cell_type": "code",
   "execution_count": null,
   "metadata": {},
   "outputs": [],
   "source": [
    "Li = np.sum(A ** 2, axis=0)\n",
    "\n",
    "n_iter = 300 * n_features\n",
    "\n",
    "x_hat = np.zeros_like(x)\n",
    "objs = list()\n",
    "for k in range(n_iter):\n",
    "    i = k % n_features\n",
    "    x_hat[i] = np.dot(A[:, i].T, y - np.dot(A, x_hat) + x_hat[i] * A[:, i])\n",
    "    x_hat[i] /= np.dot(A[:, i], A[:, i])\n",
    "    objs.append(objective(x_hat))\n",
    "\n",
    "plt.semilogy(np.maximum(np.array(objs) - objective(x_solve), eps))\n",
    "plt.xlabel('iteration')\n",
    "plt.ylabel('objective')"
   ]
  },
  {
   "cell_type": "markdown",
   "metadata": {},
   "source": [
    "### or written in a more generic manner:"
   ]
  },
  {
   "cell_type": "code",
   "execution_count": null,
   "metadata": {},
   "outputs": [],
   "source": [
    "def gradient_i(x, i):\n",
    "    return np.dot(A[:, i].T, np.dot(A, x) - y)\n",
    "\n",
    "Li = np.sum(A * A, axis=0)\n",
    "\n",
    "n_iter = 300 * n_features\n",
    "\n",
    "x_hat = np.zeros_like(x)\n",
    "objs = list()\n",
    "for k in range(n_iter):\n",
    "    i = k % n_features\n",
    "    x_hat[i] -= 1. / Li[i] * gradient_i(x_hat, i)\n",
    "    objs.append(objective(x_hat))\n",
    "\n",
    "plt.semilogy(np.maximum(np.array(objs) - objective(x_solve), eps))\n",
    "plt.xlabel('iteration')\n",
    "plt.ylabel('objective')"
   ]
  }
 ],
 "metadata": {
  "anaconda-cloud": {},
  "kernelspec": {
   "display_name": "Python 3",
   "language": "python",
   "name": "python3"
  },
  "language_info": {
   "codemirror_mode": {
    "name": "ipython",
    "version": 3
   },
   "file_extension": ".py",
   "mimetype": "text/x-python",
   "name": "python",
   "nbconvert_exporter": "python",
   "pygments_lexer": "ipython3",
   "version": "3.7.5"
  },
  "widgets": {
   "state": {},
   "version": "1.1.2"
  }
 },
 "nbformat": 4,
 "nbformat_minor": 1
}
