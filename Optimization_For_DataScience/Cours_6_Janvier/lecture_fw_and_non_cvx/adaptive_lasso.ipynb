{
 "cells": [
  {
   "cell_type": "markdown",
   "metadata": {},
   "source": [
    "# Example of adaptive Lasso\n",
    "\n",
    "Author: Alexandre Gramfort\n",
    "\n",
    "Adaptive lasso consists in computing many Lasso with feature\n",
    "reweighting. It's also known as iterated or reweighted L1.\n",
    "\n",
    "References:\n",
    "\n",
    "- Enhancing Sparsity by Reweighted L1 Minimization, Emmanuel J. Candes, Michael B. Wakin, Stephen P. Boyd, https://arxiv.org/abs/0711.1612\n",
    "- D. Wipf and S. Nagarajan, \"Iterative Reweighted $\\ell_1$ and $\\ell_2$ Methods for Finding Sparse Solutions,\" in IEEE Journal of Selected Topics in Signal Processing, vol. 4, no. 2, pp. 317-329, April 2010. https://ieeexplore.ieee.org/document/5419071\n",
    "\n",
    "See also : https://arxiv.org/abs/0807.0575 for reweighting based on L2."
   ]
  },
  {
   "cell_type": "code",
   "execution_count": null,
   "metadata": {},
   "outputs": [],
   "source": [
    "import matplotlib.pyplot as plt\n",
    "%matplotlib inline"
   ]
  },
  {
   "cell_type": "code",
   "execution_count": null,
   "metadata": {},
   "outputs": [],
   "source": [
    "import numpy as np\n",
    "from sklearn.datasets import fetch_openml\n",
    "from sklearn.linear_model import Lasso\n",
    "\n",
    "data = fetch_openml(\"leukemia\")\n",
    "X = data.data.astype(float)\n",
    "y = 2 * (data.target == data.target[0]).astype(float) - 1.\n",
    "X /= np.sum(X ** 2, axis=0)  # scale features"
   ]
  },
  {
   "cell_type": "code",
   "execution_count": null,
   "metadata": {},
   "outputs": [],
   "source": [
    "if True:  # g(x) = sqrt(abs(x))\n",
    "    g = lambda w: np.sqrt(np.abs(w))\n",
    "    gprime = lambda w: 1. / (2. * np.sqrt(np.abs(w)) + np.finfo(float).eps)\n",
    "else: # g(x) = log(eps + abs(x))\n",
    "    # TODO\n",
    "    eps = 0.01\n",
    "    g = None\n",
    "    gprime = None\n",
    "\n",
    "n_samples, n_features = X.shape\n",
    "p_obj = lambda w: 1. / (2 * n_samples) * np.sum((y - np.dot(X, w)) ** 2) \\\n",
    "                  + alpha * np.sum(g(w))\n",
    "\n",
    "weights = np.ones(n_features)\n",
    "n_lasso_iterations = 10\n",
    "alpha = 5e-6\n",
    "\n",
    "objective = []\n",
    "for k in range(n_lasso_iterations):\n",
    "    X_w = X / weights[np.newaxis, :]\n",
    "    clf = Lasso(alpha=alpha, fit_intercept=False)\n",
    "    clf.fit(X_w, y)\n",
    "    coef_ = clf.coef_ / weights\n",
    "    weights = gprime(coef_)\n",
    "    objective.append(p_obj(coef_))\n",
    "    print('Sparsity: %1.3f %%- Objective: %.5f' % (100. * np.mean(coef_ != 0.0), objective[-1]))"
   ]
  },
  {
   "cell_type": "code",
   "execution_count": null,
   "metadata": {},
   "outputs": [],
   "source": [
    "plt.plot(objective)\n",
    "plt.xlabel('Iterations')\n",
    "plt.ylabel('Objective');"
   ]
  },
  {
   "cell_type": "markdown",
   "metadata": {},
   "source": [
    "<div class=\"alert alert-success\">\n",
    "    <b>EXERCISE:</b>\n",
    "     <ul>\n",
    "      <li>Implement reweighting L1 for $g(x) = \\log(\\epsilon + |x|)$ by <a href=\"https://arxiv.org/abs/0711.1612\">Candes et al.</a></li>\n",
    "    </ul>\n",
    "</div>"
   ]
  }
 ],
 "metadata": {
  "kernelspec": {
   "display_name": "Python 3",
   "language": "python",
   "name": "python3"
  },
  "language_info": {
   "codemirror_mode": {
    "name": "ipython",
    "version": 3
   },
   "file_extension": ".py",
   "mimetype": "text/x-python",
   "name": "python",
   "nbconvert_exporter": "python",
   "pygments_lexer": "ipython3",
   "version": "3.7.5"
  }
 },
 "nbformat": 4,
 "nbformat_minor": 1
}
