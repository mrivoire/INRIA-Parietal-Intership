{
 "cells": [
  {
   "cell_type": "markdown",
   "metadata": {},
   "source": [
    "# Newton's method in the 1-D case: some intuitions\n",
    "\n",
    "Author: Pierre Ablin, Alexandre Gramfort\n",
    "\n",
    "Newton's method writes $x \\leftarrow x - [\\nabla^2f(x)]^{-1} \\nabla f(x)$.\n",
    "\n",
    "Through a few one-dimensional cases, let us gain some intuitions about its behavior."
   ]
  },
  {
   "cell_type": "code",
   "execution_count": null,
   "metadata": {},
   "outputs": [],
   "source": [
    "import numpy as np\n",
    "import matplotlib.pyplot as plt\n",
    "from matplotlib.text import Text\n",
    "from ipywidgets import interact, fixed\n",
    "%matplotlib inline\n",
    "\n",
    "\n",
    "fontsize = 18\n",
    "params = {\n",
    "      'axes.titlesize': fontsize + 4,\n",
    "      'axes.labelsize': fontsize + 2,\n",
    "      'font.size': fontsize + 2,\n",
    "      'legend.fontsize': fontsize + 2,\n",
    "      'xtick.labelsize': fontsize,\n",
    "      'ytick.labelsize': fontsize,\n",
    "      'text.usetex': True}\n",
    "plt.rcParams.update(params)"
   ]
  },
  {
   "cell_type": "code",
   "execution_count": null,
   "metadata": {},
   "outputs": [],
   "source": [
    "def plot(f, f_p, f_pp, x_l=None, i=0, plot_approx=True, ylim=[-2, 10],axe=None):\n",
    "    t = np.linspace(-3, 3)\n",
    "    ft = f(t)\n",
    "    if axe is None:\n",
    "        fig, axe = plt.subplots(1, 1, figsize=(8, 8))\n",
    "    axe.plot(t, ft, label='$f(x)$', linewidth=6)\n",
    "    if x_l is not None:\n",
    "        x = x_l[i]\n",
    "        fx = f(x)\n",
    "        points = [(x, fx, '$x_{%d}$' % i, '#804000')]\n",
    "        if plot_approx:\n",
    "            def q(t):\n",
    "                return fx + (t - x) * f_p(x) + 0.5 * (t - x) ** 2 * f_pp(x)\n",
    "            x_star = x - f_p(x) / f_pp(x)\n",
    "            q_star = q(x_star)\n",
    "            fx_star = f(x_star)\n",
    "            axe.plot(t, q(t),label='$Q_{x_{%d}}(x - x_{%d})$' % (i, i),\n",
    "                     color='red', linewidth=3)\n",
    "            axe.axhline(q_star, c='r', linestyle='dashed')\n",
    "            axe.axvline(x_star, c='g', linestyle='dashed')\n",
    "            points.append((x_star, fx_star,'$x_{%d}$' % (i + 1), '#264d00'))\n",
    "        for a, fa, label, color in points:\n",
    "            axe.plot([a], [fa], '+', color=color, markersize=20, markeredgewidth=4)\n",
    "            axe.annotate(label, (a+0.2, fa-0.3), fontsize=40, color=color)\n",
    "        axe.set_title('$|x_{%d} - x^*| = %.2g$' % (i, np.abs(x)))\n",
    "    axe.legend(loc='upper center')\n",
    "    axe.set_ylim(*ylim)\n",
    "    axe.set_xlim(-3, 3)\n",
    "    axe.set_xlabel(r'$x$')"
   ]
  },
  {
   "cell_type": "code",
   "execution_count": null,
   "metadata": {},
   "outputs": [],
   "source": [
    "def plot_newton(x0, ylim, i=0):\n",
    "    fig, axe = plt.subplots(1, 1, figsize=(8, 8))\n",
    "    x_l = newton(x0, f_p, f_pp, i)\n",
    "    plot(f, f_p, f_pp, x_l, i, ylim=ylim, axe=axe)\n",
    "    plt.figure(figsize=(5, 3))\n",
    "    plt.semilogy(np.abs(x_l), linewidth=3)\n",
    "    plt.xlabel('iterations')\n",
    "    plt.ylabel('$|x_i - x^*|$')\n",
    "    plt.title('Convergence curve')\n",
    "    plt.show()"
   ]
  },
  {
   "cell_type": "markdown",
   "metadata": {},
   "source": [
    "Newton's method code:"
   ]
  },
  {
   "cell_type": "code",
   "execution_count": null,
   "metadata": {},
   "outputs": [],
   "source": [
    "def newton(x0, f_p, f_pp, max_iter=10):\n",
    "    '''\n",
    "    f_p must return the derivatives of f, and f_pp its second derivative\n",
    "    '''\n",
    "    x = x0\n",
    "    x_l = [x,]\n",
    "    for i in range(max_iter):\n",
    "        x -= f_p(x) / f_pp(x)\n",
    "        x_l.append(x)\n",
    "    return np.array(x_l)"
   ]
  },
  {
   "cell_type": "markdown",
   "metadata": {},
   "source": [
    "# Quadratic function $f(x) = x^2$"
   ]
  },
  {
   "cell_type": "code",
   "execution_count": null,
   "metadata": {},
   "outputs": [],
   "source": [
    "def f(x):\n",
    "    return x ** 2\n",
    "\n",
    "def f_p(x):\n",
    "    return 2. * x\n",
    "\n",
    "def f_pp(x):\n",
    "    return 2.\n",
    "\n",
    "ylim = [-2, 10]"
   ]
  },
  {
   "cell_type": "code",
   "execution_count": null,
   "metadata": {
    "scrolled": false
   },
   "outputs": [],
   "source": [
    "plot(f, f_p, f_pp, ylim=ylim)"
   ]
  },
  {
   "cell_type": "code",
   "execution_count": null,
   "metadata": {
    "scrolled": false
   },
   "outputs": [],
   "source": [
    "interact(plot_newton, i=(0, 10, 1), x0=fixed(1.1), ylim=fixed(ylim));"
   ]
  },
  {
   "cell_type": "markdown",
   "metadata": {},
   "source": [
    "# Soft absolute value $f(x) = \\log(\\cosh(x))$\n",
    "\n",
    "When x is big, $f(x) \\simeq |x|$. When $x$ is small, $f(x) \\simeq x^2$ "
   ]
  },
  {
   "cell_type": "code",
   "execution_count": null,
   "metadata": {},
   "outputs": [],
   "source": [
    "def f(x):\n",
    "    return np.log(np.cosh(x))\n",
    "\n",
    "def f_p(x):\n",
    "    return np.tanh(x)\n",
    "\n",
    "def f_pp(x):\n",
    "    return 1 - np.tanh(x) ** 2\n",
    "\n",
    "ylim = [-1, 3]"
   ]
  },
  {
   "cell_type": "code",
   "execution_count": null,
   "metadata": {
    "scrolled": false
   },
   "outputs": [],
   "source": [
    "plot(f, f_p, f_pp, ylim=ylim)"
   ]
  },
  {
   "cell_type": "markdown",
   "metadata": {},
   "source": [
    "## Convergence zone:\n",
    "\n",
    "$x_0$ small"
   ]
  },
  {
   "cell_type": "code",
   "execution_count": null,
   "metadata": {
    "scrolled": false
   },
   "outputs": [],
   "source": [
    "x0 = 1.05\n",
    "interact(plot_newton, i=(0, 10, 1), x0=fixed(x0), ylim=fixed(ylim));"
   ]
  },
  {
   "cell_type": "markdown",
   "metadata": {},
   "source": [
    "## Divergence zone\n",
    "$x_0$ too big"
   ]
  },
  {
   "cell_type": "code",
   "execution_count": null,
   "metadata": {
    "scrolled": false
   },
   "outputs": [],
   "source": [
    "x0 = 1.1\n",
    "interact(plot_newton, i=(0, 10, 1), x0=fixed(x0), ylim=fixed(ylim));"
   ]
  },
  {
   "cell_type": "markdown",
   "metadata": {},
   "source": [
    "# Cubic function"
   ]
  },
  {
   "cell_type": "code",
   "execution_count": null,
   "metadata": {},
   "outputs": [],
   "source": [
    "def f(x):\n",
    "    return x ** 3\n",
    "\n",
    "def f_p(x):\n",
    "    return 3 * x ** 2\n",
    "\n",
    "def f_pp(x):\n",
    "    return 6 * x\n",
    "\n",
    "ylim = [-2, 10]"
   ]
  },
  {
   "cell_type": "code",
   "execution_count": null,
   "metadata": {},
   "outputs": [],
   "source": [
    "interact(plot_newton, i=(0, 10, 1), x0=fixed(2), ylim=fixed(ylim));"
   ]
  }
 ],
 "metadata": {
  "kernelspec": {
   "display_name": "Python 3",
   "language": "python",
   "name": "python3"
  },
  "language_info": {
   "codemirror_mode": {
    "name": "ipython",
    "version": 3
   },
   "file_extension": ".py",
   "mimetype": "text/x-python",
   "name": "python",
   "nbconvert_exporter": "python",
   "pygments_lexer": "ipython3",
   "version": "3.7.5"
  }
 },
 "nbformat": 4,
 "nbformat_minor": 2
}
