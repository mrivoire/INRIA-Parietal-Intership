{
 "cells": [
  {
   "cell_type": "markdown",
   "metadata": {},
   "source": [
    "# Newton method on a 2d case\n",
    "\n",
    "Author : Pierre Ablin, Alexandre Gramfort\n",
    "\n",
    "We're interested in minimizing the Rosenbrock function\n",
    "\n",
    "$f(x_1, x_2) = 100(x_1 - x_2^2)^2 + (1 - x_2)^2$\n",
    "\n",
    "**Question** : is it a convex function? What it its minimum?"
   ]
  },
  {
   "cell_type": "code",
   "execution_count": null,
   "metadata": {},
   "outputs": [],
   "source": [
    "import numpy as np\n",
    "from ipywidgets import interact, fixed\n",
    "%matplotlib inline\n",
    "import matplotlib.pyplot as plt\n",
    "from scipy.optimize import rosen as f\n",
    "from scipy.optimize import rosen_der as fp\n",
    "from scipy.optimize import rosen_hess as fpp\n",
    "from scipy.optimize import line_search\n",
    "\n",
    "fontsize = 18\n",
    "params = {\n",
    "      'axes.titlesize': fontsize + 4,\n",
    "      'axes.labelsize': fontsize + 2,\n",
    "      'font.size': fontsize + 2,\n",
    "      'legend.fontsize': fontsize + 2,\n",
    "      'xtick.labelsize': fontsize,\n",
    "      'ytick.labelsize': fontsize,\n",
    "      'text.usetex': True}\n",
    "plt.rcParams.update(params)"
   ]
  },
  {
   "cell_type": "code",
   "execution_count": null,
   "metadata": {},
   "outputs": [],
   "source": [
    "def newton(x0, max_iter):\n",
    "    lambda_min = 0.1\n",
    "    x = x0\n",
    "    h_list = []\n",
    "    x_l = []\n",
    "    for i in range(max_iter):\n",
    "        gradient = fp(x)\n",
    "        hess = fpp(x)\n",
    "        # Regularize\n",
    "        v, w = np.linalg.eigh(hess)\n",
    "        v[v < lambda_min] = lambda_min\n",
    "        hess = (v * w).dot(w.T)\n",
    "        h_list.append(hess.copy())\n",
    "        x_l.append(x.copy())\n",
    "        # Compute the search direction\n",
    "        direction = - np.linalg.solve(hess, gradient)\n",
    "        alpha = line_search(f, fp, x, direction, gradient, maxiter=1000, c1=0.0000001, c2=0.99)[0]\n",
    "        x += alpha * direction\n",
    "    return np.array(x_l), h_list"
   ]
  },
  {
   "cell_type": "code",
   "execution_count": null,
   "metadata": {},
   "outputs": [],
   "source": [
    "def plot(f, x_l=None,axe=None, title='Rosenbrock function', quad=None, level=1):\n",
    "    if axe is None:\n",
    "        fig, axe = plt.subplots(1, 1, figsize=(8, 8))\n",
    "    X1, X2 = np.meshgrid(np.linspace(-1, 2, 200),\n",
    "                     np.linspace(-1, 3, 200))\n",
    "    Z = f([X1, X2])\n",
    "    levels = np.logspace(-6, 4, 40)\n",
    "    axe.contourf(X1, X2, np.log(Z + 0.001), levels=np.log(levels + 0.001), cmap=plt.cm.Oranges_r)\n",
    "    \n",
    "    if x_l is not None:\n",
    "        x1, x2 = x_l.T\n",
    "        axe.plot(x1, x2, 'b', linewidth=3)\n",
    "        axe.plot(x1, x2, 'k+', markersize=10, markeredgewidth=3)\n",
    "        if quad is not None:\n",
    "            Z_q = quad([X1, X2])\n",
    "            levels = 100 * (level / 100) ** np.array([1.5, 1, 0.8])\n",
    "            levels[-1] += 1.\n",
    "            levels[0] /=2\n",
    "            axe.contour(X1, X2, Z_q, levels=levels, colors=['k'])\n",
    "    axe.set_title(title)"
   ]
  },
  {
   "cell_type": "code",
   "execution_count": null,
   "metadata": {},
   "outputs": [],
   "source": [
    "plot(f)"
   ]
  },
  {
   "cell_type": "code",
   "execution_count": null,
   "metadata": {},
   "outputs": [],
   "source": [
    "def plot_newton(x0, max_iter=1):\n",
    "    x_l, h_l = newton(x0, max_iter)\n",
    "    H = h_l[-1]\n",
    "    x_f = x_l[-1]\n",
    "    # Compute sqrt\n",
    "    v, w = np.linalg.eigh(H)\n",
    "    C = (1 /np.sqrt(v) * w).dot(w.T)\n",
    "    # Plot\n",
    "    fig, axes = plt.subplots(1, 2, figsize=(16, 8))\n",
    "    def f_prec(x):\n",
    "        return f(np.tensordot(C, x - x_f[:, None, None], 1) / 2 + x_f[:, None, None])\n",
    "    \n",
    "    def q_ID(x):\n",
    "        a, b = x[:-1] - x_f[0], x[1:] - x_f[1]\n",
    "        g = C.dot(fp(x_f))\n",
    "        return np.sum(f(x_f) + g[0] * a + g[1] * b +\n",
    "                      0.5 * (a ** 2 + b ** 2), axis=0)\n",
    "    \n",
    "    def q_H(x):\n",
    "        a, b = x[:-1] - x_f[0], x[1:] - x_f[1]\n",
    "        g = fp(x_f)\n",
    "        return np.sum(f(x_f) + g[0] * a + g[1] * b +\n",
    "                      0.5 * (H[0, 0] * a ** 2 +\n",
    "                             H[1, 1] * b ** 2 + 2 * H[0, 1] * a * b), axis=0)\n",
    "    for ax, fun, title, points, quad in zip(axes.ravel(), [f, f_prec],\n",
    "                                            ['Contours of $f(x)$. $f(x_t)=%.2g$' % f(x_f), '$f(H_t^{-1/2}(x-x_t) + x_t)$'],\n",
    "                                            [x_l, np.array([x_f,])],\n",
    "                                            [q_H, q_ID]):\n",
    "        plot(fun, points, ax, title, quad=quad, level=f(x_f))\n",
    "    x_sol = x_f - np.linalg.solve(H, fp(x_f))\n",
    "    axes[0].plot(x_sol[0], x_sol[1], 'g*', markersize=10)"
   ]
  },
  {
   "cell_type": "code",
   "execution_count": null,
   "metadata": {},
   "outputs": [],
   "source": [
    "interact(plot_newton, max_iter=(1, 12, 1), x0=fixed([0.5, -0.5]))"
   ]
  }
 ],
 "metadata": {
  "kernelspec": {
   "display_name": "Python 3",
   "language": "python",
   "name": "python3"
  },
  "language_info": {
   "codemirror_mode": {
    "name": "ipython",
    "version": 3
   },
   "file_extension": ".py",
   "mimetype": "text/x-python",
   "name": "python",
   "nbconvert_exporter": "python",
   "pygments_lexer": "ipython3",
   "version": "3.7.5"
  }
 },
 "nbformat": 4,
 "nbformat_minor": 2
}
