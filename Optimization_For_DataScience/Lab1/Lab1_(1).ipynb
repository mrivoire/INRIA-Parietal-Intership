{
  "nbformat": 4,
  "nbformat_minor": 0,
  "metadata": {
    "anaconda-cloud": {},
    "kernelspec": {
      "display_name": "Python 3",
      "language": "python",
      "name": "python3"
    },
    "language_info": {
      "codemirror_mode": {
        "name": "ipython",
        "version": 3
      },
      "file_extension": ".py",
      "mimetype": "text/x-python",
      "name": "python",
      "nbconvert_exporter": "python",
      "pygments_lexer": "ipython3",
      "version": "3.7.2"
    },
    "colab": {
      "name": "Lab1 (1).ipynb",
      "provenance": [],
      "collapsed_sections": []
    }
  },
  "cells": [
    {
      "cell_type": "markdown",
      "metadata": {
        "id": "8_gftUwM-Znl",
        "colab_type": "text"
      },
      "source": [
        "# Lab 1 : First order methods on regression models\n",
        "\n",
        "#### Authors: A. Gramfort, R. Gower, P. Ablin, M. Massias, Q. Bertrand, N. Gazagnadou\n",
        "\n",
        "## Aim\n",
        "\n",
        "The aim of this material is to code \n",
        "- proximal gradient descent (PGD)\n",
        "- accelerated proximal gradient descent (APGD) \n",
        "\n",
        "for \n",
        "- linear regression\n",
        "- logistic regression \n",
        "\n",
        "models.\n",
        "\n",
        "The proximal operators we will use are the \n",
        "- L2 penalization\n",
        "- L1 penalization\n",
        "\n",
        "## VERY IMPORTANT\n",
        "\n",
        "- This work **must be done by pairs of students**.\n",
        "- **Each** student must send their work **before the 6th of october at 21:59**, using the **moodle platform**.\n",
        "- This means that **each student in the pair sends the same file**\n",
        "- On the moodle, in the \"Optimization for Data Science\" course, you have a \"devoir\" section called **Rendu TP du 30 septembre 2019**. This is where you submit your jupyter notebook file. \n",
        "- The **name of the file must be** constructed as in the next cell\n",
        "\n",
        "# Gentle reminder: no evaluation if you don't respect this EXACTLY\n",
        "\n",
        "### How to construct the name of your file"
      ]
    },
    {
      "cell_type": "code",
      "metadata": {
        "id": "MQPsSNpa-Zno",
        "colab_type": "code",
        "outputId": "a0091a4a-da50-4c16-d440-4b4b7323d548",
        "colab": {
          "base_uri": "https://localhost:8080/",
          "height": 35
        }
      },
      "source": [
        "# Change here using YOUR first and last names\n",
        "fn1 = \"manon\"\n",
        "ln1 = \"rivoire\"\n",
        "fn2 = \"alexis\"\n",
        "ln2 = \"gerbeaux\"\n",
        "\n",
        "filename = \"_\".join(map(lambda s: s.strip().lower(), \n",
        "                        [\"lab1\", ln1, fn1, \"and\", ln2, fn2])) + \".ipynb\"\n",
        "print(filename)"
      ],
      "execution_count": 5,
      "outputs": [
        {
          "output_type": "stream",
          "text": [
            "lab1_rivoire_manon_and_gerbeaux_alexis.ipynb\n"
          ],
          "name": "stdout"
        }
      ]
    },
    {
      "cell_type": "code",
      "metadata": {
        "id": "w5IHTNye-Znv",
        "colab_type": "code",
        "colab": {}
      },
      "source": [
        "## to embed figures in the notebook\n",
        "%matplotlib inline"
      ],
      "execution_count": 0,
      "outputs": []
    },
    {
      "cell_type": "markdown",
      "metadata": {
        "id": "ZIbSGbmM-Znz",
        "colab_type": "text"
      },
      "source": [
        "## Part 0 : Introduction\n",
        "\n",
        "We'll start by generating sparse vectors and simulating data\n",
        "\n",
        "### Generating sparse coefficients"
      ]
    },
    {
      "cell_type": "code",
      "metadata": {
        "id": "uGwt_PIJ-Zn0",
        "colab_type": "code",
        "colab": {}
      },
      "source": [
        "import numpy as np\n",
        "import matplotlib.pyplot as plt\n",
        "from numpy.linalg import norm\n",
        "np.set_printoptions(precision=2)  # to have simpler print outputs with numpy"
      ],
      "execution_count": 0,
      "outputs": []
    },
    {
      "cell_type": "code",
      "metadata": {
        "scrolled": false,
        "id": "BXGGM_SG-Zn4",
        "colab_type": "code",
        "outputId": "85b888bb-953e-4672-d16f-acfeba00cce8",
        "colab": {
          "base_uri": "https://localhost:8080/",
          "height": 299
        }
      },
      "source": [
        "n_features = 50\n",
        "n_samples = 1000\n",
        "idx = np.arange(n_features)\n",
        "coefs = ((-1) ** idx) * np.exp(-idx / 10.)\n",
        "coefs[20:] = 0.\n",
        "plt.stem(coefs)\n",
        "plt.title(\"Parameters / Coefficients\")"
      ],
      "execution_count": 8,
      "outputs": [
        {
          "output_type": "execute_result",
          "data": {
            "text/plain": [
              "Text(0.5, 1.0, 'Parameters / Coefficients')"
            ]
          },
          "metadata": {
            "tags": []
          },
          "execution_count": 8
        },
        {
          "output_type": "display_data",
          "data": {
            "image/png": "[encoded data removed]",
            "text/plain": [
              "<Figure size 432x288 with 1 Axes>"
            ]
          },
          "metadata": {
            "tags": []
          }
        }
      ]
    },
    {
      "cell_type": "markdown",
      "metadata": {
        "id": "6oI999og-Zn-",
        "colab_type": "text"
      },
      "source": [
        "### Functions for the simulation of the models"
      ]
    },
    {
      "cell_type": "code",
      "metadata": {
        "id": "lvijaYBp-Zn_",
        "colab_type": "code",
        "colab": {}
      },
      "source": [
        "from numpy.random import multivariate_normal\n",
        "from scipy.linalg.special_matrices import toeplitz\n",
        "from numpy.random import randn\n",
        "\n",
        "\n",
        "def simu_linreg(coefs, n_samples=1000, corr=0.5):\n",
        "    \"\"\"Simulation of a linear regression model\n",
        "    \n",
        "    Parameters\n",
        "    ----------\n",
        "    coefs : `numpy.array`, shape (n_features,)\n",
        "        Coefficients of the model\n",
        "    \n",
        "    n_samples : `int`, default=1000\n",
        "        Number of samples to simulate\n",
        "    \n",
        "    corr : `float`, default=0.5\n",
        "        Correlation of the features\n",
        "\n",
        "    Returns\n",
        "    -------\n",
        "    A : `numpy.ndarray`, shape (n_samples, n_features)\n",
        "        Simulated features matrix. It samples of a centered Gaussian \n",
        "        vector with covariance given by the Toeplitz matrix\n",
        "    \n",
        "    b : `numpy.array`, shape (n_samples,)\n",
        "        Simulated labels\n",
        "    \"\"\"\n",
        "    # Construction of a covariance matrix\n",
        "    cov = toeplitz(corr ** np.arange(0, n_features))\n",
        "    # Simulation of features\n",
        "    A = multivariate_normal(np.zeros(n_features), cov, size=n_samples)\n",
        "    # Simulation of the labels\n",
        "    b = A.dot(coefs) + randn(n_samples)\n",
        "    return A, b\n",
        "\n",
        "def sigmoid(t):\n",
        "    \"\"\"Sigmoid function\"\"\"\n",
        "    return 1. / (1. + np.exp(-t))\n",
        "\n",
        "def simu_logreg(coefs, n_samples=1000, corr=0.5):\n",
        "    \"\"\"Simulation of a logistic regression model\n",
        "    \n",
        "    Parameters\n",
        "    ----------\n",
        "    coefs : `numpy.array`, shape (n_features,)\n",
        "        Coefficients of the model\n",
        "    \n",
        "    n_samples : `int`, default=1000\n",
        "        Number of samples to simulate\n",
        "    \n",
        "    corr : `float`, default=0.5\n",
        "        Correlation of the features\n",
        "\n",
        "    Returns\n",
        "    -------\n",
        "    A : `numpy.ndarray`, shape (n_samples, n_features)\n",
        "        Simulated features matrix. It samples of a centered Gaussian \n",
        "        vector with covariance given by the Toeplitz matrix\n",
        "    \n",
        "    b : `numpy.array`, shape (n_samples,)\n",
        "        Simulated labels\n",
        "    \"\"\"\n",
        "    cov = toeplitz(corr ** np.arange(0, n_features))\n",
        "    A = multivariate_normal(np.zeros(n_features), cov, size=n_samples)\n",
        "    p = sigmoid(A.dot(coefs))\n",
        "    b = np.random.binomial(1, p, size=n_samples)\n",
        "    b = 2 * b - 1\n",
        "    return A, b"
      ],
      "execution_count": 0,
      "outputs": []
    },
    {
      "cell_type": "markdown",
      "metadata": {
        "id": "T-hdb8tA-ZoD",
        "colab_type": "text"
      },
      "source": [
        "## Generate the data"
      ]
    },
    {
      "cell_type": "code",
      "metadata": {
        "id": "5DLGHOuw-ZoE",
        "colab_type": "code",
        "colab": {}
      },
      "source": [
        "A, b = simu_linreg(coefs);\n",
        "# print(\"A : \\n\", A)\n",
        "# print(\"b : \\n\", b)\n",
        "# A, b = simu_logreg(coefs);  # uncomment when you want to test logistic regression\n",
        "# print(\"A : \\n\", A)\n",
        "# print(\"b : \\n\", b)"
      ],
      "execution_count": 0,
      "outputs": []
    },
    {
      "cell_type": "markdown",
      "metadata": {
        "id": "hweBulEj-ZoI",
        "colab_type": "text"
      },
      "source": [
        "## Part 1 : Proximal operators"
      ]
    },
    {
      "cell_type": "markdown",
      "metadata": {
        "id": "Ow4NcuvY-ZoJ",
        "colab_type": "text"
      },
      "source": [
        "We remind that the proximal operator of a function $R$ is given by:\n",
        "\n",
        "$$\n",
        "\\text{prox}_{\\lambda\\,R}(x) = \\arg\\min_z \\left\\{ \\frac{1}{2} \\Vert x - z\\Vert_2^2 + \\lambda \\,R(z) \\right\\}.\n",
        "$$\n",
        "\n",
        "\n",
        "We have in mind to use the following cases\n",
        "\n",
        "- L2 penalization: $\\lambda\\, R(z) = \\frac{\\lambda}{2} \\|z\\|_2^2$\n",
        "- L1 penalization: $\\lambda\\, R(z) = \\lambda\\|z|\\|_1$\n",
        "\n",
        "where $\\lambda \\geq 0$ is a regularization parameter."
      ]
    },
    {
      "cell_type": "markdown",
      "metadata": {
        "id": "-VMevFwO-ZoL",
        "colab_type": "text"
      },
      "source": [
        "<div class=\"alert alert-success\">\n",
        "    <b>Questions</b>:\n",
        "     <ul>\n",
        "      <li>Code a function that computes $\\lambda \\, R(x)$ in both cases and $\\text{prox}_{\\lambda\\, R}(x)$ for L2 and  L1 penalization (use the slides of the first course to get the formulas), using the prototypes given below</li>\n",
        "     <li>Hint: for the prox of the L1 norm you can either use the formula from the course or rewrite it with np.max and np.sign functions\n",
        "    </li>\n",
        "      <li>Visualize the identity function and the proximity operators of the L2 and L1 on the real axis\n",
        "    </li>\n",
        "    </ul>\n",
        "</div>"
      ]
    },
    {
      "cell_type": "code",
      "metadata": {
        "id": "11v2c9IV-ZoM",
        "colab_type": "code",
        "colab": {}
      },
      "source": [
        "def prox_L1(x, lmbd):\n",
        "    \"\"\"Proximal operator for the L1 at x\"\"\"\n",
        "    z = np.sign(x)*np.maximum(np.abs(x)-lmbd,0)\n",
        "    return z\n",
        "\n",
        "def L1_norm(x, lmbd):\n",
        "    \"\"\"Value of the L1 penalization at x\"\"\"\n",
        "    return lmbd*np.linalg.norm(x,1)\n",
        "\n",
        "def prox_L2(x, lmbd):\n",
        "    \"\"\"Proximal operator for the L2 at x\"\"\"\n",
        "    z = x/(lmbd + 1)\n",
        "    return z\n",
        "\n",
        "def L2_norm(x, lmbd):\n",
        "    \"\"\"Value of the L2 penalization at x\"\"\"\n",
        "    return (lmbd/2)*np.linalg.norm(x,2)**2"
      ],
      "execution_count": 0,
      "outputs": []
    },
    {
      "cell_type": "code",
      "metadata": {
        "id": "wTWcHV1W-ZoQ",
        "colab_type": "code",
        "outputId": "e3bb2ebb-7571-43c3-e948-7fcaf39cc75c",
        "colab": {
          "base_uri": "https://localhost:8080/",
          "height": 712
        }
      },
      "source": [
        "# Plots TODO\n",
        "x = np.arange(-5,5)\n",
        "lmbd = 1\n",
        "print(\"prox L1 : \\n\", prox_L1(x,lmbd))\n",
        "print(\"L1 penalization : \\n\", L1_norm(x,lmbd))\n",
        "print(\"prox L2 : \\n\", prox_L2(x,lmbd))\n",
        "print(\"L2 penalization : \\n\", L2_norm(x,lmbd))\n",
        "\n",
        "plt.title(\"Prox L1\") \n",
        "plt.xlabel(\"x\") \n",
        "plt.ylabel(\"prox\") \n",
        "plt.plot(x,x,'g')\n",
        "plt.plot(x,prox_L1(x,lmbd), 'r')\n",
        "plt.show()\n",
        "plt.title(\"Prox L2\")\n",
        "plt.xlabel(\"x\")\n",
        "plt.ylabel(\"prox\")\n",
        "plt.plot(x,x,'g')\n",
        "plt.plot(x, prox_L2(x,lmbd), 'b')\n",
        "plt.show()\n"
      ],
      "execution_count": 12,
      "outputs": [
        {
          "output_type": "stream",
          "text": [
            "prox L1 : \n",
            " [-4 -3 -2 -1  0  0  0  1  2  3]\n",
            "L1 penalization : \n",
            " 25.0\n",
            "prox L2 : \n",
            " [-2.5 -2.  -1.5 -1.  -0.5  0.   0.5  1.   1.5  2. ]\n",
            "L2 penalization : \n",
            " 42.5\n"
          ],
          "name": "stdout"
        },
        {
          "output_type": "display_data",
          "data": {
            "image/png": "[encoded data removed]",
            "text/plain": [
              "<Figure size 432x288 with 1 Axes>"
            ]
          },
          "metadata": {
            "tags": []
          }
        },
        {
          "output_type": "display_data",
          "data": {
            "image/png": "[encoded data removed]",
            "text/plain": [
              "<Figure size 432x288 with 1 Axes>"
            ]
          },
          "metadata": {
            "tags": []
          }
        }
      ]
    },
    {
      "cell_type": "markdown",
      "metadata": {
        "id": "CWR5pz7I-ZoX",
        "colab_type": "text"
      },
      "source": [
        "## Visualization\n",
        "\n",
        "We are now going to visualize the effect of the proximity operators on coefficients."
      ]
    },
    {
      "cell_type": "code",
      "metadata": {
        "scrolled": false,
        "id": "DAIcdSva-ZoZ",
        "colab_type": "code",
        "outputId": "01d8e991-d64b-46fe-99dc-56ae74b75d78",
        "colab": {
          "base_uri": "https://localhost:8080/",
          "height": 301
        }
      },
      "source": [
        "x = randn(50)\n",
        "l_l1 = 1.\n",
        "l_l2 = 0.5\n",
        "\n",
        "plt.figure(figsize=(15.0, 4.0))\n",
        "plt.subplot(1, 3, 1)\n",
        "plt.stem(x)\n",
        "plt.title(\"Original parameter\", fontsize=16)\n",
        "plt.ylim([-2, 2])\n",
        "plt.subplot(1, 3, 2)\n",
        "plt.stem(prox_L1(x, lmbd=l_l1))\n",
        "plt.title(\"Proximal L1\", fontsize=16)\n",
        "plt.ylim([-2, 2])\n",
        "plt.subplot(1, 3, 3)\n",
        "plt.stem(prox_L2(x, lmbd=l_l2))\n",
        "plt.title(\"Proximal L2\", fontsize=16)\n",
        "plt.ylim([-2, 2])"
      ],
      "execution_count": 13,
      "outputs": [
        {
          "output_type": "execute_result",
          "data": {
            "text/plain": [
              "(-2, 2)"
            ]
          },
          "metadata": {
            "tags": []
          },
          "execution_count": 13
        },
        {
          "output_type": "display_data",
          "data": {
            "image/png": "[encoded data removed]",
            "text/plain": [
              "<Figure size 1080x288 with 3 Axes>"
            ]
          },
          "metadata": {
            "tags": []
          }
        }
      ]
    },
    {
      "cell_type": "markdown",
      "metadata": {
        "id": "bLikWfbZ-Zof",
        "colab_type": "text"
      },
      "source": [
        "<div class=\"alert alert-success\">\n",
        "    <b>Question</b>:\n",
        "     <ul>\n",
        "      <li>Comment what you observe (1 or 2 sentences).</li>\n",
        "    </ul>\n",
        "</div>"
      ]
    },
    {
      "cell_type": "markdown",
      "metadata": {
        "id": "8wEXqONW-Zoh",
        "colab_type": "text"
      },
      "source": [
        "## Comments \n",
        "\n",
        "Let's remember the objective : we would like to model the relationship linking the output variable y to the 50 features in such a way that the term errors (or loss) between the ground truth labels and the predicted output values might be minimized. <br/>\n",
        "In order to determine the optimal parameters of the model we have to minimize the cost function J while finding a trade-off between overfitting and underfitting. <br/>\n",
        "In order to reach this aim we add a regularization term to the cost function J which in our case is either the Lasso regularization (L1 norm) or the Ridge regularization (L2 norm). <br/>\n",
        "\n",
        "### Lasso Regularization (L1)\n",
        "\n",
        "We can realize thanks to the plots above, that the Lasso Regularization enables to obtain a sparse vector of weights. Indeed, the proximal operator is defined as follows : $sign(x)(|x| - \\lambda)_{+}$, therefore, in the case where the parameter x is lower than the regularization parameter $\\lambda$, then the given parameter x is updated to 0, whereas when the parameter x is greater than the regularization parameter $\\lambda$, then the given parameter is just shrinked by removing $\\lambda$ from it. This creates sparsity in the vector of weights. <br/>\n",
        "\n",
        "### Ridge Regularization (L2)\n",
        "\n",
        "The Ridge Regularization allows to obtain a scaled vector of weights. Indeed, the proximal operator is defined as follows : $\\frac{x}{1+s}$, therefore, the parameters x are shrinked by multiplying them by the factor $\\frac{1}{1+s}$ what creates a scaled down vector of weights."
      ]
    },
    {
      "cell_type": "markdown",
      "metadata": {
        "id": "A6wJd07r-Zoh",
        "colab_type": "text"
      },
      "source": [
        "## Part 2: Gradients\n",
        "\n",
        "The problems we want to minimize take the form:\n",
        "$$\n",
        "\\arg\\min_x f(x) + \\lambda \\,R(x)\n",
        "$$\n",
        "where $f$ is $L$-smooth and $R$ is prox friendly.\n",
        "\n",
        "Consider the following cases:\n",
        "\n",
        "**Linear regression**, where \n",
        "$$\n",
        "f(x) = \\frac{1}{2n} \\sum_{i=1}^n (b_i - a_i^\\top x)^2 = \\frac{1}{2 n} \\| b - A x \\|_2^2,\n",
        "$$\n",
        "where $n$ is the sample size, $b = [b_1 \\cdots b_n]$ is the vector of labels and $A^\\top = [a_1,\\ldots, a_n] \\in \\mathbb{R}^{d \\times n}$ is the matrix of features.\n",
        "\n",
        "**Logistic regression**, where\n",
        "$$\n",
        "f(x) = \\frac{1}{n} \\sum_{i=1}^n \\log(1 + \\exp(-b_i a_i^\\top x)),\n",
        "$$\n",
        "where $n$ is the sample size, and where labels $b_i \\in \\{ -1, 1 \\}$ for all $i$.\n",
        "\n",
        "We need to be able to compute $f$ and its gradient $\\nabla f$"
      ]
    },
    {
      "cell_type": "markdown",
      "metadata": {
        "id": "v64qDNW0-Zoj",
        "colab_type": "text"
      },
      "source": [
        "<div class=\"alert alert-success\">\n",
        "    <b>Questions</b>:\n",
        "     <ul>\n",
        "      <li>Compute on paper the gradient $\\nabla f$ of $f$ for both cases (linear and logistic regression)</li>\n",
        "      <li>Code a function that computes $f$ and its gradient $\\nabla f$ in both cases, using the prototypes below.</li>\n",
        "      <li>Check that these loss functions are correct by numerically checking their ouputs</li>\n",
        "      <li>Check that these functions are correct by numerically checking the gradient, using the function ``<a href=\"https://docs.scipy.org/doc/scipy/reference/generated/scipy.optimize.check_grad.html\">check_grad</a>`` from ``scipy.optimize``. Remark: use the functions `simu_linreg` and `simu_logreg` to simulate data according to the right model</li>\n",
        "    </ul>\n",
        "</div>"
      ]
    },
    {
      "cell_type": "code",
      "metadata": {
        "id": "qGYU5z-y-Zok",
        "colab_type": "code",
        "colab": {}
      },
      "source": [
        "n = A.shape[0]\n",
        "def loss_linreg(x):\n",
        "    \"\"\"Least squares loss\"\"\"\n",
        "    loss = (1/(2*n))*np.linalg.norm(b-np.dot(A,x),2)**2\n",
        "    return loss\n",
        "\n",
        "def grad_linreg(x):\n",
        "    \"\"\"Least squares gradient\"\"\"\n",
        "    grad = -(1/n)*np.dot(np.transpose(A),b-np.dot(A,x))\n",
        "    return grad\n",
        "\n",
        "def loss_logreg(x):\n",
        "    \"\"\"Logistic loss\"\"\"\n",
        "    loss = (1/n)*sum(np.log(1+np.exp(-b*np.dot(A,x))))\n",
        "    return loss\n",
        "\n",
        "def grad_logreg(x):\n",
        "    \"\"\"Logistic gradient\"\"\"\n",
        "    v = b*1/(1+np.exp(b*np.dot(A,x)))\n",
        "    grad = -(1/n)*np.dot(np.transpose(A),v)\n",
        "    \n",
        "    return grad\n",
        "\n",
        "# TO BE COMPLETED"
      ],
      "execution_count": 0,
      "outputs": []
    },
    {
      "cell_type": "code",
      "metadata": {
        "id": "dp3AV9aqW2Mb",
        "colab_type": "code",
        "outputId": "fe46121c-c40c-426b-9c09-f03f1d7b5867",
        "colab": {
          "base_uri": "https://localhost:8080/",
          "height": 35
        }
      },
      "source": [
        "from scipy.optimize import check_grad\n",
        "x =randn(50)\n",
        "\n",
        "A, b = simu_linreg(coefs)\n",
        "A, b = simu_logreg(coefs)\n",
        "# loss_linreg(x)\n",
        "# grad_linreg(x)\n",
        "# print(loss_linreg(x))\n",
        "# print(grad_linreg(x))\n",
        "# loss_logreg(x)\n",
        "# grad_logreg(x)\n",
        "# print(grad_logreg(x))\n",
        "# print(loss_logreg(x))\n",
        "\n",
        "check_grad(loss_linreg, grad_linreg, x)\n",
        "check_grad(loss_logreg, grad_logreg, x)"
      ],
      "execution_count": 15,
      "outputs": [
        {
          "output_type": "execute_result",
          "data": {
            "text/plain": [
              "1.0281999558192114e-06"
            ]
          },
          "metadata": {
            "tags": []
          },
          "execution_count": 15
        }
      ]
    },
    {
      "cell_type": "markdown",
      "metadata": {
        "id": "ios2z93p-Zoo",
        "colab_type": "text"
      },
      "source": [
        "## Part 3: Solvers"
      ]
    },
    {
      "cell_type": "markdown",
      "metadata": {
        "id": "mGo5F3S_-Zop",
        "colab_type": "text"
      },
      "source": [
        "We know have a function to compute $f$, $\\nabla f$ and $R$ and $\\text{prox}_{\\lambda R}$. \n",
        "\n",
        "We want now to code the PGD and APGD solvers to minimize\n",
        "\n",
        "$$\n",
        "\\arg\\min_x f(x) + \\lambda \\, R(x)\n",
        "$$\n",
        "\n",
        "where $\\lambda >0$ is the regularization parameter"
      ]
    },
    {
      "cell_type": "markdown",
      "metadata": {
        "id": "5a0rGOHx-Zoq",
        "colab_type": "text"
      },
      "source": [
        "<div class=\"alert alert-success\">\n",
        "    <b>Questions</b>:\n",
        "     <ul>\n",
        "      <li>Compute on paper the Lipschitz constant for linear and logistic regression losses. Remark: for the logistic regression, you should try to upper bound the second derivative</li>\n",
        "      <li>Hint: the computation of the Lipschitz constant for the linear regression should be easy (cf course).\n",
        "         But the computation of the Lipschitz constant for the logistic regression may be trickier. \n",
        "                 You may want to write $f$ as $f(x) = \\frac{1}{n} \\sum_i \\phi(b_i a_i^\\top x)$, and then show that $|\\phi''| \\leq \\frac{1}{4}$.</li>\n",
        "      <li>Implement functions that compute the Lipschitz constant for both cases (linear and logistic regression). Note that the operator norm of a matrix can \n",
        "  be computed using the function <a href=\"https://docs.scipy.org/doc/numpy/reference/generated/numpy.linalg.norm.html\">numpy.linalg.norm</a> (Be careful with the norm you chose! Read the documentation\n",
        "  of the function)</li>\n",
        "      <li>Finish the functions `PGD` and `APGD` below that implements the \n",
        "  PGD (Proximal Gradient Descent) and APGD (Accelerated Proximal \n",
        "  Gradient Descent) algorithms.\n",
        "       Note: PGD is sometimes called ISTA (Iterative Soft Thresholding Algorithm) and APGD is sometimes called FISTA (Fast ISTA)</li> \n",
        "    </ul>\n",
        "</div>"
      ]
    },
    {
      "cell_type": "code",
      "metadata": {
        "id": "rui_M8QV-Zor",
        "colab_type": "code",
        "colab": {}
      },
      "source": [
        "# TO BE COMPLETED\n",
        "\n",
        "# Calculate the smoothness constant for least squares loss\n",
        "def smoothness_const_linreg(A):\n",
        "    \"\"\"Lipschitz constant for least squares loss\"\"\"    \n",
        "    L = (1/n)*(np.linalg.norm(A, ord=2))**2\n",
        "    return L\n",
        "  \n",
        "# Calculate the smoothness constant for logistic loss    \n",
        "def smoothness_const_logreg(A):\n",
        "    \"\"\"Lipschitz constant for logistic loss\"\"\"    \n",
        "    L = (1/(4*n))*(np.linalg.norm(A, ord=2))**2\n",
        "    return L\n",
        "    \n",
        "def PGD(x0, f, grad_f, R, prox_R, step, lmbd=0., n_iter=50,\n",
        "         x_true=coefs, verbose=True):\n",
        "    \"\"\"Proximal gradient descent algorithm\"\"\"\n",
        "    x = x0.copy()\n",
        "    n_samples, n_features = A.shape\n",
        "\n",
        "    # estimation error history\n",
        "    errors = []\n",
        "    # objective history\n",
        "    objectives = []\n",
        "    # Current estimation error\n",
        "    err = norm(x - x_true) / norm(x_true)\n",
        "    errors.append(err)\n",
        "    # Current objective\n",
        "    obj = f(x) + R(x, lmbd)\n",
        "    objectives.append(obj)\n",
        "    if verbose:\n",
        "        print(\"Launching PGD solver...\")\n",
        "        print(' | '.join([name.center(8) for name in [\"it\", \"obj\", \"err\"]]))\n",
        "    for k in range(n_iter + 1):\n",
        "\n",
        "        x_new = prox_R(x - step*grad_f(x), lmbd)\n",
        "        x = x_new\n",
        "        \n",
        "        obj = f(x) + R(x, lmbda)\n",
        "        err = norm(x - x_true) / norm(x_true)\n",
        "        errors.append(err)\n",
        "        objectives.append(obj)\n",
        "        if k % 10 == 0 and verbose:\n",
        "            print(' | '.join([(\"%d\" % k).rjust(8), \n",
        "                              (\"%.2e\" % obj).rjust(8), \n",
        "                              (\"%.2e\" % err).rjust(8)]))\n",
        "    return x, objectives, errors"
      ],
      "execution_count": 0,
      "outputs": []
    },
    {
      "cell_type": "code",
      "metadata": {
        "id": "dnSPbJe8-Zou",
        "colab_type": "code",
        "colab": {}
      },
      "source": [
        "# TO BE COMPLETED\n",
        "\n",
        "def APGD(x0, f, grad_f, R, prox_R, step, lmbd=0., n_iter=50,\n",
        "         x_true=coefs, verbose=True):\n",
        "    \"\"\"Accelerated Proximal gradient descent algorithm\"\"\"\n",
        "    x = x0.copy()\n",
        "    x_new = x0.copy()\n",
        "    # An extra variable is required for APGD\n",
        "    z = x0.copy()\n",
        "    n_samples, n_features = A.shape\n",
        "    # estimation error history\n",
        "    errors = []\n",
        "    # objective history\n",
        "    objectives = []\n",
        "    # Current estimation error\n",
        "    err = norm(x - x_true) / norm(x_true)\n",
        "    errors.append(err)\n",
        "    # Current objective\n",
        "    obj = f(x) + R(x, lmbd)\n",
        "    objectives.append(obj)\n",
        "    t = 1.\n",
        "    t_new = 1.    \n",
        "    if verbose:\n",
        "        print(\"Launching APGD solver...\")\n",
        "        print(' | '.join([name.center(8) for name in [\"it\", \"obj\", \"err\"]]))\n",
        "    for k in range(n_iter + 1):\n",
        "\n",
        "        x_new = prox_R(x - step*grad_f(z), lmbd)\n",
        "        t_new = (1+ np.sqrt(1+4*t**2))/2\n",
        "        z = (x_new - ((t-1)/t_new)*(x_new/x))\n",
        "        t = t_new\n",
        "        x = x_new\n",
        "        \n",
        "        obj = f(x) + R(x, lmbd)\n",
        "        err = norm(x - x_true) / norm(x_true)\n",
        "        errors.append(err)\n",
        "        objectives.append(obj)\n",
        "        if k % 10 == 0 and verbose:\n",
        "            print(' | '.join([(\"%d\" % k).rjust(8), \n",
        "                              (\"%.2e\" % obj).rjust(8), \n",
        "                              (\"%.2e\" % err).rjust(8)]))\n",
        "    return x, np.array(objectives), np.array(errors)"
      ],
      "execution_count": 0,
      "outputs": []
    },
    {
      "cell_type": "markdown",
      "metadata": {
        "id": "UubSmJmW-Zox",
        "colab_type": "text"
      },
      "source": [
        "## Algorithms comparison and numerical experiments"
      ]
    },
    {
      "cell_type": "code",
      "metadata": {
        "id": "I-yOr73n-Zoy",
        "colab_type": "code",
        "colab": {}
      },
      "source": [
        "# Some definitions before launching the algorithms\n",
        "x0 = np.zeros(n_features)\n",
        "n_iter = 40\n",
        "lmbd = 1e-2"
      ],
      "execution_count": 0,
      "outputs": []
    },
    {
      "cell_type": "markdown",
      "metadata": {
        "id": "I_oDKrxP-Zo1",
        "colab_type": "text"
      },
      "source": [
        "<div class=\"alert alert-success\">\n",
        "    <b>Questions</b>:\n",
        "     <ul>\n",
        "      <li>Compute a precise minimum and a precise minimizer of the problem (linear regression or logistic regression) using the parameters given above. This can be done by using APGD with 1000 iterations and setting `x_true` to `coeffs`.</li>\n",
        "    <li>Compare the convergences of PGD and APGD, in terms of distance to the minimum and \n",
        "  distance to the minimizer you have computed. Do your plots using a logarithmic scale of the y-axis.</li>\n",
        "    </ul>\n",
        "</div>"
      ]
    },
    {
      "cell_type": "code",
      "metadata": {
        "id": "7PdXldjf-Zo1",
        "colab_type": "code",
        "colab": {
          "base_uri": "https://localhost:8080/",
          "height": 277
        },
        "outputId": "a268300e-b32b-454b-fb6d-851660de3e8b"
      },
      "source": [
        "A, b = simu_linreg(coefs)\n",
        "L = smoothness_const_linreg(A)\n",
        "x_min, obj_min, err_min = APGD(x0=x0, f = loss_linreg, grad_f = grad_linreg, R = L2_norm, prox_R = prox_L2, step = L, lmbd=lmbd, n_iter=n_iter,\n",
        "         x_true=coefs, verbose=True)\n",
        "print(\"Minimum : \\n\", obj_min[-1])\n",
        "print(\"Minimizers : \\n\", x_min)"
      ],
      "execution_count": 63,
      "outputs": [
        {
          "output_type": "stream",
          "text": [
            "Launching APGD solver...\n",
            "   it    |   obj    |   err   \n",
            "       0 | 3.70e+00 | 8.55e-01\n",
            "      10 |      nan |      nan\n",
            "      20 |      nan |      nan\n",
            "      30 |      nan |      nan\n",
            "      40 |      nan |      nan\n",
            "Minimum : \n",
            " nan\n",
            "Minimizers : \n",
            " [nan nan nan nan nan nan nan nan nan nan nan nan nan nan nan nan nan nan\n",
            " nan nan nan nan nan nan nan nan nan nan nan nan nan nan nan nan nan nan\n",
            " nan nan nan nan nan nan nan nan nan nan nan nan nan nan]\n"
          ],
          "name": "stdout"
        },
        {
          "output_type": "stream",
          "text": [
            "/usr/local/lib/python3.6/dist-packages/ipykernel_launcher.py:29: RuntimeWarning: divide by zero encountered in true_divide\n",
            "/usr/local/lib/python3.6/dist-packages/ipykernel_launcher.py:29: RuntimeWarning: invalid value encountered in multiply\n"
          ],
          "name": "stderr"
        }
      ]
    },
    {
      "cell_type": "markdown",
      "metadata": {
        "id": "mO4A_NJe-Zo5",
        "colab_type": "text"
      },
      "source": [
        "<div class=\"alert alert-success\">\n",
        "    <b>EXERCISE</b>:\n",
        "     <ul>\n",
        "      <li>Compare the solution you obtain with ista and fista with the true parameter `coefs` of\n",
        "  the model. This can be done with `plt.stem` plots.</li>\n",
        "    <li>In linear regression and logistic regression, study the influence of the correlation \n",
        "  of the features on the performance of the optimization algorithms. Explain.</li>\n",
        "    <li>In linear regression and logistic regression, study the influence of the level of L2 \n",
        "  penalization on the performance of the optimization algorithms. Explain.</li>\n",
        "    <li>In linear regression and logistic regression, compare the performance of the optimization\n",
        "  algorithms for L2 and L1 penalizations. Explain</li>\n",
        "    </ul>\n",
        "</div>"
      ]
    },
    {
      "cell_type": "code",
      "metadata": {
        "id": "K0h3w5B5-Zo6",
        "colab_type": "code",
        "colab": {}
      },
      "source": [
        ""
      ],
      "execution_count": 0,
      "outputs": []
    }
  ]
}