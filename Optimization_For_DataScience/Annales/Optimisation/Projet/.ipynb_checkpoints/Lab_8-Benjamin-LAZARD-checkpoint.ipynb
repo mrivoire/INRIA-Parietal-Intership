{
 "cells": [
  {
   "cell_type": "code",
   "execution_count": 1,
   "metadata": {},
   "outputs": [],
   "source": [
    "import os\n",
    "import pandas as pd\n",
    "import networkx as nx\n",
    "import numpy as np\n",
    "import matplotlib.pyplot as plt\n",
    "import ndlib.models.epidemics.ThresholdModel as th\n",
    "import operator\n",
    "\n",
    "os.chdir(\"data\")\n",
    "\n",
    "\n",
    "\"\"\"\n",
    "Part 1\n",
    "\"\"\"\n",
    "G = nx.read_weighted_edgelist(\"digg_friends_subset.edgelist\",create_using=nx.DiGraph())\n",
    "\n",
    "top=20\n",
    "\n",
    "indegree = sorted(G.in_degree(), key = lambda x:x[1], reverse=True)\n",
    "degree = sorted(G.degree(), key = lambda x:x[1], reverse=True)\n",
    "top_indegree = [i for i, v in indegree[0:top]]\n",
    "top_degree = [i for i, v in degree[0:top]]"
   ]
  },
  {
   "cell_type": "code",
   "execution_count": 2,
   "metadata": {},
   "outputs": [
    {
     "name": "stderr",
     "output_type": "stream",
     "text": [
      "C:\\Users\\benja\\Anaconda3\\envs\\benJ_1\\lib\\site-packages\\networkx\\drawing\\nx_pylab.py:611: MatplotlibDeprecationWarning: isinstance(..., numbers.Number)\n",
      "  if cb.is_numlike(alpha):\n"
     ]
    },
    {
     "data": {
      "image/png": "[encoded data removed]",
      "text/plain": [
       "<Figure size 432x288 with 1 Axes>"
      ]
     },
     "metadata": {},
     "output_type": "display_data"
    }
   ],
   "source": [
    "pg = sorted(nx.pagerank(G.to_undirected()).items(), key= lambda x:x[1], reverse=True)\n",
    "dipg = sorted(nx.pagerank(G).items(), key=lambda x:x[1], reverse=True)\n",
    "top_pg = [i for i,v in pg[0:top]]\n",
    "top_dipg = [i for i,v in dipg[0:top]]\n",
    "\n",
    "#--------------------------------- 1.3\n",
    "kcores = sorted(nx.core_number(G).items(), key=lambda x:x[1], reverse=True)\n",
    "top_kcores = [i for i,v in kcores[0:top]]\n",
    "\n",
    "#--------------------------------- 1.4\n",
    "def clean_graph(G,threshold=300):\n",
    "    to_plot = G.copy()\n",
    "    to_remove = [i for i in list(to_plot.nodes()) if to_plot.degree(i) < threshold]\n",
    "    to_plot.remove_nodes_from(to_remove)\n",
    "    return to_plot\n",
    "\n",
    "to_plot = clean_graph(G)\n",
    "\n",
    "#------------ Filter the top 10 to keep nodes inside the plot\n",
    "plt_kcores = [n for n in top_kcores if n in to_plot.nodes()]\n",
    "plt_indegree = [n for n in top_indegree if n in to_plot.nodes()]\n",
    "plt_dipg = [n for n in top_dipg if n in to_plot.nodes()]\n",
    "\n",
    "#------------ Plot the network\n",
    "pos = nx.spring_layout(to_plot)\n",
    "nx.draw(to_plot,pos,nodelist= to_plot.nodes(),alpha=0.7, node_size=2,node_color=\"black\",arrows =False,width=0.001)"
   ]
  },
  {
   "cell_type": "code",
   "execution_count": 3,
   "metadata": {},
   "outputs": [
    {
     "data": {
      "image/png": "[encoded data removed]",
      "text/plain": [
       "<Figure size 432x288 with 1 Axes>"
      ]
     },
     "metadata": {
      "needs_background": "light"
     },
     "output_type": "display_data"
    }
   ],
   "source": [
    "#------------ Plot the chosen nodes with different colors\n",
    "_ = nx.draw_networkx_nodes(to_plot,pos,nodelist=plt_dipg,node_color='b',node_size=20)\n",
    "_ = nx.draw_networkx_nodes(to_plot,pos,nodelist=plt_indegree,node_color='g',node_size=20)\n",
    "_ = nx.draw_networkx_nodes(to_plot,pos,nodelist=plt_kcores,node_color='r',node_size=20)\n",
    "plt.show()"
   ]
  },
  {
   "cell_type": "code",
   "execution_count": 7,
   "metadata": {},
   "outputs": [
    {
     "name": "stdout",
     "output_type": "stream",
     "text": [
      "printing spreading\n",
      "indegree:  3843\n",
      "dipg:  3772\n",
      "kcores:  3941\n",
      "\n",
      "printing dni\n",
      "indegree:  2192\n",
      "dipg:  2242\n",
      "kcores:  1068\n"
     ]
    }
   ],
   "source": [
    "#------------------------------- 1\n",
    "#2 Run simulation to evaluate the chosen seeds\n",
    "import ndlib.models.ModelConfig as mc\n",
    "import ndlib.models.epidemics.ThresholdModel as th\n",
    "\n",
    "def simulate_spreading(G,seed_set,num_steps=3,threshold = 0.01):\n",
    "    \"\"\"\n",
    "    Given the graph and the seed set, compute the number of infected nodes after the end of a spreading process\n",
    "    \"\"\"\n",
    "    th_model = th.ThresholdModel(G)\n",
    "    config = mc.Configuration()\n",
    "    for n in G.nodes():\n",
    "        config.add_node_configuration(\"threshold\",n,threshold)\n",
    "    config.add_model_initial_configuration(\"Infected\", seed_set)\n",
    "    th_model.set_initial_status(config)\n",
    "    iterations = th_model.iteration_bunch(num_steps) \n",
    "    return iterations[num_steps-1][\"node_count\"][1]\n",
    "\n",
    "# Call simulate_spreading for all sets\n",
    "print(\"printing spreading\")\n",
    "print(\"indegree: \", simulate_spreading(G, plt_indegree))\n",
    "print(\"dipg: \", simulate_spreading(G, plt_dipg))\n",
    "print(\"kcores: \", simulate_spreading(G, plt_kcores))\n",
    "\n",
    "#------------------------------- 2\n",
    "# Load diffusion cascades \n",
    "f = open(\"digg_votes_subset.txt\",\"r\")\n",
    "node_cascades = {}\n",
    "for l in f:\n",
    "    parts = l.replace(\"\\n\",\"\").split(\",\")\n",
    "    starter = parts[0]\n",
    "    if(starter not in node_cascades):\n",
    "        node_cascades[starter] = []\n",
    "    node_cascades[starter].append(\",\".join(parts[1:len(parts)]))\n",
    "f.close()\n",
    "\n",
    "    \n",
    "# Compute DNI\n",
    "def dni(node_cascades,seed_set):\n",
    "    \"\"\"\n",
    "    Measure the number of distinct nodes in the cascades started by the seed set\n",
    "    \"\"\"\n",
    "    influence_spread = set()\n",
    "    for s in seed_set:\n",
    "        if s in node_cascades:\n",
    "            for c in node_cascades[s]:\n",
    "                influence_spread = influence_spread.union(set(c.split(\",\")))\n",
    "    return len(influence_spread)\n",
    "\n",
    "        \n",
    "#Call dni for all sets\n",
    "print(\"\\nprinting dni\")\n",
    "print(\"indegree: \", dni(node_cascades, plt_indegree))\n",
    "print(\"dipg: \", dni(node_cascades, plt_dipg))\n",
    "print(\"kcores: \", dni(node_cascades, plt_kcores))"
   ]
  },
  {
   "cell_type": "code",
   "execution_count": 8,
   "metadata": {},
   "outputs": [
    {
     "name": "stdout",
     "output_type": "stream",
     "text": [
      "printing spreading\n",
      "greedy set:  3868\n",
      "kcores:  3922\n"
     ]
    }
   ],
   "source": [
    "# Implement Greedy\n",
    "def greedy_algorithm(G, selected_nodes, size):\n",
    "    \"\"\"\n",
    "    Greedy influence maximization algorithm (Kempe et all at 2003)\n",
    "    \"\"\"\n",
    "    s = set()\n",
    "    while(len(s)<size):\n",
    "        max = 0\n",
    "        for i in selected_nodes:\n",
    "            seed_set = s.union(i)\n",
    "            tmp = simulate_spreading(G, seed_set)\n",
    "            if tmp > max:\n",
    "                max = tmp\n",
    "                arg_max = i \n",
    "        s.add(arg_max)\n",
    "        selected_nodes.remove(arg_max)\n",
    "    return s\n",
    "to_plot = clean_graph(G,850)\n",
    "\n",
    "top=10\n",
    "\n",
    "#------- Seed sets for comparison\n",
    "top_indegree = [n for n,v in indegree[0:top]]\n",
    "top_degree = [n for n,v in degree[0:top]]\n",
    "top_pg = [n for n,v in pg[0:top]]\n",
    "top_dipg = [n for n,v in dipg[0:top]]\n",
    "top_kcores = [n for n,v in kcores[0:top]]\n",
    "\n",
    "#------- 1st comparison (with simulate_spreading)\n",
    "greedy_set = greedy_algorithm(G,list(to_plot.nodes()),top)\n",
    "print(\"printing spreading\")\n",
    "print(\"greedy set: \", simulate_spreading(G, greedy_set))\n",
    "print(\"kcores: \", simulate_spreading(G, top_kcores))"
   ]
  },
  {
   "cell_type": "code",
   "execution_count": 10,
   "metadata": {},
   "outputs": [
    {
     "name": "stdout",
     "output_type": "stream",
     "text": [
      "printing dni\n"
     ]
    },
    {
     "ename": "AttributeError",
     "evalue": "'dict' object has no attribute 'nodes'",
     "output_type": "error",
     "traceback": [
      "\u001b[1;31m---------------------------------------------------------------------------\u001b[0m",
      "\u001b[1;31mAttributeError\u001b[0m                            Traceback (most recent call last)",
      "\u001b[1;32m<ipython-input-10-0ed5d0ac2886>\u001b[0m in \u001b[0;36m<module>\u001b[1;34m\u001b[0m\n\u001b[0;32m      1\u001b[0m \u001b[1;31m#------- 2nd comparison (with dni)\u001b[0m\u001b[1;33m\u001b[0m\u001b[1;33m\u001b[0m\u001b[0m\n\u001b[0;32m      2\u001b[0m \u001b[0mprint\u001b[0m\u001b[1;33m(\u001b[0m\u001b[1;34m\"printing dni\"\u001b[0m\u001b[1;33m)\u001b[0m\u001b[1;33m\u001b[0m\u001b[0m\n\u001b[1;32m----> 3\u001b[1;33m \u001b[0mgreedy_set\u001b[0m \u001b[1;33m=\u001b[0m \u001b[0mgreedy_algorithm\u001b[0m\u001b[1;33m(\u001b[0m\u001b[0mnode_cascades\u001b[0m\u001b[1;33m,\u001b[0m \u001b[0mlist\u001b[0m\u001b[1;33m(\u001b[0m\u001b[0mto_plot\u001b[0m\u001b[1;33m.\u001b[0m\u001b[0mnodes\u001b[0m\u001b[1;33m(\u001b[0m\u001b[1;33m)\u001b[0m\u001b[1;33m)\u001b[0m\u001b[1;33m,\u001b[0m\u001b[0mtop\u001b[0m\u001b[1;33m)\u001b[0m\u001b[1;33m\u001b[0m\u001b[0m\n\u001b[0m\u001b[0;32m      4\u001b[0m \u001b[0mprint\u001b[0m\u001b[1;33m(\u001b[0m\u001b[1;34m\"greedy set: \"\u001b[0m\u001b[1;33m,\u001b[0m \u001b[0mdni\u001b[0m\u001b[1;33m(\u001b[0m\u001b[0mnode_cascades\u001b[0m\u001b[1;33m,\u001b[0m \u001b[0mgreedy_set\u001b[0m\u001b[1;33m)\u001b[0m\u001b[1;33m)\u001b[0m\u001b[1;33m\u001b[0m\u001b[0m\n\u001b[0;32m      5\u001b[0m \u001b[0mprint\u001b[0m\u001b[1;33m(\u001b[0m\u001b[1;34m\"top dipg: \"\u001b[0m\u001b[1;33m,\u001b[0m \u001b[0mdni\u001b[0m\u001b[1;33m(\u001b[0m\u001b[0mnode_cascades\u001b[0m\u001b[1;33m,\u001b[0m \u001b[0mtop_dipg\u001b[0m\u001b[1;33m)\u001b[0m\u001b[1;33m)\u001b[0m\u001b[1;33m\u001b[0m\u001b[0m\n",
      "\u001b[1;32m<ipython-input-8-97650bb2014e>\u001b[0m in \u001b[0;36mgreedy_algorithm\u001b[1;34m(G, selected_nodes, size)\u001b[0m\n\u001b[0;32m      9\u001b[0m         \u001b[1;32mfor\u001b[0m \u001b[0mi\u001b[0m \u001b[1;32min\u001b[0m \u001b[0mselected_nodes\u001b[0m\u001b[1;33m:\u001b[0m\u001b[1;33m\u001b[0m\u001b[0m\n\u001b[0;32m     10\u001b[0m             \u001b[0mseed_set\u001b[0m \u001b[1;33m=\u001b[0m \u001b[0ms\u001b[0m\u001b[1;33m.\u001b[0m\u001b[0munion\u001b[0m\u001b[1;33m(\u001b[0m\u001b[0mi\u001b[0m\u001b[1;33m)\u001b[0m\u001b[1;33m\u001b[0m\u001b[0m\n\u001b[1;32m---> 11\u001b[1;33m             \u001b[0mtmp\u001b[0m \u001b[1;33m=\u001b[0m \u001b[0msimulate_spreading\u001b[0m\u001b[1;33m(\u001b[0m\u001b[0mG\u001b[0m\u001b[1;33m,\u001b[0m \u001b[0mseed_set\u001b[0m\u001b[1;33m)\u001b[0m\u001b[1;33m\u001b[0m\u001b[0m\n\u001b[0m\u001b[0;32m     12\u001b[0m             \u001b[1;32mif\u001b[0m \u001b[0mtmp\u001b[0m \u001b[1;33m>\u001b[0m \u001b[0mmax\u001b[0m\u001b[1;33m:\u001b[0m\u001b[1;33m\u001b[0m\u001b[0m\n\u001b[0;32m     13\u001b[0m                 \u001b[0mmax\u001b[0m \u001b[1;33m=\u001b[0m \u001b[0mtmp\u001b[0m\u001b[1;33m\u001b[0m\u001b[0m\n",
      "\u001b[1;32m<ipython-input-7-0daf507fa643>\u001b[0m in \u001b[0;36msimulate_spreading\u001b[1;34m(G, seed_set, num_steps, threshold)\u001b[0m\n\u001b[0;32m      8\u001b[0m     \u001b[0mGiven\u001b[0m \u001b[0mthe\u001b[0m \u001b[0mgraph\u001b[0m \u001b[1;32mand\u001b[0m \u001b[0mthe\u001b[0m \u001b[0mseed\u001b[0m \u001b[0mset\u001b[0m\u001b[1;33m,\u001b[0m \u001b[0mcompute\u001b[0m \u001b[0mthe\u001b[0m \u001b[0mnumber\u001b[0m \u001b[0mof\u001b[0m \u001b[0minfected\u001b[0m \u001b[0mnodes\u001b[0m \u001b[0mafter\u001b[0m \u001b[0mthe\u001b[0m \u001b[0mend\u001b[0m \u001b[0mof\u001b[0m \u001b[0ma\u001b[0m \u001b[0mspreading\u001b[0m \u001b[0mprocess\u001b[0m\u001b[1;33m\u001b[0m\u001b[0m\n\u001b[0;32m      9\u001b[0m     \"\"\"\n\u001b[1;32m---> 10\u001b[1;33m     \u001b[0mth_model\u001b[0m \u001b[1;33m=\u001b[0m \u001b[0mth\u001b[0m\u001b[1;33m.\u001b[0m\u001b[0mThresholdModel\u001b[0m\u001b[1;33m(\u001b[0m\u001b[0mG\u001b[0m\u001b[1;33m)\u001b[0m\u001b[1;33m\u001b[0m\u001b[0m\n\u001b[0m\u001b[0;32m     11\u001b[0m     \u001b[0mconfig\u001b[0m \u001b[1;33m=\u001b[0m \u001b[0mmc\u001b[0m\u001b[1;33m.\u001b[0m\u001b[0mConfiguration\u001b[0m\u001b[1;33m(\u001b[0m\u001b[1;33m)\u001b[0m\u001b[1;33m\u001b[0m\u001b[0m\n\u001b[0;32m     12\u001b[0m     \u001b[1;32mfor\u001b[0m \u001b[0mn\u001b[0m \u001b[1;32min\u001b[0m \u001b[0mG\u001b[0m\u001b[1;33m.\u001b[0m\u001b[0mnodes\u001b[0m\u001b[1;33m(\u001b[0m\u001b[1;33m)\u001b[0m\u001b[1;33m:\u001b[0m\u001b[1;33m\u001b[0m\u001b[0m\n",
      "\u001b[1;32m~\\Anaconda3\\envs\\benJ_1\\lib\\site-packages\\ndlib\\models\\epidemics\\ThresholdModel.py\u001b[0m in \u001b[0;36m__init__\u001b[1;34m(self, graph)\u001b[0m\n\u001b[0;32m     21\u001b[0m          \"\"\"\n\u001b[0;32m     22\u001b[0m         \u001b[0msuper\u001b[0m\u001b[1;33m(\u001b[0m\u001b[0mself\u001b[0m\u001b[1;33m.\u001b[0m\u001b[0m__class__\u001b[0m\u001b[1;33m,\u001b[0m \u001b[0mself\u001b[0m\u001b[1;33m)\u001b[0m\u001b[1;33m.\u001b[0m\u001b[0m__init__\u001b[0m\u001b[1;33m(\u001b[0m\u001b[0mgraph\u001b[0m\u001b[1;33m)\u001b[0m\u001b[1;33m\u001b[0m\u001b[0m\n\u001b[1;32m---> 23\u001b[1;33m         self.available_statuses = {\n\u001b[0m\u001b[0;32m     24\u001b[0m             \u001b[1;34m\"Susceptible\"\u001b[0m\u001b[1;33m:\u001b[0m \u001b[1;36m0\u001b[0m\u001b[1;33m,\u001b[0m\u001b[1;33m\u001b[0m\u001b[0m\n\u001b[0;32m     25\u001b[0m             \u001b[1;34m\"Infected\"\u001b[0m\u001b[1;33m:\u001b[0m \u001b[1;36m1\u001b[0m\u001b[1;33m\u001b[0m\u001b[0m\n",
      "\u001b[1;32m~\\Anaconda3\\envs\\benJ_1\\lib\\site-packages\\ndlib\\models\\DiffusionModel.py\u001b[0m in \u001b[0;36m__init__\u001b[1;34m(self, graph)\u001b[0m\n\u001b[0;32m     54\u001b[0m \u001b[1;33m\u001b[0m\u001b[0m\n\u001b[0;32m     55\u001b[0m     \u001b[1;32mdef\u001b[0m \u001b[0m__validate_configuration\u001b[0m\u001b[1;33m(\u001b[0m\u001b[0mself\u001b[0m\u001b[1;33m,\u001b[0m \u001b[0mconfiguration\u001b[0m\u001b[1;33m)\u001b[0m\u001b[1;33m:\u001b[0m\u001b[1;33m\u001b[0m\u001b[0m\n\u001b[1;32m---> 56\u001b[1;33m         \"\"\"\n\u001b[0m\u001b[0;32m     57\u001b[0m         \u001b[0mValidate\u001b[0m \u001b[0mthe\u001b[0m \u001b[0mconsistency\u001b[0m \u001b[0mof\u001b[0m \u001b[0ma\u001b[0m \u001b[0mConfiguration\u001b[0m \u001b[0mobject\u001b[0m \u001b[1;32mfor\u001b[0m \u001b[0mthe\u001b[0m \u001b[0mspecific\u001b[0m \u001b[0mmodel\u001b[0m\u001b[1;33m\u001b[0m\u001b[0m\n\u001b[0;32m     58\u001b[0m \u001b[1;33m\u001b[0m\u001b[0m\n",
      "\u001b[1;31mAttributeError\u001b[0m: 'dict' object has no attribute 'nodes'"
     ]
    }
   ],
   "source": [
    "#------- 2nd comparison (with dni)\n",
    "print(\"printing dni\")\n",
    "greedy_set = greedy_algorithm(node_cascades, list(to_plot.nodes()),top)\n",
    "print(\"greedy set: \", dni(node_cascades, greedy_set))\n",
    "print(\"top dipg: \", dni(node_cascades, top_dipg))"
   ]
  },
  {
   "cell_type": "code",
   "execution_count": 14,
   "metadata": {},
   "outputs": [
    {
     "name": "stdout",
     "output_type": "stream",
     "text": [
      "2.2\n"
     ]
    }
   ],
   "source": [
    "print(ndlib.models.epidemics.ThresholdModel.nx.__version__)"
   ]
  },
  {
   "cell_type": "code",
   "execution_count": null,
   "metadata": {},
   "outputs": [],
   "source": []
  },
  {
   "cell_type": "code",
   "execution_count": null,
   "metadata": {},
   "outputs": [],
   "source": []
  }
 ],
 "metadata": {
  "kernelspec": {
   "display_name": "Python 3",
   "language": "python",
   "name": "python3"
  },
  "language_info": {
   "codemirror_mode": {
    "name": "ipython",
    "version": 3
   },
   "file_extension": ".py",
   "mimetype": "text/x-python",
   "name": "python",
   "nbconvert_exporter": "python",
   "pygments_lexer": "ipython3",
   "version": "3.6.5"
  }
 },
 "nbformat": 4,
 "nbformat_minor": 2
}
