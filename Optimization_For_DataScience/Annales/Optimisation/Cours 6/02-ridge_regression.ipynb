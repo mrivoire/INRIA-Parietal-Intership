{
 "cells": [
  {
   "cell_type": "markdown",
   "metadata": {},
   "source": [
    "# Optimizing Ridge regression with linalg.solve\n",
    "\n",
    "Author: Alexandre Gramfort"
   ]
  },
  {
   "cell_type": "code",
   "execution_count": null,
   "metadata": {},
   "outputs": [],
   "source": [
    "%matplotlib inline\n",
    "import numpy as np\n",
    "import matplotlib.pyplot as plt\n",
    "from scipy import linalg"
   ]
  },
  {
   "cell_type": "code",
   "execution_count": null,
   "metadata": {},
   "outputs": [],
   "source": [
    "linalg.solve?"
   ]
  },
  {
   "cell_type": "markdown",
   "metadata": {},
   "source": [
    "When using `assume_a='pos'` the system is solved with `Cholesky` factorization (\\*POSV functions in Lapack)\n",
    "\n",
    "When using `assume_a='gen'` the system is solved with `standard Gauss pivoting` (LU) factorization (\\*GESV functions in Lapack)\n",
    "\n",
    "When using `assume_a='sym'` the system is solved with `diagonal pivoting` factorization (\\*SYSV functions in Lapack)"
   ]
  },
  {
   "cell_type": "markdown",
   "metadata": {},
   "source": [
    "## Generate simulated data\n",
    "\n",
    "$y = Xw+b+noise$"
   ]
  },
  {
   "cell_type": "code",
   "execution_count": null,
   "metadata": {},
   "outputs": [],
   "source": [
    "np.random.seed(0)\n",
    "n_samples, n_features = 100, 1\n",
    "X = np.random.randn(n_samples, n_features)\n",
    "w = np.random.randn(n_features)\n",
    "b = 10.\n",
    "y = np.dot(X, w) + b\n",
    "y += 0.3 * np.random.randn(n_samples)"
   ]
  },
  {
   "cell_type": "code",
   "execution_count": null,
   "metadata": {},
   "outputs": [],
   "source": [
    "def plot_data(w, b=0.):\n",
    "    plt.plot(X[:, 0], y, 'o', alpha=0.2)\n",
    "\n",
    "    xx = np.linspace(-2, 2, 100)\n",
    "    yy = np.dot(xx[:, np.newaxis], w) + b\n",
    "    plt.plot(xx, yy, 'k')\n",
    "    plt.grid(True)\n",
    "\n",
    "plot_data(w, b)"
   ]
  },
  {
   "cell_type": "markdown",
   "metadata": {},
   "source": [
    "## Option 1 : center X and y\n",
    "\n",
    "$\\min_w \\frac{1}{2} \\|y - Xw - b\\|^2 + \\frac{\\alpha}{2} \\|w\\|^2$\n",
    "\n",
    "solved with `linalg.solve`"
   ]
  },
  {
   "cell_type": "code",
   "execution_count": null,
   "metadata": {},
   "outputs": [],
   "source": [
    "X_mean = np.mean(X, axis=0)\n",
    "y_mean = np.mean(y)\n",
    "\n",
    "X_centered = X - X_mean\n",
    "y_centered = y - y_mean\n",
    "\n",
    "alpha = 100.\n",
    "w_hat = linalg.solve(np.dot(X_centered.T, X_centered) + alpha * np.eye(1),\n",
    "                     np.dot(X_centered.T, y), assume_a='pos')\n",
    "b_hat = - np.dot(X_mean, w_hat) + y_mean\n",
    "\n",
    "plot_data(w_hat, b_hat)"
   ]
  },
  {
   "cell_type": "markdown",
   "metadata": {},
   "source": [
    "## Option 2: add a column with ones"
   ]
  },
  {
   "cell_type": "code",
   "execution_count": null,
   "metadata": {},
   "outputs": [],
   "source": [
    "Xb = np.concatenate((X, np.ones((n_samples, 1))), axis=1)\n",
    "\n",
    "alpha = 100.\n",
    "\n",
    "# solve in dimension p + 1:\n",
    "w_hat, b_hat = linalg.solve(np.dot(Xb.T, Xb) + alpha * np.eye(2), np.dot(Xb.T, y), assume_a='pos')\n",
    "# w_hat, b_hat = linalg.solve(np.dot(Xb.T, Xb) + np.diag([alpha, 0.]), np.dot(Xb.T, y), assume_a='pos')\n",
    "plot_data(w_hat, b_hat)"
   ]
  },
  {
   "cell_type": "markdown",
   "metadata": {
    "collapsed": true
   },
   "source": [
    "**Take home message:** Pay attention not to regularize the intercept..."
   ]
  }
 ],
 "metadata": {
  "anaconda-cloud": {},
  "kernelspec": {
   "display_name": "Python 3",
   "language": "python",
   "name": "python3"
  },
  "language_info": {
   "codemirror_mode": {
    "name": "ipython",
    "version": 3
   },
   "file_extension": ".py",
   "mimetype": "text/x-python",
   "name": "python",
   "nbconvert_exporter": "python",
   "pygments_lexer": "ipython3",
   "version": "3.6.6"
  }
 },
 "nbformat": 4,
 "nbformat_minor": 1
}
