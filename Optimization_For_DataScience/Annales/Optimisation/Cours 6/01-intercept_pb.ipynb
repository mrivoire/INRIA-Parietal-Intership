{
 "cells": [
  {
   "cell_type": "markdown",
   "metadata": {},
   "source": [
    "# Solving least squares: the problem of the intercept\n",
    "\n",
    "Author: Alexandre Gramfort"
   ]
  },
  {
   "cell_type": "code",
   "execution_count": null,
   "metadata": {},
   "outputs": [],
   "source": [
    "%matplotlib inline\n",
    "import numpy as np\n",
    "import matplotlib.pyplot as plt"
   ]
  },
  {
   "cell_type": "markdown",
   "metadata": {},
   "source": [
    "## Generate simulated data\n",
    "\n",
    "$y = Xw + b + noise$"
   ]
  },
  {
   "cell_type": "code",
   "execution_count": null,
   "metadata": {},
   "outputs": [],
   "source": [
    "np.random.seed(0)\n",
    "n_samples, n_features = 100, 1\n",
    "X = np.random.randn(n_samples, n_features)\n",
    "w = np.random.randn(n_features)\n",
    "b = 10.\n",
    "y = np.dot(X, w) + b\n",
    "y += 0.3 * np.random.randn(n_samples)"
   ]
  },
  {
   "cell_type": "code",
   "execution_count": null,
   "metadata": {},
   "outputs": [],
   "source": [
    "def plot_data(w, b=0.):\n",
    "    plt.plot(X[:, 0], y, 'o', alpha=0.2)\n",
    "\n",
    "    xx = np.linspace(-2, 2, 100)\n",
    "    yy = np.dot(xx[:, np.newaxis], w) + b\n",
    "    plt.plot(xx, yy, 'k')\n",
    "    plt.grid(True)\n",
    "\n",
    "plot_data(w, b)"
   ]
  },
  {
   "cell_type": "markdown",
   "metadata": {},
   "source": [
    "Let's optimize\n",
    "\n",
    "$\\min_w \\|y - Xw\\|$"
   ]
  },
  {
   "cell_type": "code",
   "execution_count": null,
   "metadata": {},
   "outputs": [],
   "source": [
    "from scipy import optimize\n",
    "\n",
    "def f(w):\n",
    "    return y - np.dot(X, w)"
   ]
  },
  {
   "cell_type": "code",
   "execution_count": null,
   "metadata": {},
   "outputs": [],
   "source": [
    "w_hat, _ = optimize.leastsq(f, x0=0.)"
   ]
  },
  {
   "cell_type": "code",
   "execution_count": null,
   "metadata": {},
   "outputs": [],
   "source": [
    "plot_data(w_hat)"
   ]
  },
  {
   "cell_type": "markdown",
   "metadata": {},
   "source": [
    "### Let's add an intercept:\n",
    "\n",
    "$\\min_{(w,b)} \\|y - Xw - b\\|$"
   ]
  },
  {
   "cell_type": "code",
   "execution_count": null,
   "metadata": {},
   "outputs": [],
   "source": [
    "def f(w):\n",
    "    return y - np.dot(X, w[:-1]) - w[-1]\n",
    "\n",
    "(w_hat, b_hat), _ = optimize.leastsq(f, x0=[0., 0.])"
   ]
  },
  {
   "cell_type": "code",
   "execution_count": null,
   "metadata": {},
   "outputs": [],
   "source": [
    "plot_data(w_hat, b_hat)"
   ]
  },
  {
   "cell_type": "markdown",
   "metadata": {},
   "source": [
    "Better way to take care the intercept (center X and y)"
   ]
  },
  {
   "cell_type": "code",
   "execution_count": null,
   "metadata": {},
   "outputs": [],
   "source": [
    "X_mean = np.mean(X, axis=0)\n",
    "y_mean = np.mean(y)\n",
    "\n",
    "X_centered = X - X_mean\n",
    "y_centered = y - y_mean\n",
    "\n",
    "def f(w):\n",
    "    return y_centered - np.dot(X_centered, w)\n",
    "\n",
    "(w_hat,), _ = optimize.leastsq(f, x0=0.)\n",
    "\n",
    "b_hat = - np.dot(X_mean, w_hat) + y_mean\n",
    "\n",
    "plot_data(w_hat, b_hat)"
   ]
  }
 ],
 "metadata": {
  "anaconda-cloud": {},
  "kernelspec": {
   "display_name": "Python 3",
   "language": "python",
   "name": "python3"
  },
  "language_info": {
   "codemirror_mode": {
    "name": "ipython",
    "version": 3
   },
   "file_extension": ".py",
   "mimetype": "text/x-python",
   "name": "python",
   "nbconvert_exporter": "python",
   "pygments_lexer": "ipython3",
   "version": "3.6.6"
  }
 },
 "nbformat": 4,
 "nbformat_minor": 1
}
