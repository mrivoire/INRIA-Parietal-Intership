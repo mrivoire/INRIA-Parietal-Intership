{
 "cells": [
  {
   "cell_type": "markdown",
   "metadata": {},
   "source": [
    "# Non-linear Conjugate Gradient for logistic regression\n",
    "\n",
    "Author: Alexandre Gramfort"
   ]
  },
  {
   "cell_type": "code",
   "execution_count": null,
   "metadata": {},
   "outputs": [],
   "source": [
    "%matplotlib inline\n",
    "import math\n",
    "import numpy as np\n",
    "import matplotlib.pyplot as plt\n",
    "from scipy.optimize import fmin_cg"
   ]
  },
  {
   "cell_type": "code",
   "execution_count": null,
   "metadata": {},
   "outputs": [],
   "source": [
    "fmin_cg?"
   ]
  },
  {
   "cell_type": "code",
   "execution_count": null,
   "metadata": {},
   "outputs": [],
   "source": [
    "from sklearn import datasets\n",
    "from sklearn.linear_model import ridge_regression, LogisticRegression\n",
    "\n",
    "iris = datasets.load_iris()\n",
    "X = iris.data[:, :2]\n",
    "y = iris.target\n",
    "\n",
    "# Make it binary\n",
    "X = X[y < 2]\n",
    "y = y[y < 2]\n",
    "\n",
    "# add intercept column of ones\n",
    "X = np.concatenate((X, np.ones((X.shape[0], 1))), axis=1)\n",
    "\n",
    "y[y == 0] = -1"
   ]
  },
  {
   "cell_type": "code",
   "execution_count": null,
   "metadata": {},
   "outputs": [],
   "source": [
    "plt.scatter(X[y > 0, 0], X[y > 0, 1], color='r')\n",
    "plt.scatter(X[y < 0, 0], X[y < 0, 1], color='g')"
   ]
  },
  {
   "cell_type": "code",
   "execution_count": null,
   "metadata": {},
   "outputs": [],
   "source": [
    "all_pobj = []\n",
    "\n",
    "def f(w):\n",
    "    pobj = np.sum(np.log(1. + np.exp(- y * np.dot(X, w))))\n",
    "    all_pobj.append(pobj)\n",
    "    return pobj\n",
    "\n",
    "def fprime(w):\n",
    "    ywTx = y * np.dot(X, w)\n",
    "    temp = 1. / (1. + np.exp(ywTx))\n",
    "    grad = -np.dot(X.T, (y * temp))\n",
    "    return grad"
   ]
  },
  {
   "cell_type": "code",
   "execution_count": null,
   "metadata": {},
   "outputs": [],
   "source": [
    "alpha = 0.01\n",
    "n_features = X.shape[1]\n",
    "w = fmin_cg(f, np.zeros(n_features), fprime)"
   ]
  },
  {
   "cell_type": "code",
   "execution_count": null,
   "metadata": {},
   "outputs": [],
   "source": [
    "np.sign(np.dot(X, w)) - y"
   ]
  },
  {
   "cell_type": "code",
   "execution_count": null,
   "metadata": {},
   "outputs": [],
   "source": [
    "plt.plot(np.log10(all_pobj), 'r')\n",
    "plt.xlabel('Iterations')\n",
    "plt.ylabel('Primal')\n",
    "plt.show()"
   ]
  },
  {
   "cell_type": "code",
   "execution_count": null,
   "metadata": {},
   "outputs": [],
   "source": [
    "plt.scatter(X[y > 0, 0], X[y > 0, 1], color='r')\n",
    "plt.scatter(X[y < 0, 0], X[y < 0, 1], color='g')\n",
    "xx = np.linspace(4, 8, 10)\n",
    "plt.plot(xx,  - xx * w[0] / w[1] - w[2] / w[1], 'k')"
   ]
  },
  {
   "cell_type": "markdown",
   "metadata": {},
   "source": [
    "### Question : Add support for fitting an intercept and L2 regularization (warning it should not be regularized)"
   ]
  },
  {
   "cell_type": "code",
   "execution_count": null,
   "metadata": {},
   "outputs": [],
   "source": []
  }
 ],
 "metadata": {
  "anaconda-cloud": {},
  "kernelspec": {
   "display_name": "Python 3",
   "language": "python",
   "name": "python3"
  },
  "language_info": {
   "codemirror_mode": {
    "name": "ipython",
    "version": 3
   },
   "file_extension": ".py",
   "mimetype": "text/x-python",
   "name": "python",
   "nbconvert_exporter": "python",
   "pygments_lexer": "ipython3",
   "version": "3.6.6"
  }
 },
 "nbformat": 4,
 "nbformat_minor": 1
}
