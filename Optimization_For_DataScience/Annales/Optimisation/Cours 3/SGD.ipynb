{
 "cells": [
  {
   "cell_type": "markdown",
   "metadata": {},
   "source": [
    "# LAB: Stochastic Gradient Descent\n",
    "\n",
    "The objective of this lab session is to implement:\n",
    "- Stochastic gradient descent with constant stepsizes\n",
    "- Stochastic gradient descent with shrinking stepsizes\n",
    "- Stochastic gradient descent with sampling with/without replacement\n",
    "- Stochastic gradient descent with averaging \n",
    "- SAG, Stochastic average gradient descent\n",
    "\n",
    "and compare your implementation with gradient descent.\n",
    "\n",
    "Throughout the notebook you will find commented boxes like this one"
   ]
  },
  {
   "cell_type": "code",
   "execution_count": 1,
   "metadata": {},
   "outputs": [],
   "source": [
    "### TODO ###   \n",
    "# please implement blabla\n",
    "#############"
   ]
  },
  {
   "cell_type": "markdown",
   "metadata": {},
   "source": [
    "These boxes need to be replaced by code as explained in the boxes.\n",
    "Solutions will online tomorrow. Good luck!\n",
    "\n",
    "Alexandre, Pierre, Mathurin and Robert "
   ]
  },
  {
   "cell_type": "code",
   "execution_count": 14,
   "metadata": {},
   "outputs": [],
   "source": [
    "%matplotlib inline"
   ]
  },
  {
   "cell_type": "code",
   "execution_count": 15,
   "metadata": {},
   "outputs": [],
   "source": [
    "import numpy as np\n",
    "from scipy.linalg import norm\n",
    "import matplotlib.pyplot as plt"
   ]
  },
  {
   "cell_type": "markdown",
   "metadata": {},
   "source": [
    "<a id='loss'></a>\n",
    "## 1. Loss functions, gradients and step-sizes\n",
    "\n",
    "We want to minimize\n",
    "$$\n",
    "\\frac 1n \\sum_{i=1}^n \\ell(x_i^\\top w, b_i) + \\frac \\lambda 2 \\|w\\|_2^2\n",
    "$$\n",
    "where\n",
    "- $\\ell(z, b) = \\frac 12 (b - z)^2$ (least-squares regression)\n",
    "- $\\ell(z, b) = \\log(1 + \\exp(-bz))$ (logistic regression).\n",
    "\n",
    "We write it as a a minimization problem of the form\n",
    "$$\n",
    "\\frac 1n \\sum_{i=1}^n f_i(w)\n",
    "$$\n",
    "where\n",
    "$$\n",
    "f_i(w) = \\ell(x_i^\\top w, y_i) + \\frac \\lambda 2 \\|w\\|_2^2.\n",
    "$$\n",
    "\n",
    "For both cases, the gradients are\n",
    "$$\n",
    "\\nabla f_i(w) = (x_i^\\top w - y_i) x_i + \\lambda w\n",
    "$$\n",
    "and\n",
    "$$\n",
    "\\nabla f_i(w) = - \\frac{y_i}{1 + \\exp(y_i x_i^\\top w)} x_i + \\lambda w.\n",
    "$$\n",
    "\n",
    "Denote by $L$ the Lipschitz constant of $f$ and $X = [x_1, \\ldots, x_n].$\n",
    "One can see easily that for linear regression\n",
    "$$\n",
    "L = \\frac{ \\|\\mathbf X \\mathbf X^\\top \\|_{2}}{n} + \\lambda \n",
    "$$\n",
    "while for logistic regression it is\n",
    "$$\n",
    "L = \\frac{ \\|\\mathbf X \\mathbf X^\\top \\|_{2}}{4 n} + \\lambda \n",
    "$$\n",
    "For full-gradient methods, the theoretical step-size is $1 / L$."
   ]
  },
  {
   "cell_type": "markdown",
   "metadata": {},
   "source": [
    "We now introduce a class that will be used for the solvers."
   ]
  },
  {
   "cell_type": "code",
   "execution_count": 73,
   "metadata": {},
   "outputs": [],
   "source": [
    "from scipy.linalg import svd\n",
    "\n",
    "class LinReg(object):\n",
    "    \"\"\"A class for the least-squares regression with\n",
    "    Ridge penalization\"\"\"\n",
    "\n",
    "    def __init__(self, X, y, lbda):\n",
    "        self.X = X\n",
    "        self.y = y\n",
    "        self.n, self.d = X.shape\n",
    "        self.lbda = lbda\n",
    "    \n",
    "    def grad(self, w):\n",
    "        ### TODO ###   \n",
    "        # calculate the gradient of f\n",
    "        #############\n",
    "        return (self.X.dot(w) - self.y) .dot (self.X)  / (self.n) + (self.lbda * w) \n",
    "        #return np.zeros(np.size(w))\n",
    "    \n",
    "    def f(self, w):\n",
    "        return norm(self.X.dot(w) - self.y) ** 2 / (2. * self.n) + self.lbda * norm(w) ** 2 / 2.\n",
    "\n",
    "    def f_i(self, i, w):\n",
    "        return norm(self.X[i].dot(w) - self.y[i]) ** 2 / (2.) + self.lbda * norm(w) ** 2 / 2.\n",
    "    \n",
    "    def grad_i(self, i, w):\n",
    "        ### TODO ###   \n",
    "        # calculate the gradient of f_i\n",
    "        #############\n",
    "        return (self.X[i].dot(w) - self.y[i]) * self.X[i] + (self.lbda * w) \n",
    "       ### return np.zeros(np.size(w))\n",
    "\n",
    "    def lipschitz_constant(self):\n",
    "        \"\"\"Return the Lipschitz constant of the gradient\"\"\"\n",
    "        L = norm(self.X, ord=2) ** 2 / self.n + self.lbda\n",
    "        return L"
   ]
  },
  {
   "cell_type": "code",
   "execution_count": 74,
   "metadata": {},
   "outputs": [],
   "source": [
    "class LogReg(object):\n",
    "    \"\"\"A class for the logistic regression with L2 penalization\"\"\"\n",
    "\n",
    "    def __init__(self, X, y, lbda):\n",
    "        self.X = X\n",
    "        self.y = y\n",
    "        self.n, self.d = X.shape\n",
    "        self.lbda = lbda\n",
    "    \n",
    "    def grad(self, w):\n",
    "        ### TODO ###   \n",
    "        # calculate the gradient of f\n",
    "        #############\n",
    "        \n",
    "        return - (self.y * self.x) / (np.log(1. + np.exp(- bAx)) * (self.n)) + (self.lbda * w)\n",
    "        #return np.zeros(np.size(w))\n",
    "\n",
    "    def f(self, w):\n",
    "        bAx = self.y * np.dot(self.X, w)\n",
    "        return np.mean(np.log(1. + np.exp(- bAx))) + self.lbda * norm(w) ** 2 / 2.\n",
    "    \n",
    "    def f_i(self,i, w):\n",
    "        bAx_i = self.y[i] * np.dot(self.X[i], w)\n",
    "        return np.log(1. + np.exp(- bAx_i)) + self.lbda * norm(w) ** 2 / 2.\n",
    "    \n",
    "    def grad_i(self, i, w):\n",
    "        ### TODO ###   \n",
    "        # calculate the gradient of f_i\n",
    "        #############\n",
    "        bAx_i = self.y[i] * np.dot(self.X[i], w)\n",
    "        return - (self.y[i] * self.x[i]) / (np.log(1. + np.exp(- bAx_i)))  + (self.lbda * w)\n",
    "\n",
    "        \n",
    "        ###return np.zeros(np.size(w))\n",
    "\n",
    "    def lipschitz_constant(self):\n",
    "        \"\"\"Return the Lipschitz constant of the gradient\"\"\"\n",
    "        L = norm(self.X, ord=2) ** 2  / (4. * self.n) + self.lbda\n",
    "        return L"
   ]
  },
  {
   "cell_type": "markdown",
   "metadata": {},
   "source": [
    "<a id='data'></a>\n",
    "## 2. Generate a dataset\n",
    "\n",
    "We generate datasets for the least-squares and the logistic cases. First we define a function for the least-squares case."
   ]
  },
  {
   "cell_type": "code",
   "execution_count": 75,
   "metadata": {},
   "outputs": [],
   "source": [
    "from numpy.random import multivariate_normal, randn\n",
    "from scipy.linalg.special_matrices import toeplitz\n",
    "\n",
    "    \n",
    "def simu_linreg(w, n, std=1., corr=0.5):\n",
    "    \"\"\"\n",
    "    Simulation of the least-squares problem\n",
    "    \n",
    "    Parameters\n",
    "    ----------\n",
    "    x : np.ndarray, shape=(d,)\n",
    "        The coefficients of the model\n",
    "    \n",
    "    n : int\n",
    "        Sample size\n",
    "    \n",
    "    std : float, default=1.\n",
    "        Standard-deviation of the noise\n",
    "\n",
    "    corr : float, default=0.5\n",
    "        Correlation of the features matrix\n",
    "    \"\"\"    \n",
    "    d = w.shape[0]\n",
    "    cov = toeplitz(corr ** np.arange(0, d))\n",
    "    X = multivariate_normal(np.zeros(d), cov, size=n)\n",
    "    noise = std * randn(n)\n",
    "    y = X.dot(w) + noise\n",
    "    return X, y"
   ]
  },
  {
   "cell_type": "code",
   "execution_count": 76,
   "metadata": {},
   "outputs": [],
   "source": [
    "def simu_logreg(w, n, std=1., corr=0.5):\n",
    "    \"\"\"\n",
    "    Simulation of the logistic regression problem\n",
    "    \n",
    "    Parameters\n",
    "    ----------\n",
    "    x : np.ndarray, shape=(d,)\n",
    "        The coefficients of the model\n",
    "    \n",
    "    n : int\n",
    "        Sample size\n",
    "    \n",
    "    std : float, default=1.\n",
    "        Standard-deviation of the noise\n",
    "\n",
    "    corr : float, default=0.5\n",
    "        Correlation of the features matrix\n",
    "    \"\"\"    \n",
    "    X, y = simu_linreg(w, n, std=1., corr=0.5)\n",
    "    return X, np.sign(y)"
   ]
  },
  {
   "cell_type": "markdown",
   "metadata": {},
   "source": [
    "### Generate Data"
   ]
  },
  {
   "cell_type": "code",
   "execution_count": 77,
   "metadata": {},
   "outputs": [],
   "source": [
    "d = 50\n",
    "n = 1000\n",
    "idx = np.arange(d)\n",
    "\n",
    "# Ground truth coefficients of the model\n",
    "w_model_truth = (-1)**idx * np.exp(-idx / 10.)\n",
    "\n",
    "X, y = simu_linreg(w_model_truth, n, std=1., corr=0.1)\n",
    "#X, y = simu_logreg(w_model_truth, n, std=1., corr=0.7)"
   ]
  },
  {
   "cell_type": "code",
   "execution_count": 78,
   "metadata": {},
   "outputs": [
    {
     "data": {
      "text/plain": [
       "-2.4304719465226023"
      ]
     },
     "execution_count": 78,
     "metadata": {},
     "output_type": "execute_result"
    }
   ],
   "source": [
    "X[1].dot(w_model_truth)"
   ]
  },
  {
   "cell_type": "markdown",
   "metadata": {},
   "source": [
    "### Choice of the model"
   ]
  },
  {
   "cell_type": "code",
   "execution_count": 79,
   "metadata": {},
   "outputs": [],
   "source": [
    "lbda = 1. / n ** (0.5)\n",
    "model = LinReg(X, y, lbda)\n",
    "#model = LogReg(X, y, lbda)"
   ]
  },
  {
   "cell_type": "code",
   "execution_count": 80,
   "metadata": {},
   "outputs": [
    {
     "data": {
      "image/png": "[encoded data removed]",
      "text/plain": [
       "<Figure size 432x288 with 2 Axes>"
      ]
     },
     "metadata": {},
     "output_type": "display_data"
    }
   ],
   "source": [
    "plt.subplot(1, 2, 1)\n",
    "plt.stem(y); \n",
    "plt.subplot(1, 2, 2)\n",
    "plt.stem(w_model_truth); "
   ]
  },
  {
   "cell_type": "code",
   "execution_count": 81,
   "metadata": {},
   "outputs": [
    {
     "data": {
      "text/plain": [
       "1.4732542072046823e-06"
      ]
     },
     "execution_count": 81,
     "metadata": {},
     "output_type": "execute_result"
    }
   ],
   "source": [
    "from scipy.optimize import check_grad\n",
    "# Check that the gradient and the loss numerically match\n",
    "check_grad(model.f, model.grad, np.random.randn(d))"
   ]
  },
  {
   "cell_type": "code",
   "execution_count": 82,
   "metadata": {},
   "outputs": [
    {
     "name": "stdout",
     "output_type": "stream",
     "text": [
      "2.6885553493959795e-06\n"
     ]
    },
    {
     "data": {
      "image/png": "[encoded data removed]",
      "text/plain": [
       "<Figure size 432x288 with 1 Axes>"
      ]
     },
     "metadata": {},
     "output_type": "display_data"
    }
   ],
   "source": [
    "# Check that the gradient grad_i and the numerical gradient of f_i agree\n",
    "grad_error = []\n",
    "for i in range(n):\n",
    "    ind = np.random.choice(n,1)\n",
    "    w =  np.random.randn(d)\n",
    "    vec =  np.random.randn(d)\n",
    "    eps = pow(10.0, -7.0)\n",
    "    model.f_i(ind[0],w)\n",
    "    grad_error.append((model.f_i( ind[0], w+eps*vec) - model.f_i( ind[0], w))/eps - np.dot(model.grad_i(ind[0],w),vec))\n",
    "plt.stem(grad_error); \n",
    "print(np.mean(grad_error))"
   ]
  },
  {
   "cell_type": "markdown",
   "metadata": {},
   "source": [
    "### Find a highly accurate solution using LBFGS method"
   ]
  },
  {
   "cell_type": "code",
   "execution_count": 83,
   "metadata": {},
   "outputs": [
    {
     "name": "stdout",
     "output_type": "stream",
     "text": [
      "0.5234134471000672\n",
      "1.3234335316399626e-09\n"
     ]
    }
   ],
   "source": [
    "from scipy.optimize import fmin_l_bfgs_b\n",
    "\n",
    "w_init = np.zeros(d)\n",
    "w_min, obj_min, _ = fmin_l_bfgs_b(model.f, w_init, model.grad, args=(), pgtol=1e-30, factr =1e-30)\n",
    "\n",
    "print(obj_min)\n",
    "print(norm(model.grad(w_min)))"
   ]
  },
  {
   "cell_type": "markdown",
   "metadata": {},
   "source": [
    "<a id='constant'></a> \n",
    "\n",
    "## 3. Implementing Stochastic Gradient Descent\n"
   ]
  },
  {
   "cell_type": "markdown",
   "metadata": {},
   "source": [
    "### SGD\n",
    "\n",
    "We recall that an iteration of SGD writes\n",
    "\n",
    "\n",
    "\n",
    "**for** $t = 1, \\ldots, T$ \n",
    "  \n",
    "$\\qquad$ Pick $i$ uniformly at random in $\\{1, \\ldots, n\\}$\n",
    "   \n",
    "$\\qquad \\displaystyle\n",
    "w^{t+1} \\gets w^t - \\eta_t \\nabla f_i(w_t)\n",
    "$\n",
    "  \n",
    "**end for**\n",
    "\n",
    "\n",
    "\n",
    "Complete the code below. The inputs are\n",
    "- n_iter: The number of iterations\n",
    "- indices: an np.array of indices of length n_iter. The indices[k]  is the index of stochastic gradient that will be used on the kth iteration. \n",
    "- steps: an np.array of positive floats of length n_iter. The steps[k] is the stepsize used on the kth iteration. Typically decreasing stepsizes are used $\\eta_t = \\frac{\\eta_0}{\\sqrt{t+1}}$, where $\\eta_0$ is a step-size to be tuned by hand.\n",
    "\n",
    "- averaging_on: is a boolean which indicates if the output should be the average of the iterates.\n",
    "\n",
    "The outputs are:\n",
    "- w_output: The final w vector found by the algorithm or the average  $ \\bar{w} = \\frac{1}{T-t}\\sum_{i=t}^T w^t$ if averaging is on\n",
    "- objectives: A ndarray containing the sequence function values calculated during the iterations of the algorithm \n",
    "- errors: If w_min is not empty, errors is a ndarray containing the sequence of errors || w - w_min || of the algorithm. Otherwise errors should be empty.\n",
    "*QUESTION*:\n",
    "- Fill in the iteration of the SGD solver in the cell below"
   ]
  },
  {
   "cell_type": "code",
   "execution_count": 103,
   "metadata": {},
   "outputs": [],
   "source": [
    "def sgd(w0, model, indices, steps, w_min, n_iter=100, averaging_on=False ,verbose=True, start_late_averaging = 0):\n",
    "    \"\"\"Stochastic gradient descent algorithm\n",
    "    \"\"\"\n",
    "    w = w0.copy()\n",
    "    w_new = w0.copy()\n",
    "    n_samples, n_features = X.shape\n",
    "    # average x\n",
    "    w_average = w0.copy()\n",
    "    # estimation error history\n",
    "    errors = []\n",
    "    err = 1.0\n",
    "    # objective history\n",
    "    objectives = []\n",
    "    # Current estimation error\n",
    "    if np.any(w_min):\n",
    "        err = norm(w - w_min) / norm(w_min)\n",
    "        errors.append(err)\n",
    "    # Current objective\n",
    "    obj = model.f(w) \n",
    "    objectives.append(obj)\n",
    "    if verbose:\n",
    "        print(\"Lauching SGD solver...\")\n",
    "        print(' | '.join([name.center(8) for name in [\"it\", \"obj\", \"err\"]]))\n",
    "    for k in range(n_iter):\n",
    "        ### TODO ###   \n",
    "        ####################################\n",
    "        # Compute the next iterate\n",
    "        #  w_new[:]  = ........\n",
    "        \n",
    "        w_new[:] = w - steps[k] * model.grad_i(indices[k],w=w) \n",
    "        \n",
    "        \n",
    "        ####################################\n",
    "        w[:] = w_new\n",
    "        ####################################\n",
    "        # Compute the average iterate \n",
    "        # w_average[:]  = ...w_average + .....\n",
    "        \n",
    "        if (k > start_late_averaging):\n",
    "            n_avg = k - start_late_averaging\n",
    "            w_average[:] = w_average * (n_avg / (n_avg+1) ) + w_new / (n_avg+1)\n",
    "        \n",
    "        ####################################\n",
    "        if averaging_on:\n",
    "            w_test = w_average.copy()\n",
    "        else:\n",
    "            w_test = w.copy()\n",
    "        obj = model.f(w_test) \n",
    "        if np.any(w_min):\n",
    "            err = norm(w_test - w_min) / norm(w_min)\n",
    "            errors.append(err)\n",
    "        objectives.append(obj)\n",
    "        if k % n_samples == 0 and verbose:\n",
    "            if(sum(w_min)):\n",
    "                print(' | '.join([(\"%d\" % k).rjust(8), \n",
    "                              (\"%.2e\" % obj).rjust(8), \n",
    "                              (\"%.2e\" % err).rjust(8)]))\n",
    "            else:\n",
    "                print(' | '.join([(\"%d\" % k).rjust(8), \n",
    "                              (\"%.2e\" % obj).rjust(8)]))\n",
    "    if averaging_on:\n",
    "        w_output = w_average.copy()\n",
    "    else:\n",
    "        w_output = w.copy()    \n",
    "    return w_output, np.array(objectives), np.array(errors)"
   ]
  },
  {
   "cell_type": "code",
   "execution_count": 104,
   "metadata": {},
   "outputs": [],
   "source": [
    "##Setup number of iterations\n",
    "datapasses = 15  # number of sweeps through all the data. This means that there will datapasses*n stochastic gradient updates\n",
    "niters = int(datapasses * n)"
   ]
  },
  {
   "cell_type": "markdown",
   "metadata": {},
   "source": [
    "### SGD with constant step with replacement"
   ]
  },
  {
   "cell_type": "code",
   "execution_count": 107,
   "metadata": {
    "scrolled": true
   },
   "outputs": [
    {
     "name": "stdout",
     "output_type": "stream",
     "text": [
      "Lauching SGD solver...\n",
      "   it    |   obj    |   err   \n",
      "       0 | 2.77e+00 | 9.90e-01\n",
      "    1000 | 1.19e+00 | 5.46e-01\n",
      "    2000 | 1.17e+00 | 5.35e-01\n",
      "    3000 | 1.21e+00 | 5.47e-01\n",
      "    4000 | 1.23e+00 | 5.52e-01\n",
      "    5000 | 1.21e+00 | 5.45e-01\n",
      "    6000 | 1.19e+00 | 5.41e-01\n",
      "    7000 | 1.20e+00 | 5.45e-01\n",
      "    8000 | 1.20e+00 | 5.44e-01\n",
      "    9000 | 1.19e+00 | 5.43e-01\n",
      "   10000 | 1.21e+00 | 5.49e-01\n",
      "   11000 | 1.18e+00 | 5.38e-01\n",
      "   12000 | 1.21e+00 | 5.47e-01\n",
      "   13000 | 1.20e+00 | 5.47e-01\n",
      "   14000 | 1.19e+00 | 5.43e-01\n"
     ]
    }
   ],
   "source": [
    "##############TODO######################\n",
    "# Execute SGD with a constant stepsize. Please name the output as\n",
    "w_sgdcr, obj_sgdcr, err_sgdcr = sgd(w0 = w_init,\n",
    "                                    model = model,\n",
    "                                    indices = np.random.randint( low = 1, high = d, size = niters),\n",
    "                                    steps = 0.005 * np.ones((niters , 1)),\n",
    "                                    w_min = w_min,\n",
    "                                    n_iter = niters,\n",
    "                                    averaging_on=False,\n",
    "                                    verbose=True,\n",
    "                                    start_late_averaging = 0)\n",
    "                                    \n",
    "# HINT: You will have to guess a stepsizes and see if it works! Something around 0.005 should work here.\n",
    "##############END TODO######################\n",
    "\n"
   ]
  },
  {
   "cell_type": "markdown",
   "metadata": {},
   "source": [
    "### SGD with $1/\\sqrt(t)$ stepsizes with replacement"
   ]
  },
  {
   "cell_type": "code",
   "execution_count": 119,
   "metadata": {},
   "outputs": [
    {
     "name": "stdout",
     "output_type": "stream",
     "text": [
      "Lauching SGD solver...\n",
      "   it    |   obj    |   err   \n",
      "       0 | 2.82e+00 | 9.99e-01\n",
      "    1000 | 1.18e+00 | 5.43e-01\n",
      "    2000 | 1.15e+00 | 5.25e-01\n",
      "    3000 | 1.19e+00 | 5.40e-01\n",
      "    4000 | 1.18e+00 | 5.37e-01\n",
      "    5000 | 1.19e+00 | 5.41e-01\n",
      "    6000 | 1.22e+00 | 5.54e-01\n",
      "    7000 | 1.21e+00 | 5.50e-01\n",
      "    8000 | 1.21e+00 | 5.46e-01\n",
      "    9000 | 1.20e+00 | 5.45e-01\n",
      "   10000 | 1.21e+00 | 5.50e-01\n",
      "   11000 | 1.20e+00 | 5.45e-01\n",
      "   12000 | 1.19e+00 | 5.45e-01\n",
      "   13000 | 1.20e+00 | 5.44e-01\n",
      "   14000 | 1.19e+00 | 5.45e-01\n"
     ]
    }
   ],
   "source": [
    "#############TODO#######################\n",
    "# Execute SGD with a shrinking stepsize \\eta_t = C/\\sqrt(t). Please name the output as\n",
    "# w_sgdsr, obj_sgdsr, err_sgdsr = sgd(.....?.....)\n",
    "w_sgdcr, obj_sgdcr, err_sgdcr = sgd(w0 = w_init,\n",
    "                                    model = model,\n",
    "                                    indices = np.random.randint( low = 1, high = d, size = niters),\n",
    "                                    #steps = 0.005 * np.ones((niters , 1)),\n",
    "                                    steps = np.ones((niters , 1)).dot(np.arrange,\n",
    "                                    w_min = w_min,\n",
    "                                    n_iter = niters,\n",
    "                                    averaging_on=False,\n",
    "                                    verbose=True,\n",
    "                                    start_late_averaging = 0)\n",
    "# HINT: You will have to guess C and see if it works! Something around C = 0.1 should work here.\n",
    "##############END TODO######################"
   ]
  },
  {
   "cell_type": "code",
   "execution_count": 110,
   "metadata": {},
   "outputs": [
    {
     "ename": "NameError",
     "evalue": "name 'obj_sgdsr' is not defined",
     "output_type": "error",
     "traceback": [
      "\u001b[1;31m---------------------------------------------------------------------------\u001b[0m",
      "\u001b[1;31mNameError\u001b[0m                                 Traceback (most recent call last)",
      "\u001b[1;32m<ipython-input-110-9bda55edb5f6>\u001b[0m in \u001b[0;36m<module>\u001b[1;34m()\u001b[0m\n\u001b[0;32m      2\u001b[0m \u001b[0mplt\u001b[0m\u001b[1;33m.\u001b[0m\u001b[0mfigure\u001b[0m\u001b[1;33m(\u001b[0m\u001b[0mfigsize\u001b[0m\u001b[1;33m=\u001b[0m\u001b[1;33m(\u001b[0m\u001b[1;36m7\u001b[0m\u001b[1;33m,\u001b[0m \u001b[1;36m5\u001b[0m\u001b[1;33m)\u001b[0m\u001b[1;33m)\u001b[0m\u001b[1;33m\u001b[0m\u001b[0m\n\u001b[0;32m      3\u001b[0m \u001b[0mplt\u001b[0m\u001b[1;33m.\u001b[0m\u001b[0msemilogy\u001b[0m\u001b[1;33m(\u001b[0m\u001b[0mobj_sgdcr\u001b[0m \u001b[1;33m-\u001b[0m \u001b[0mobj_min\u001b[0m\u001b[1;33m,\u001b[0m \u001b[0mlabel\u001b[0m\u001b[1;33m=\u001b[0m\u001b[1;34m\"SGD const\"\u001b[0m\u001b[1;33m,\u001b[0m \u001b[0mlw\u001b[0m\u001b[1;33m=\u001b[0m\u001b[1;36m2\u001b[0m\u001b[1;33m)\u001b[0m\u001b[1;33m\u001b[0m\u001b[0m\n\u001b[1;32m----> 4\u001b[1;33m \u001b[0mplt\u001b[0m\u001b[1;33m.\u001b[0m\u001b[0msemilogy\u001b[0m\u001b[1;33m(\u001b[0m\u001b[0mobj_sgdsr\u001b[0m \u001b[1;33m-\u001b[0m \u001b[0mobj_min\u001b[0m\u001b[1;33m,\u001b[0m \u001b[0mlabel\u001b[0m\u001b[1;33m=\u001b[0m\u001b[1;34m\"SGD shrink\"\u001b[0m\u001b[1;33m,\u001b[0m \u001b[0mlw\u001b[0m\u001b[1;33m=\u001b[0m\u001b[1;36m2\u001b[0m\u001b[1;33m)\u001b[0m\u001b[1;33m\u001b[0m\u001b[0m\n\u001b[0m\u001b[0;32m      5\u001b[0m \u001b[0mplt\u001b[0m\u001b[1;33m.\u001b[0m\u001b[0mtitle\u001b[0m\u001b[1;33m(\u001b[0m\u001b[1;34m\"Convergence plot\"\u001b[0m\u001b[1;33m,\u001b[0m \u001b[0mfontsize\u001b[0m\u001b[1;33m=\u001b[0m\u001b[1;36m16\u001b[0m\u001b[1;33m)\u001b[0m\u001b[1;33m\u001b[0m\u001b[0m\n\u001b[0;32m      6\u001b[0m \u001b[0mplt\u001b[0m\u001b[1;33m.\u001b[0m\u001b[0mxlabel\u001b[0m\u001b[1;33m(\u001b[0m\u001b[1;34m\"#iterations\"\u001b[0m\u001b[1;33m,\u001b[0m \u001b[0mfontsize\u001b[0m\u001b[1;33m=\u001b[0m\u001b[1;36m14\u001b[0m\u001b[1;33m)\u001b[0m\u001b[1;33m\u001b[0m\u001b[0m\n",
      "\u001b[1;31mNameError\u001b[0m: name 'obj_sgdsr' is not defined"
     ]
    },
    {
     "data": {
      "image/png": "[encoded data removed]",
      "text/plain": [
       "<Figure size 504x360 with 1 Axes>"
      ]
     },
     "metadata": {},
     "output_type": "display_data"
    }
   ],
   "source": [
    "# Error of objective on a logarithmic scale\n",
    "plt.figure(figsize=(7, 5))\n",
    "plt.semilogy(obj_sgdcr - obj_min, label=\"SGD const\", lw=2)\n",
    "plt.semilogy(obj_sgdsr - obj_min, label=\"SGD shrink\", lw=2)\n",
    "plt.title(\"Convergence plot\", fontsize=16)\n",
    "plt.xlabel(\"#iterations\", fontsize=14)\n",
    "plt.ylabel(\"Error of objective\", fontsize=14)\n",
    "plt.legend()\n",
    "# Distance to the minimizer on a logarithmic scale\n",
    "plt.figure(figsize=(7, 5))\n",
    "plt.yscale(\"log\")\n",
    "plt.semilogy(err_sgdcr , label=\"SGD const\", lw=2)\n",
    "plt.semilogy(err_sgdsr , label=\"SGD shrink\", lw=2)\n",
    "plt.title(\"Convergence plot\", fontsize=16)\n",
    "plt.xlabel(\"#iterations\", fontsize=14)\n",
    "plt.ylabel(\"Distance to the minimum\", fontsize=14)\n",
    "plt.legend()"
   ]
  },
  {
   "cell_type": "markdown",
   "metadata": {},
   "source": [
    "**Questions**\n",
    "\n",
    "- Compare the solution you obtain for SGD with constant stepsizes and SGD with shrinking stepsizes. \n",
    "- Which one is faster in the beginning? Which reaches the \"best\" solution?\n",
    "- What happens when is you use sampling without replacement instead? Hint: Do only one datapass, it's annoying to adapt this implementation for more than one datapass when sampling without replacement\n",
    "\n"
   ]
  },
  {
   "cell_type": "markdown",
   "metadata": {},
   "source": [
    "## 5. Compare with averaging step\n",
    "\n",
    "- Implement the average iterate output  \n",
    "- Compare the solution you obtain for SGD with shrinking stepsizes and SGD with averaging. \n",
    "- What happens if you start averaging only the last n iterates? When is averaging useful?\n"
   ]
  },
  {
   "cell_type": "code",
   "execution_count": null,
   "metadata": {},
   "outputs": [],
   "source": [
    "#############TODO#######################\n",
    "# Execute SGD with averaging on and shrinking stepsize. Please name the output as\n",
    "# w_sgdar, obj_sgdar, err_sgdar = sgd( .... )\n",
    "# HINT: You can use the stepsize you found in the last step.\n",
    "###############END TODO#####################"
   ]
  },
  {
   "cell_type": "code",
   "execution_count": null,
   "metadata": {},
   "outputs": [],
   "source": [
    "# Error of objective on a logarithmic scale\n",
    "plt.figure(figsize=(7, 5))\n",
    "plt.semilogy(obj_sgdsr - obj_min, label=\"SGD shrink\", lw=2)\n",
    "plt.semilogy(obj_sgdar - obj_min, label=\"SGD average\", lw=2)\n",
    "plt.title(\"Convergence plot\", fontsize=16)\n",
    "plt.xlabel(\"#iterations\", fontsize=14)\n",
    "plt.ylabel(\"Loss function\", fontsize=14)\n",
    "plt.legend()\n",
    "# Distance to the minimizer on a logarithmic scale\n",
    "plt.figure(figsize=(7, 5))\n",
    "plt.semilogy(err_sgdsr , label=\"SGD shrink\", lw=2)\n",
    "plt.semilogy(err_sgdar , label=\"SGD average\", lw=2)\n",
    "plt.title(\"Convergence plot\", fontsize=16)\n",
    "plt.xlabel(\"#iterations\", fontsize=14)\n",
    "plt.ylabel(\"Distance to the minimum\", fontsize=14)\n",
    "plt.legend()"
   ]
  },
  {
   "cell_type": "markdown",
   "metadata": {},
   "source": [
    "## Compare with gradient descent\n",
    "\n",
    "- Complete the code of gradient descent (GD) below\n",
    "- How much more is the computational cost of a step of gradient descent with respect to the computational cost of a SGD step?  How many steps of gradient descent should you take so that the total computational complexity is equivalent to datapasses * n steps of SGD ? \n",
    "- Compare GD with SGD, where on the $x$-axis of the plot you the total computational effort spent\n",
    "- What happens if you increase the number of datapasses?"
   ]
  },
  {
   "cell_type": "code",
   "execution_count": null,
   "metadata": {},
   "outputs": [],
   "source": [
    "def gd(w0, model, step, w_min =[], n_iter=100, verbose=True):\n",
    "    \"\"\"Gradient descent algorithm\n",
    "    \"\"\"\n",
    "    w = w0.copy()\n",
    "    w_new = w0.copy()\n",
    "    n_samples, n_features = X.shape\n",
    "    # estimation error history\n",
    "    errors = []\n",
    "    err = 1.\n",
    "    # objective history\n",
    "    objectives = []\n",
    "    # Current estimation error\n",
    "    if np.any(w_min):\n",
    "        err = norm(w - w_min) / norm(w_min)\n",
    "        errors.append(err)\n",
    "    # Current objective\n",
    "    obj = model.f(w) \n",
    "    objectives.append(obj)\n",
    "    if verbose:\n",
    "        print(\"Lauching GD solver...\")\n",
    "        print(' | '.join([name.center(8) for name in [\"it\", \"obj\", \"err\"]]))\n",
    "    for k in range(n_iter ):\n",
    "        ##### TODO ######################\n",
    "        ##### Compute gradient step update\n",
    "        #####   w_new[:] = ...\n",
    "        ##### END TODO ##################\n",
    "        w[:] = w_new\n",
    "        obj = model.f(w) \n",
    "        if (sum(w_min)):\n",
    "            err = norm(w - w_min) / norm(w_min)\n",
    "            errors.append(err)\n",
    "        objectives.append(obj)\n",
    "        if verbose:\n",
    "            print(' | '.join([(\"%d\" % k).rjust(8), \n",
    "                              (\"%.2e\" % obj).rjust(8), \n",
    "                              (\"%.2e\" % err).rjust(8)]))\n",
    "    return w, np.array(objectives), np.array(errors)"
   ]
  },
  {
   "cell_type": "code",
   "execution_count": null,
   "metadata": {},
   "outputs": [],
   "source": [
    "##############TODO######################\n",
    "# Execute the gradient algorithm. Please name the output as\n",
    "# w_gd, obj_gd, err_gd = gd(.....)\n",
    "# Hint: Remember the stepsize of gradient descent should be equal to 1/L, where L is this Lipshitz constant of f\n",
    "###############END TODO#####################"
   ]
  },
  {
   "cell_type": "code",
   "execution_count": null,
   "metadata": {},
   "outputs": [],
   "source": [
    "# This just calculates the total complexity of GD so that the total computational effort is the same as your execution of SGD.\n",
    "complexityofGD = n * np.arange(0, datapasses + 1)\n",
    "print(complexityofGD)"
   ]
  },
  {
   "cell_type": "code",
   "execution_count": null,
   "metadata": {},
   "outputs": [],
   "source": [
    "# Error of objective on a logarithmic scale\n",
    "plt.figure(figsize=(7, 5))\n",
    "plt.semilogy(complexityofGD, obj_gd - obj_min, label=\"gd\", lw=2)\n",
    "plt.semilogy(obj_sgdsr - obj_min, label=\"sgd\", lw=2)\n",
    "plt.title(\"Convergence plot\", fontsize=16)\n",
    "plt.xlabel(\"# SGD iterations\", fontsize=14)\n",
    "plt.ylabel(\"Loss function\", fontsize=14)\n",
    "plt.legend()\n",
    "# Distance to the minimum on a logarithmic scale\n",
    "plt.figure(figsize=(7, 5))\n",
    "plt.semilogy(complexityofGD, err_gd, label=\"gd\", lw=2)\n",
    "plt.semilogy(err_sgdsr , label=\"sgd\", lw=2)\n",
    "plt.title(\"Convergence plot\", fontsize=16)\n",
    "plt.xlabel(\"# SGD iterations\", fontsize=14)\n",
    "plt.ylabel(\"Distance to the minimum\", fontsize=14)\n",
    "plt.legend()"
   ]
  },
  {
   "cell_type": "markdown",
   "metadata": {},
   "source": [
    "## SGD without replacement\n",
    "\n",
    "-Execute SGD where the indices of the data points are sampled *without* replacement over each datapass"
   ]
  },
  {
   "cell_type": "code",
   "execution_count": null,
   "metadata": {},
   "outputs": [],
   "source": [
    "#############TODO#######################\n",
    "# Execute SGD with averaging on and shrinking stepsize. Please name the output as\n",
    "# w_sgdsw, obj_sgdsw, err_sgdsw = sgd(....)\n",
    "# HINT: You should use numpy.matlib's repmat function to  \n",
    "#import numpy.matlib\n",
    "# With replacement\n",
    "#indices = np.matlib.repmat(... )\n",
    "###############END TODO#####################"
   ]
  },
  {
   "cell_type": "code",
   "execution_count": null,
   "metadata": {},
   "outputs": [],
   "source": [
    "# Error of objective on a logarithmic scale\n",
    "plt.figure(figsize=(7, 5))\n",
    "plt.yscale(\"log\")\n",
    "plt.plot(obj_sgdsr - obj_min, label=\"SGD replace\", lw=2)\n",
    "plt.plot(obj_sgdsw - obj_min, label=\"SGD withoutreplace\", lw=2)\n",
    "plt.title(\"Convergence plot\", fontsize=16)\n",
    "plt.xlabel(\"#iterations\", fontsize=14)\n",
    "plt.ylabel(\"Distance to the minimum\", fontsize=14)\n",
    "plt.legend()\n",
    "# Distance to the minimizer on a logarithmic scale\n",
    "plt.figure(figsize=(7, 5))\n",
    "plt.yscale(\"log\")\n",
    "plt.plot(err_sgdsr , label=\"SGD replace\", lw=2)\n",
    "plt.plot(err_sgdsw , label=\"SGD withoutreplace\", lw=2)\n",
    "plt.title(\"Convergence plot\", fontsize=16)\n",
    "plt.xlabel(\"#iterations\", fontsize=14)\n",
    "plt.ylabel(\"Distance to the minimum\", fontsize=14)\n",
    "plt.legend()"
   ]
  },
  {
   "cell_type": "code",
   "execution_count": null,
   "metadata": {},
   "outputs": [],
   "source": [
    "###### TODO ###### \n",
    "## Compare SGD and GD in terms of test error after performing 30 passes over the data. That is, \n",
    "# datapasses = 30\n",
    "# Then plot the progression that\n",
    "##  each method makes towards w_model_truth instead of w_min.\n",
    "## Please name the output of the methods to\n",
    "# w_sgdsw, obj_sgdsw, err_sgdsw = sgd(...  w_model_truth...)\n",
    "# w_gd, obj_gd, err_gd          = gd(... w_model_truth...)\n",
    "##### TODO END\n",
    "# What can you conclude? How is this plot different than the convergence to w_min? Was this to be expected?"
   ]
  },
  {
   "cell_type": "code",
   "execution_count": null,
   "metadata": {},
   "outputs": [],
   "source": [
    "# Distance to the minimizer on a logarithmic scale\n",
    "plt.figure(figsize=(7, 5))\n",
    "plt.yscale(\"log\")\n",
    "plt.semilogy(err_sgdsw , label=\"SGD withoutreplace\", lw=2)\n",
    "plt.semilogy(complexityofGD, err_gd , label=\"GD\", lw=2)\n",
    "plt.title(\"Convergence plot\", fontsize=16)\n",
    "plt.xlabel(\"#iterations\", fontsize=14)\n",
    "plt.ylabel(\"Distance to true model\", fontsize=14)\n",
    "plt.legend()"
   ]
  },
  {
   "cell_type": "markdown",
   "metadata": {},
   "source": [
    "## THE END!"
   ]
  }
 ],
 "metadata": {
  "anaconda-cloud": {},
  "kernelspec": {
   "display_name": "Python 3",
   "language": "python",
   "name": "python3"
  },
  "language_info": {
   "codemirror_mode": {
    "name": "ipython",
    "version": 3
   },
   "file_extension": ".py",
   "mimetype": "text/x-python",
   "name": "python",
   "nbconvert_exporter": "python",
   "pygments_lexer": "ipython3",
   "version": "3.6.5"
  }
 },
 "nbformat": 4,
 "nbformat_minor": 1
}
