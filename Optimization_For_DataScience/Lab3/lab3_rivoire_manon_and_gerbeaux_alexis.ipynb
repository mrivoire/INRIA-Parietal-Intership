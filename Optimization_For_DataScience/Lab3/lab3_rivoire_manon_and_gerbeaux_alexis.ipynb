{
  "nbformat": 4,
  "nbformat_minor": 0,
  "metadata": {
    "anaconda-cloud": {},
    "colab": {
      "name": "lab3_rivoire_manon_and_gerbeaux_alexis.ipynb",
      "provenance": [],
      "collapsed_sections": []
    },
    "kernelspec": {
      "display_name": "Python 3",
      "language": "python",
      "name": "python3"
    },
    "language_info": {
      "codemirror_mode": {
        "name": "ipython",
        "version": 3
      },
      "file_extension": ".py",
      "mimetype": "text/x-python",
      "name": "python",
      "nbconvert_exporter": "python",
      "pygments_lexer": "ipython3",
      "version": "3.7.3"
    }
  },
  "cells": [
    {
      "cell_type": "markdown",
      "metadata": {
        "colab_type": "text",
        "id": "JnU58e8a2lLS"
      },
      "source": [
        "# Short Lab 3 : Proximal/cyclic/greedy coordinate descent\n",
        "\n",
        "#### Authors: A. Gramfort, M. Massias, P. Ablin\n",
        "\n",
        "## Aim\n",
        "\n",
        "The aim of this material is to code \n",
        "- cyclic and greedy coordinate descent for ordinary least squares (OLS)\n",
        "- proximal coordinate descent for sparse Logistic regression\n",
        "\n",
        "## VERY IMPORTANT\n",
        "\n",
        "- This work **must be done by pairs of students**.\n",
        "- **Each** student must send their work **before the 11th of november at 23:59**, using the **moodle platform**.\n",
        "- This means that **each student in the pair sends the same file**\n",
        "- On the moodle, in the \"Optimization for Data Science\" course, you have a \"devoir\" section called **Rendu TP du 5 novembre 2018**. This is where you submit your jupyter notebook file. \n",
        "- The **name of the file must be** constructed as in the next cell\n",
        "\n",
        "# Gentle reminder: no evaluation if you don't respect this EXACTLY\n",
        "\n",
        "### How to construct the name of your file"
      ]
    },
    {
      "cell_type": "code",
      "metadata": {
        "colab_type": "code",
        "id": "xT0G-LHg2lLU",
        "outputId": "5b456f75-78c3-4b7a-9f85-53a9ee40025d",
        "colab": {
          "base_uri": "https://localhost:8080/",
          "height": 35
        }
      },
      "source": [
        "# Change here using YOUR first and last names\n",
        "fn1 = \"manon\"\n",
        "ln1 = \"rivoire\"\n",
        "fn2 = \"alexis\"\n",
        "ln2 = \"gerbeaux\"\n",
        "\n",
        "filename = \"_\".join(map(lambda s: s.strip().lower(), \n",
        "                        [\"lab3\", ln1, fn1, \"and\", ln2, fn2])) + \".ipynb\"\n",
        "print(filename)"
      ],
      "execution_count": 0,
      "outputs": [
        {
          "output_type": "stream",
          "text": [
            "lab3_rivoire_manon_and_gerbeaux_alexis.ipynb\n"
          ],
          "name": "stdout"
        }
      ]
    },
    {
      "cell_type": "code",
      "metadata": {
        "colab_type": "code",
        "id": "YuOVDigk2lLX",
        "colab": {}
      },
      "source": [
        "import numpy as np\n",
        "from numpy.linalg import norm\n",
        "import matplotlib.pyplot as plt"
      ],
      "execution_count": 0,
      "outputs": []
    },
    {
      "cell_type": "code",
      "metadata": {
        "colab_type": "code",
        "id": "Qbkx4-9h2lLa",
        "colab": {}
      },
      "source": [
        "# the usual functions:\n",
        "\n",
        "from numpy.random import multivariate_normal\n",
        "from scipy.linalg.special_matrices import toeplitz\n",
        "from numpy.random import randn\n",
        "\n",
        "\n",
        "def simu(coefs, n_samples=1000, corr=0.5, for_logreg=False):\n",
        "    n_features = len(coefs)\n",
        "    cov = toeplitz(corr ** np.arange(0, n_features))\n",
        "    A = multivariate_normal(np.zeros(n_features), cov, size=n_samples)\n",
        "    b = A.dot(coefs) + randn(n_samples)\n",
        "    if for_logreg:\n",
        "        b = np.sign(b)\n",
        "    return A, b"
      ],
      "execution_count": 0,
      "outputs": []
    },
    {
      "cell_type": "markdown",
      "metadata": {
        "colab_type": "text",
        "id": "DyDqCprl2lLb"
      },
      "source": [
        "## Part 1: Ordinary Least Squares\n",
        "\n",
        "\n",
        "Let $A \\in \\mathbb{R}^{n \\times p}$, $y \\in \\mathbb{R}^n$.\n",
        "We want to use coordinate descent to solve:\n",
        "    $$\\hat w \\in  \\mathrm{arg \\, min \\,} \\frac 12 \\Vert Aw - b \\Vert ^2 $$\n",
        "\n",
        "We ask you to code:\n",
        "- cyclic coordinate descent: at iteration $t$, update feature $j = t \\mod p$\n",
        "- greedy coordinate descent: at iteration $t$, update feature having the largest partial gradient in magnitude, ie $j = \\mathrm{arg\\, max \\,}_{i} \\vert \\nabla_i f(w_t) \\vert$.\n",
        "\n",
        "\n",
        "**WARNING**: You must do this in a clever way, ie such that $p$ updates cost the same as one update of GD."
      ]
    },
    {
      "cell_type": "code",
      "metadata": {
        "colab_type": "code",
        "id": "HiO7cxjL2lLc",
        "colab": {}
      },
      "source": [
        "n_features = 100\n",
        "np.random.seed(1970)\n",
        "coefs = np.random.randn(n_features)\n",
        "\n",
        "A, b = simu(coefs, n_samples=1000, for_logreg=False)"
      ],
      "execution_count": 0,
      "outputs": []
    },
    {
      "cell_type": "code",
      "metadata": {
        "colab_type": "code",
        "id": "qDI5CerD2lLe",
        "colab": {}
      },
      "source": [
        "def cyclic_cd(A, b, n_iter):\n",
        "    n_samples, n_features = A.shape\n",
        "    all_objs = []\n",
        "    \n",
        "    w = np.zeros(n_features)\n",
        "    residuals = b - A.dot(w)\n",
        "    \n",
        "    # TODO\n",
        "    lips_const = np.linalg.norm(A, axis=0) ** 2 ## vecteur des normes au carré des vecteurs colonnes Ai. nx1 dimensional vector containing a Lipschitz constant specific to each of the n features (that is specific to each of the n coordinates)\n",
        "    # END TODO\n",
        "    \n",
        "    for t in range(n_iter):\n",
        "        j = t % n_features # the index of the coordinate to update corresponds to the rest in the Euclidean Division of the number of iterations by the number of features\n",
        "        # TODO\n",
        "        old_w_j = w[j].copy()\n",
        "        step = 1/lips_const[j]\n",
        "        grad = (A[:,j].T).dot(residuals)\n",
        "        w[j] += step*grad\n",
        "        # update residuals: \n",
        "        # We only update the jth coordinate of the vector of residuals since only the jth coordinate of the vector of weights has been modified\n",
        "        residuals += np.dot(A[:,j], old_w_j - w[j]) ##écrire r_t+1 - r_t et écrire en fct de w_t+1 - w_t\n",
        "        # END TODO\n",
        "        \n",
        "        if t % n_features == 0:\n",
        "            all_objs.append((residuals ** 2).sum() / 2.)\n",
        "    return w, np.array(all_objs)\n",
        "\n",
        "def greedy_cd(A, b, n_iter):\n",
        "    n_samples, n_features = A.shape\n",
        "    all_objs = []\n",
        "    \n",
        "    w = np.zeros(n_features)\n",
        "    \n",
        "    gradient = A.T.dot(A.dot(w) - b)\n",
        "    gram = A.T.dot(A)  # you will need this to keep the gradient up to date\n",
        "    \n",
        "    # TODO\n",
        "    lips_const = np.linalg.norm(A, axis=0) ** 2\n",
        "    # END TODO \n",
        "    \n",
        "    for t in range(n_iter):\n",
        "        # TODO\n",
        "        # choose feature j to update: \n",
        "        j = np.argmax(np.abs(gradient))\n",
        "        old_w_j = w[j].copy()\n",
        "        w[j] -= (1/lips_const[j])*gradient[j] ##We only update the jth coordinate of the vector of weights\n",
        "        # update gradient:\n",
        "        gradient += gram[:,j]*(w[j] - old_w_j) ##We only update the jth coordinate of the gradient vector since we only have updated the jth coordinate of the vector of weights\n",
        "        # END TODO\n",
        "        if t % n_features == 0:\n",
        "            all_objs.append(0.5 * np.linalg.norm(A.dot(w) - b) ** 2)\n",
        "    \n",
        "    return w, np.array(all_objs)"
      ],
      "execution_count": 0,
      "outputs": []
    },
    {
      "cell_type": "code",
      "metadata": {
        "colab_type": "code",
        "id": "l9mklLup2lLg",
        "outputId": "c7d288ee-21d1-4957-d3f5-b1cb056d561c",
        "colab": {
          "base_uri": "https://localhost:8080/",
          "height": 52
        }
      },
      "source": [
        "%%time\n",
        "w_min_cyclic_cd, obj_w_cyclic_cd = cyclic_cd(A, b, 10000)"
      ],
      "execution_count": 0,
      "outputs": [
        {
          "output_type": "stream",
          "text": [
            "CPU times: user 220 ms, sys: 5.94 ms, total: 226 ms\n",
            "Wall time: 428 ms\n"
          ],
          "name": "stdout"
        }
      ]
    },
    {
      "cell_type": "code",
      "metadata": {
        "colab_type": "code",
        "id": "XEV-3ROJ2lLh",
        "outputId": "3626e6bb-2d4b-4841-f88c-bceb2e86d57c",
        "colab": {
          "base_uri": "https://localhost:8080/",
          "height": 52
        }
      },
      "source": [
        "%%time \n",
        "w_min_greedy_cd, obj_w_greedy_cd = greedy_cd(A, b, 10000)"
      ],
      "execution_count": 0,
      "outputs": [
        {
          "output_type": "stream",
          "text": [
            "CPU times: user 265 ms, sys: 24 ms, total: 289 ms\n",
            "Wall time: 160 ms\n"
          ],
          "name": "stdout"
        }
      ]
    },
    {
      "cell_type": "markdown",
      "metadata": {
        "colab_type": "text",
        "id": "jeFufGMY2lLj"
      },
      "source": [
        "**Questions :**\n",
        "- compute a precise minimum with your favorite solver\n",
        "- compare the performance of cyclic and greedy CD\n",
        "\n",
        "- from a practical point of view, could you use greedy CD for ridge logistic regression? to solve OLS, but with 100,000 features? Explain your answers."
      ]
    },
    {
      "cell_type": "markdown",
      "metadata": {
        "colab_type": "text",
        "id": "07QD-ZAu2lLk"
      },
      "source": [
        "### Compute a precise minimum with your favorite solver"
      ]
    },
    {
      "cell_type": "markdown",
      "metadata": {
        "colab_type": "text",
        "id": "WtRnDXvJ2lLk"
      },
      "source": [
        "Minimum computed with l-bfgs solver"
      ]
    },
    {
      "cell_type": "code",
      "metadata": {
        "colab_type": "code",
        "id": "ymieF3wj2lLl",
        "outputId": "5d1ecb7f-2084-4cb2-c448-2da0fb5ff5fd",
        "colab": {
          "base_uri": "https://localhost:8080/",
          "height": 355
        }
      },
      "source": [
        "from scipy.optimize import fmin_l_bfgs_b\n",
        "\n",
        "def grad(w, A, b):\n",
        "    return A.T.dot(A.dot(w) - b)\n",
        "    \n",
        "def loss(w, A, b):\n",
        "    return norm(A.dot(w) - b) ** 2 / 2\n",
        "    \n",
        "w_init = np.zeros(n_features)\n",
        "\n",
        "w_min, f_min, _ = fmin_l_bfgs_b(loss, w_init, grad, args=(A, b), pgtol=1e-30, factr=1e-30)\n",
        "\n",
        "\n",
        "print(f_min)\n",
        "print(w_min) #best solution to the opti pb so we will compare the other minimizers to this one assuming it's the 'real' solution\n",
        "print(norm(grad(w_min, A, b)))"
      ],
      "execution_count": 0,
      "outputs": [
        {
          "output_type": "stream",
          "text": [
            "466.38497653376567\n",
            "[-0.00772678  1.1722585  -0.26704868  0.70004526  0.6395015   0.76854499\n",
            " -0.6715586  -1.16392572  0.04667156 -0.19553794  1.90429109  1.40048949\n",
            "  0.49102095 -0.84138107 -1.44433611  1.60925495 -1.04829763 -0.46741439\n",
            " -1.56420944 -0.5049202   0.24166775 -0.17082697 -1.8685883  -1.45447257\n",
            "  0.33296101  0.95929147  0.55429929  1.14589981 -0.06046799 -0.4264222\n",
            "  2.02338434 -1.57558751 -0.23636267 -1.33706995  1.19093151 -0.39092006\n",
            "  0.86724978  0.26923088 -0.85206818 -0.07024918 -0.3642956  -0.00576861\n",
            " -1.56783243 -1.92839434 -1.53959864 -0.38137738 -0.58731018 -1.72603575\n",
            "  0.39133318 -0.28659137  0.2162589  -0.22917056  0.93575223 -0.49609361\n",
            " -0.32023458  1.05655835  1.01878796  0.98860962 -0.81709049 -0.95800001\n",
            " -1.32897382  0.06565243  0.46755933 -1.15942364  0.3859497  -0.3170157\n",
            "  0.47849    -0.32858091 -0.66056608 -1.01725307  0.53129895  2.02183154\n",
            "  0.47129171 -0.90273392  1.39594999  0.03366695  0.35948564  0.3089695\n",
            " -0.30875605  1.39495298 -0.05198068 -0.43630584  0.73357994 -1.97871654\n",
            " -2.16314621 -0.9056383  -0.85756951  0.37498962 -1.3044168   1.27238395\n",
            "  0.36676304 -0.77223172 -0.56330661  1.34435575 -0.19601597 -0.2085148\n",
            " -1.14008843 -0.13855494  0.78140583  1.02761541]\n",
            "8.507196070970822e-06\n"
          ],
          "name": "stdout"
        }
      ]
    },
    {
      "cell_type": "markdown",
      "metadata": {
        "colab_type": "text",
        "id": "MT6CPs0R2lLn"
      },
      "source": [
        "Other minimim computed"
      ]
    },
    {
      "cell_type": "code",
      "metadata": {
        "colab_type": "code",
        "id": "9IFV0eEf2lLn",
        "outputId": "554a01a5-8cab-4cd9-f81c-4b617b6bc613",
        "colab": {
          "base_uri": "https://localhost:8080/",
          "height": 90
        }
      },
      "source": [
        "w_min_ols,_,_,_, = np.linalg.lstsq(A, b)"
      ],
      "execution_count": 0,
      "outputs": [
        {
          "output_type": "stream",
          "text": [
            "/usr/local/lib/python3.7/site-packages/ipykernel_launcher.py:1: FutureWarning: `rcond` parameter will change to the default of machine precision times ``max(M, N)`` where M and N are the input matrix dimensions.\n",
            "To use the future default and silence this warning we advise to pass `rcond=None`, to keep using the old, explicitly pass `rcond=-1`.\n",
            "  \"\"\"Entry point for launching an IPython kernel.\n"
          ],
          "name": "stderr"
        }
      ]
    },
    {
      "cell_type": "markdown",
      "metadata": {
        "colab_type": "text",
        "id": "Oc2GMzOf2lLp"
      },
      "source": [
        "### Compare the performance of cyclic and greedy CD"
      ]
    },
    {
      "cell_type": "markdown",
      "metadata": {
        "colab_type": "text",
        "id": "YJhudUdy2lLq"
      },
      "source": [
        "First, let compare the difference between the minimum computed with the solvers above and the minimum obtained with cyclic coordinate descent and greedy coordinate descent."
      ]
    },
    {
      "cell_type": "markdown",
      "metadata": {
        "colab_type": "text",
        "id": "5QaA06ZK2lLq"
      },
      "source": [
        "Pour la descente par coordonnée cyclique :"
      ]
    },
    {
      "cell_type": "code",
      "metadata": {
        "colab_type": "code",
        "id": "JODdcl2z2lLr",
        "outputId": "a9be473d-a51b-473c-b5fe-ed75e720d6cd",
        "colab": {
          "base_uri": "https://localhost:8080/",
          "height": 35
        }
      },
      "source": [
        "print(\"Distance au minimiseur(ols) : %e\" %np.linalg.norm(w_min_ols - w_min_cyclic_cd))"
      ],
      "execution_count": 0,
      "outputs": [
        {
          "output_type": "stream",
          "text": [
            "Distance au minimiseur(ols) : 3.359763e-14\n"
          ],
          "name": "stdout"
        }
      ]
    },
    {
      "cell_type": "code",
      "metadata": {
        "colab_type": "code",
        "id": "ALaaXrnM2lLt",
        "outputId": "5a0c1d1b-c5f0-4c3c-a91c-de6826677f25",
        "colab": {
          "base_uri": "https://localhost:8080/",
          "height": 35
        }
      },
      "source": [
        "print(\"Distance au minimiseur(l-bfgs) : %e\" %np.linalg.norm(w_min - w_min_cyclic_cd))"
      ],
      "execution_count": 0,
      "outputs": [
        {
          "output_type": "stream",
          "text": [
            "Distance au minimiseur(l-bfgs) : 1.535013e-08\n"
          ],
          "name": "stdout"
        }
      ]
    },
    {
      "cell_type": "code",
      "metadata": {
        "colab_type": "code",
        "id": "QzKPM6W_2lLv",
        "outputId": "07c4e22e-3570-43c8-9934-f83676ae349a",
        "colab": {
          "base_uri": "https://localhost:8080/",
          "height": 35
        }
      },
      "source": [
        "print(\"Distance au minimum(l-bfgs) : %e\" %np.linalg.norm(f_min - obj_w_cyclic_cd[-1]))"
      ],
      "execution_count": 0,
      "outputs": [
        {
          "output_type": "stream",
          "text": [
            "Distance au minimum(l-bfgs) : 5.115908e-13\n"
          ],
          "name": "stdout"
        }
      ]
    },
    {
      "cell_type": "markdown",
      "metadata": {
        "colab_type": "text",
        "id": "nqaxNKtg2lLx"
      },
      "source": [
        "Pour la descente par coordonnée greedy :"
      ]
    },
    {
      "cell_type": "code",
      "metadata": {
        "colab_type": "code",
        "id": "Imc9mPI42lLx",
        "outputId": "f507f54b-da60-403f-b6dd-bc6bda6d110d",
        "colab": {}
      },
      "source": [
        "print(\"Distance au minimiseur(ols) : %e\" %np.linalg.norm(w_min_ols - w_min_greedy_cd))"
      ],
      "execution_count": 0,
      "outputs": [
        {
          "output_type": "stream",
          "text": [
            "Distance au minimiseur(ols) : 3.519856e-14\n"
          ],
          "name": "stdout"
        }
      ]
    },
    {
      "cell_type": "code",
      "metadata": {
        "colab_type": "code",
        "id": "nd6zmONM2lLz",
        "outputId": "ea619e6f-8a15-4ccb-a31c-463e54d476e4",
        "colab": {}
      },
      "source": [
        "print(\"Distance au minimiseur(l-bfgs) : %e\" %np.linalg.norm(w_min - w_min_greedy_cd))"
      ],
      "execution_count": 0,
      "outputs": [
        {
          "output_type": "stream",
          "text": [
            "Distance au minimiseur(l-bfgs) : 1.535012e-08\n"
          ],
          "name": "stdout"
        }
      ]
    },
    {
      "cell_type": "code",
      "metadata": {
        "colab_type": "code",
        "id": "AhdbSL4n2lL1",
        "outputId": "cf9857c1-6eba-4753-ae52-e59eed2010d2",
        "colab": {}
      },
      "source": [
        "print(\"Distance au minimum(l-bfgs) : %e\" %np.linalg.norm(f_min - obj_w_greedy_cd[-1]))"
      ],
      "execution_count": 0,
      "outputs": [
        {
          "output_type": "stream",
          "text": [
            "Distance au minimum(l-bfgs) : 2.273737e-13\n"
          ],
          "name": "stdout"
        }
      ]
    },
    {
      "cell_type": "markdown",
      "metadata": {
        "colab_type": "text",
        "id": "BNklJ_q_2lL3"
      },
      "source": [
        "Comparons maintenant les vitesses de convergence des deux méthodes de descente par coordonée"
      ]
    },
    {
      "cell_type": "code",
      "metadata": {
        "colab_type": "code",
        "id": "cYj8s-Gt2lL3",
        "outputId": "af882ac1-bb2f-4491-d6ff-ff63d6220769",
        "colab": {
          "base_uri": "https://localhost:8080/",
          "height": 296
        }
      },
      "source": [
        "#import seaborn as sns\n",
        "y = obj_w_greedy_cd - f_min\n",
        "z = obj_w_cyclic_cd - f_min\n",
        "\n",
        "x = np.arange(1, len(y)+1)\n",
        "\n",
        "plt.plot(x, y, label='greedy_cd')\n",
        "plt.plot(x, z, label='cyclic_cd')\n",
        "plt.yscale('log')\n",
        "plt.title(\"Comparaison des objectifs en fonction du nombre d'itération\")\n",
        "plt.xlabel('n_iter')\n",
        "plt.ylabel('f obj')\n",
        "plt.legend(loc='best')\n",
        "plt.show()"
      ],
      "execution_count": 0,
      "outputs": [
        {
          "output_type": "display_data",
          "data": {
            "image/png": "[encoded data removed]",
            "text/plain": [
              "<Figure size 432x288 with 1 Axes>"
            ]
          },
          "metadata": {
            "tags": [],
            "needs_background": "light"
          }
        }
      ]
    },
    {
      "cell_type": "markdown",
      "metadata": {
        "colab_type": "text",
        "id": "ayCq_r8p2lL5"
      },
      "source": [
        "Les deux méthodes de descente par coordonnées sont linéaires en échelle logarithmique. D'après la proposition de Beck and Tetruashvilli (pour cycllic_cd) la convergence est en 1 sur le nombre d'itérations. En échelle logarithmique (en base 10) il est donc normal de retrouver des convergences linéaires.<br>\n",
        "La descente par coordonnées greedy est un peu plus rapide que la cyclique en termes d'itérations. Ceci s'explique car l'algo greedy sélectionne les coordonnées pour lesquelles le gradient est le plus grand en premier. Cependant, pour la méthode greedy le temps d'une itération est plus grand car il doit calculer l'argmax du gradient. On remarque déjà une différence de temps pour 5000 ou 50000 itérations."
      ]
    },
    {
      "cell_type": "markdown",
      "metadata": {
        "colab_type": "text",
        "id": "Th6_ORQj2lL6"
      },
      "source": [
        "### From a practical point of view, could you use greedy CD for\n",
        "- ridge logistic regression?\n",
        "- to solve OLS, but with 100,000 features?"
      ]
    },
    {
      "cell_type": "markdown",
      "metadata": {
        "colab_type": "text",
        "id": "LA0qVrcz2lL7"
      },
      "source": [
        "A cause de la recherche du maximum du gradient sur les features, cette opération peut devenir vite très coûteuse comparé à l'algorithme cyclique qui ne cherche pas à calculer cela et itère sur chaque feature à tour de rôle. En effet avec 100,000 features, il est en pratique impossible de se servir de l'algo de descente par coordonnéees greedy.<br>\n",
        "La constante de Lipschitz est un peu différente avec la pénalisation ridge. "
      ]
    },
    {
      "cell_type": "markdown",
      "metadata": {
        "colab_type": "text",
        "id": "iABiKVr52lL8"
      },
      "source": [
        "## Part 2: Sparse Logistic regression"
      ]
    },
    {
      "cell_type": "markdown",
      "metadata": {
        "colab_type": "text",
        "id": "WMCyyajz2lL-"
      },
      "source": [
        "### An important result\n",
        "\n",
        "Remember: we are solving \n",
        "$$\\hat w \\in \\mathrm{arg \\, min} \\sum_{i=1}^{n} \\mathrm{log} ( 1 + e^{- y_i w^\\top x_i} )  + \\lambda \\Vert w \\Vert_1$$\n",
        "1) Assuming uniqueness of the solution, show that:\n",
        "$$ \\lambda \\geq \\lambda_{max} \\Leftrightarrow \\hat w = 0$$\n",
        "where $\\lambda_{max} := \\frac 12 \\Vert X^\\top y \\Vert_{\\infty}$.\n",
        "\n",
        "\n",
        "You will need the following beautiful result: for any $w =(w_1, \\dots, w_p) \\in \\mathbb{R}^p$, the subdifferential of the L1 norm at $w$ is:\n",
        "\n",
        "$$\\partial \\Vert \\cdot \\Vert_1 (w) = \\partial \\vert \\cdot \\vert (w_1)  \\times \\dots \\times \\partial \\vert \\cdot \\vert (w_p) $$\n",
        "where $\\times$ is the Cartesian product between sets,\n",
        "and $$ \\partial \\vert \\cdot \\vert (w_j) = \n",
        "\\begin{cases} &w_j / |w_j| &\\mathrm{if} \\quad w_j \\neq 0, \n",
        "         \\\\ & [-1, 1] &\\mathrm{otherwise.} \n",
        "\\end{cases}\n",
        "$$\n",
        "\n",
        "\n",
        "(it should now be easy to find $\\partial \\Vert \\cdot \\Vert_1 (\\mathbf{0}_p)$)"
      ]
    },
    {
      "cell_type": "markdown",
      "metadata": {
        "colab_type": "text",
        "id": "0_czSz6v2lL_"
      },
      "source": [
        "<font color='blue'>\n",
        "\n",
        "**Proof**\n",
        "\n",
        "We know : \n",
        "\\begin{equation}\n",
        "  \\hat{w} \\in arg min \\sum_{i = 1}^{n} \\log(1 + e^{-y_{i}w^{T}x_{i}}) + \\lambda \\left \\| w \\right \\|_{1} \\Leftrightarrow 0 \\in \\partial [\\sum_{i = 1}^{n} \\log(1 + e^{-y_{i}w^{T}x_{i}}) + \\lambda \\left \\| w \\right \\|_{1}](\\hat{w})\n",
        "\\end{equation}\n",
        "\n",
        "So : \n",
        "\\begin{equation}\n",
        "\\hat{w} = 0 \\Leftrightarrow 0\\in \\partial [\\sum_{i = 1}^{n} \\log(1 + e^{-y_{i}w^{T}x_{i}}) + \\lambda \\left \\| w \\right \\|_{1}](0)\n",
        "\\end{equation}\n",
        "\n",
        "\\begin{equation}\n",
        "\\Leftrightarrow 0 \\in \\sum_{i = 1}^{n} \\nabla \\log(1 + e^{-y_{i}w^{T}x_{i}})(0) + \\lambda \\partial \\left \\| w \\right \\|_{1}(0)\n",
        "\\end{equation}\n",
        "\n",
        "Yet : \n",
        "\n",
        "\\begin{equation}\n",
        "  \\nabla \\log(1 + e^{-y_{i}w^{T}x_{i}})(0) = -\\frac{x_{i}^{T}y_{i}}{1+e^{y_{i}w^{T}x_{i}}}(0) = -\\frac{x_{i}^{T}y_{i}}{2}\n",
        "\\end{equation}\n",
        "\n",
        "\\begin{equation} \n",
        "\\sum_{i = 1}^{n} \\nabla \\log(1 + e^{-y_{i}w^{T}x_{i}})(0) = -\\frac{X^\\top y}{2}\n",
        "\\end{equation}\n",
        "\n",
        "And : \n",
        "\n",
        "\\begin{equation}\n",
        "\\partial \\left \\| w \\right \\|_{1}(0) = [-1,1]^{p}\n",
        "\\end{equation}\n",
        "\n",
        "Thus : \n",
        "\n",
        "\\begin{equation}\n",
        "\\hat{w} = 0 \\Leftrightarrow 0 \\in -\\frac{X^\\top y}{2} + \\lambda [-1,1]^{p}\n",
        "\\end{equation}\n",
        "\n",
        "\\begin{equation}\n",
        "\\Leftrightarrow X^\\top y \\in 2\\lambda [-1,1]^{p}\n",
        "\\end{equation}\n",
        "\n",
        "Therefore : \n",
        "\n",
        "\\begin{equation}\n",
        "  \\forall j \\in {1, \\ldots, p},\\ -2\\lambda \\leq (X^\\top y)_{j} \\leq 2\\lambda\n",
        "\\end{equation}\n",
        "\n",
        "\\begin{equation}\n",
        "  \\Leftrightarrow \\forall j \\in {1, \\ldots, p},\\ |(X^\\top y)_{j}| \\leq 2\\lambda\n",
        "\\end{equation}\n",
        "\n",
        "\\begin{equation}\n",
        "  \\Leftrightarrow \\ max_{1 \\leq j \\leq p} |(X^\\top y)_{j}| \\leq 2\\lambda \n",
        "\\end{equation}\n",
        "\n",
        "\\begin{equation}\n",
        "  \\Leftrightarrow \\left \\| X^\\top y \\right \\|_{\\infty} \\leq 2\\lambda \n",
        "\\end{equation}\n",
        "\n",
        "\\begin{equation}\n",
        "  \\Leftrightarrow \\lambda \\geq \\frac{\\left \\| X^\\top y \\right \\|_{\\infty}}{2} := \\lambda_{max}\n",
        "\\end{equation}\n",
        "\n",
        "So we have shown that : \n",
        "\n",
        "\\begin{equation}\n",
        "  \\hat{w} = 0 \\Leftrightarrow \\lambda \\geq \\lambda_{max} := \\frac 12 \\Vert X^\\top y \\Vert_{\\infty}\n",
        "\\end{equation}\n",
        "\n",
        "</font>"
      ]
    },
    {
      "cell_type": "markdown",
      "metadata": {
        "colab_type": "text",
        "id": "PYxBDWeN2lMC"
      },
      "source": [
        "2) Show that for sparse Logistic regression the coordinate-wise Lipschitz constant of the smooth term, $\\gamma_j$, can be taken equal to $\\Vert X_j \\Vert^2 / 4$, where $X_j$ denotes the $j$-th column of $X$."
      ]
    },
    {
      "cell_type": "markdown",
      "metadata": {
        "colab_type": "text",
        "id": "TvBp2YYc2lME"
      },
      "source": [
        "<font color='blue'>\n",
        "    \n",
        "**Proof**\n",
        "\n",
        "\\begin{equation}\n",
        "  f(w) = \\sum_{i = 1}^{n} \\log(1 + e^{-y_{i}w^{T}x_{i}}) = \\sum_{i = 1}^{n} \\phi(y_{i}w^{T}x_{i})\n",
        "\\end{equation}\n",
        "\n",
        "Where $\\phi$ is the following function : \n",
        "\\begin{equation}\n",
        "  \\phi(\\alpha) = \\log(1 + e^{-\\alpha})\n",
        "\\end{equation}\n",
        "    \n",
        "We would like to find an upper bound to the second derivative of $\\phi$. \n",
        "    \n",
        "$\\phi$ is $C^{\\infty}$ and we have : \n",
        "\\begin{equation}\n",
        "  \\phi''(\\alpha) = \\frac{e^{\\alpha}}{(1+e^{\\alpha})^2}\n",
        "\\end{equation}\n",
        "\n",
        "We know that : \n",
        "\\begin{equation}\n",
        "  (a + b)^2 - 4ab = a^2 + b^2 - 2ab = (a-b)^2 \\geq 0\n",
        "\\end{equation}\n",
        "\n",
        "Let's take $a = 1$ and $b = e^{\\alpha}$, then we obtain : \n",
        "\\begin{equation}\n",
        "  (1 + e^{\\alpha})^2 - 4e^{\\alpha} \\geq 0 \\\\\n",
        "  (1 + e^{\\alpha})^2 \\geq 4e^{\\alpha} \\\\\n",
        "  \\frac{e^{\\alpha}}{(1 + e^{\\alpha})^2} \\leq \\frac{1}{4}\\\\\n",
        "  \\phi''(\\alpha) \\leq \\frac{1}{4}\n",
        "\\end{equation}\n",
        "    \n",
        "And since we have $\\phi'' \\geq 0$, then we have proved that : \n",
        "\\begin{equation}\n",
        "  |\\phi''(\\alpha)| \\leq \\frac{1}{4}\n",
        "\\end{equation}\n",
        "\n",
        "Let keep in mind that by the Mean Value Inequality, we have : <br/>\n",
        "\\begin{equation}\n",
        "  \\forall a, b \\in \\mathbb{R}, |\\phi'(a) - \\phi'(b)| \\leq sup_\\alpha \\left\\lbrace|\\phi''(\\alpha)|\\right\\rbrace |a - b| \\leq \\frac14 |a - b|\n",
        "\\end{equation}\n",
        "\n",
        "Let's compute the gradient of $f$ with regards to $w$. \n",
        "\\begin{equation}\n",
        "  \\nabla f(w) = \\nabla \\left( \\sum_{i = 1}^{n} \\phi(y_{i}w^{T}x_{i}) \\right) = \\sum_{i = 1}^{n} \\nabla \\phi(y_{i}w^{T}x_{i}) = \\sum_{i = 1}^{n} \\phi'(y_{i}w^{T}x_{i})y_{i}x_{i}^{T}\n",
        "\\end{equation}\n",
        "\n",
        "Since we only updates one coordinate of the parameter's vector at a time, then we are going to rewrite the gradient of $f$ in function of the $j^{th}$ coordinate $w_{j}, \\forall j \\in \\left\\lbrack 1, p \\right\\rbrack$ <br/>\n",
        "\\begin{equation}\n",
        "  | \\nabla_{j} f(w + te_{j}) - \\nabla_{j} f(w) | = | \\sum_{i = 1}^{n} \\phi'(y_{i}(w + te_{j})^{T}x_{i})y_{i}x_{ij} - \\sum_{i = 1}^{n} \\phi'(y_{i}w^{T}x_{i})y_{i}x_{ij}| \\\\\n",
        "  | \\nabla_{j} f(w + te_{j}) - \\nabla_{j} f(w) | = | \\sum_{i = 1}^{n} \\left\\lbrack\\phi'(y_{i}(w + te_{j})^{T}x_{i}) - \\phi'(y_{i}w^{T}x_{i})\\right\\rbrack y_{i}x_{ij}| \\\\\n",
        "  | \\nabla_{j} f(w + te_{j}) - \\nabla_{j} f(w) | \\leq \\sum_{i = 1}^{n} | \\phi'(y_{i}(w + te_{j})^{T}x_{i}) - \\phi'(y_{i}w^{T}x_{i}) | |y_{i}x_{ij}| \n",
        "\\end{equation} \n",
        "\n",
        "We apply the Mean Value Inequality with $a_{i} = y_{i}(w+te_{j})^{T}x_{i}$, $b_{i} = y_{i}w^{T}x_{i}$. \n",
        "\\begin{equation}\n",
        "  | \\nabla_{j} f(w + te_{j}) - \\nabla_{j} f(w) | \\leq \\sum_{i = 1}^{n} \\frac{1}{4}| y_{i}(w+te_{j})^{T}x_{i} - y_{i}w^{T}x_{i}| |y_{i}x_{ij}| \\\\\n",
        "  | \\nabla_{j} f(w + te_{j}) - \\nabla_{j} f(w) | \\leq \\sum_{i = 1}^{n} \\frac{1}{4}| y_{i}\\left\\lbrack(w^{T} + te_{j}^{T}) - w^{T}\\right\\rbrack x_{i} | |y_{i}x_{ij}| \\\\\n",
        "  | \\nabla_{j} f(w + te_{j}) - \\nabla_{j} f(w) | \\leq \\frac{1}{4} \\sum_{i = 1}^{n} | y_{i} te_{j}^{T} x_{i} | |y_{i}x_{ij}| \\\\\n",
        "  | \\nabla_{j} f(w + te_{j}) - \\nabla_{j} f(w) | \\leq \\frac{1}{4} \\sum_{i = 1}^{n} | y_{i} t x_{ij} | |y_{i}x_{ij}| \\\\\n",
        "  | \\nabla_{j} f(w + te_{j}) - \\nabla_{j} f(w) | \\leq \\frac{1}{4} \\sum_{i = 1}^{n} |t||y_{i}x_{ij}|^{2} \\\\\n",
        "  | \\nabla_{j} f(w + te_{j}) - \\nabla_{j} f(w) | \\leq \\frac{1}{4} \\sum_{i = 1}^{n} |t|y_{i}^{2}x_{ij}^{2} \n",
        "\\end{equation} \n",
        "\n",
        "But $\\forall i \\in \\left\\lbrack 1, n \\right\\rbrack, y_{i} \\in \\left\\lbrace -1, +1 \\right\\rbrace$, therefore we obtain : \n",
        "\\begin{equation}\n",
        "  | \\nabla_{j} f(w + te_{j}) - \\nabla_{j} f(w) | \\leq \\frac{1}{4} \\sum_{i = 1}^{n} |t|x_{ij}^{2} \\\\\n",
        "  | \\nabla_{j} f(w + te_{j}) - \\nabla_{j} f(w) | \\leq \\frac{|t|}{4} \\sum_{i = 1}^{n} x_{ij}^{2} \\\\\n",
        "  | \\nabla_{j} L(w + te_{j}) - \\nabla_{j} L(w) | \\leq |t| \\frac{\\left \\| X_{j} \\right \\|^{2} }{4}\n",
        "\\end{equation} \n",
        "\n",
        "Thus for sparse Logistic Regression, the coordinate-wise Lipshitz constant of the smooth term, $\\gamma_{j}$, can be taken equal to  $\\Vert X_j \\Vert^2 / 4$ , where  Xj  denotes the  j -th column of  X.\n",
        "\n",
        "</font>"
      ]
    },
    {
      "cell_type": "markdown",
      "metadata": {
        "colab_type": "text",
        "id": "zldul7TL2lMF"
      },
      "source": [
        "You are now ready to code **cyclic proximal coordinate descent** for sparse Logistic regression:"
      ]
    },
    {
      "cell_type": "markdown",
      "metadata": {
        "colab_type": "text",
        "id": "MGhD00I22lMF"
      },
      "source": [
        "**WARNING**: <br>\n",
        "Lasso means linear regression (quadratic fitting term) with L1 penalty. <br>\n",
        "Sparse logistic regression means logistic regression with L1 penalty."
      ]
    },
    {
      "cell_type": "code",
      "metadata": {
        "colab_type": "code",
        "id": "E7aNpSYx2lMG",
        "colab": {}
      },
      "source": [
        "X, y = simu(coefs, n_samples=1000, for_logreg=True)\n",
        "lambda_max = norm(X.T.dot(y), ord= np.inf) / 2.\n",
        "lamb = lambda_max / 20.  \n",
        "# much easier to parametrize lambda as a function of lambda_max than \n",
        "# to take random values like 0.1 in previous Labs"
      ],
      "execution_count": 0,
      "outputs": []
    },
    {
      "cell_type": "code",
      "metadata": {
        "colab_type": "code",
        "id": "ssnXJS2o2lMI",
        "colab": {}
      },
      "source": [
        "def sigmoid(t):\n",
        "    \"\"\"Sigmoid function\"\"\"\n",
        "    return 1. / (1. + np.exp(-t))\n",
        "\n",
        "def soft_thresh(x, u):\n",
        "    \"\"\"Soft thresholding of x at level u\"\"\"\n",
        "    return np.sign(x) * np.maximum(0., np.abs(x) - u)\n",
        "\n",
        "def cd_logreg(X, y, lamb, n_iter):\n",
        "    n_samples, n_features = X.shape\n",
        "    all_objs = np.zeros(n_iter)\n",
        "    w = np.zeros(n_features)\n",
        "    Xw = X.dot(w)\n",
        "    \n",
        "    # TODO\n",
        "    lips_const = (np.linalg.norm(X, axis=0)**2)/4\n",
        "    # END TODO\n",
        "    \n",
        "    for t in range(n_iter):\n",
        "        for j in range(n_features):\n",
        "            old_w_j = w[j]\n",
        "            \n",
        "            # TODO\n",
        "            grad_j = np.sum(- y * X[:, j] * sigmoid(-y * Xw))\n",
        "            step = 1/lips_const[j]\n",
        "            w[j] = soft_thresh(w[j] - step*grad_j, lamb*step) # proximal operator of the L1 norm corresponds to the soft thresholding function\n",
        "            \n",
        "            if old_w_j != w[j]:\n",
        "                Xw += X[:,j].dot(w[j]-old_w_j)\n",
        "            #END TODO  \n",
        "            \n",
        "        all_objs[t] = np.log(1. + np.exp(-y * Xw)).sum() + lamb * norm(w, ord=1)\n",
        "    \n",
        "    return w, all_objs"
      ],
      "execution_count": 0,
      "outputs": []
    },
    {
      "cell_type": "code",
      "metadata": {
        "colab_type": "code",
        "id": "WgVNwyNv2lMK",
        "outputId": "67fb4d67-9362-40a9-df7b-e3ca0f2247bb",
        "colab": {
          "base_uri": "https://localhost:8080/",
          "height": 52
        }
      },
      "source": [
        "%%time\n",
        "w_min_cd_logreg, obj_w_cd_logreg = cd_logreg(X, y, lamb, 2000)"
      ],
      "execution_count": 0,
      "outputs": [
        {
          "output_type": "stream",
          "text": [
            "CPU times: user 10.1 s, sys: 104 ms, total: 10.2 s\n",
            "Wall time: 11.1 s\n"
          ],
          "name": "stdout"
        }
      ]
    },
    {
      "cell_type": "code",
      "metadata": {
        "id": "55qxZIALMfPh",
        "colab_type": "code",
        "colab": {},
        "outputId": "040abca1-2322-456c-cd9a-ffd811c3b0fa"
      },
      "source": [
        "obj_w_cd_logreg[-1]"
      ],
      "execution_count": 0,
      "outputs": [
        {
          "output_type": "execute_result",
          "data": {
            "text/plain": [
              "370.90370359545796"
            ]
          },
          "metadata": {
            "tags": []
          },
          "execution_count": 20
        }
      ]
    },
    {
      "cell_type": "markdown",
      "metadata": {
        "colab_type": "text",
        "id": "p-x8JTKm2lMQ"
      },
      "source": [
        "# Part 3: Real data\n",
        "\n",
        "We will compare vanilla cyclic CD and ISTA to **solve the Lasso** on a real dataset, called _leukemia_."
      ]
    },
    {
      "cell_type": "code",
      "metadata": {
        "colab_type": "code",
        "id": "Vr5jWQOL2lMQ",
        "colab": {}
      },
      "source": [
        "from sklearn.datasets import fetch_openml\n",
        "\n",
        "leuk = fetch_openml(\"leukemia\")\n",
        "\n",
        "X = np.asfortranarray(leuk.data)\n",
        "y = np.ones(leuk.target.shape)\n",
        "y[leuk.target == leuk.target[0]] = -1."
      ],
      "execution_count": 0,
      "outputs": []
    },
    {
      "cell_type": "code",
      "metadata": {
        "colab_type": "code",
        "id": "HmGYPQKR2lMS",
        "outputId": "96593301-0c5a-4117-935c-d45adf6e1514",
        "colab": {
          "base_uri": "https://localhost:8080/",
          "height": 52
        }
      },
      "source": [
        "print(X.shape)\n",
        "print(y.shape)\n",
        "\n",
        "lambda_max_lasso = norm(X.T.dot(y), ord=np.inf)\n",
        "lambd = lambda_max_lasso / 5.\n",
        "\n",
        "n, p = X.shape"
      ],
      "execution_count": 0,
      "outputs": [
        {
          "output_type": "stream",
          "text": [
            "(72, 7129)\n",
            "(72,)\n"
          ],
          "name": "stdout"
        }
      ]
    },
    {
      "cell_type": "markdown",
      "metadata": {
        "colab_type": "text",
        "id": "rD-FxEhj2lMV"
      },
      "source": [
        "Code:\n",
        "- a simple proximal gradient solver for the Lasso\n",
        "- a prox CD solver for the Lasso\n",
        "and compare them on this dataset. \n",
        "Do the plots in terms of epochs, not updates (to be fair to CD)."
      ]
    },
    {
      "cell_type": "markdown",
      "metadata": {
        "colab_type": "text",
        "id": "S3kOTYXU2lMW"
      },
      "source": [
        "The problems we want to minimize take the form:\n",
        "$$\n",
        "\\arg\\min_w f(w) + \\lambda \\,R(w)\n",
        "$$\n",
        "where :\n",
        "$$\n",
        "f(w) = \\frac{1}{2} \\| y - X w \\|_2^2,\n",
        "$$\n",
        "and :\n",
        "$$\n",
        "R(w) = \\|w\\|_1\n",
        "$$"
      ]
    },
    {
      "cell_type": "markdown",
      "metadata": {
        "colab_type": "text",
        "id": "jF4R-pQ52lMW"
      },
      "source": [
        "### Proximal gradient solver for the Lasso"
      ]
    },
    {
      "cell_type": "code",
      "metadata": {
        "colab_type": "code",
        "id": "gDei0M2G2lMX",
        "colab": {}
      },
      "source": [
        "def prox_L1(x, lmbd):\n",
        "    \"\"\"Proximal operator for the L1 at x\"\"\"\n",
        "    return np.sign(x)*np.maximum(np.abs(x)-lmbd,0)\n",
        "\n",
        "def L1_norm(x, lmbd):\n",
        "    \"\"\"Value of the L1 penalization at x\"\"\"\n",
        "    return lmbd*np.linalg.norm(x,ord=1)\n",
        "\n",
        "def loss_linreg(w):\n",
        "    \"\"\"Least squares loss\"\"\"\n",
        "    return (1/2)*np.linalg.norm(y-np.dot(X,w), ord=2)**2\n",
        "\n",
        "def grad_linreg(w):\n",
        "    \"\"\"Least squares gradient\"\"\"\n",
        "    return -np.dot(X.T, y-np.dot(X,w))\n",
        "#from scipy.optimize import check_grad\n",
        "#check_grad(loss_linreg, grad_linreg, randn(p))\n",
        "\n",
        "def smoothness_const_linreg(X):\n",
        "    \"\"\"Lipschitz smoothness constant for least squares loss\"\"\"    \n",
        "    return (np.linalg.norm(X, ord=2))**2"
      ],
      "execution_count": 0,
      "outputs": []
    },
    {
      "cell_type": "code",
      "metadata": {
        "colab_type": "code",
        "id": "_PUJAVOR2lMY",
        "colab": {}
      },
      "source": [
        "def PGD(w0, f, grad_f, R, prox_R, step, lmbd, n_iter=50):\n",
        "    \"\"\"Proximal gradient descent algorithm\"\"\"\n",
        "    w = w0.copy()\n",
        "    n_samples, n_features = X.shape\n",
        "\n",
        "    # objective history\n",
        "    objectives = []\n",
        "    # Current objective\n",
        "    obj = f(w) + R(w, lmbd)\n",
        "    objectives.append(obj)\n",
        "    for k in range(n_iter-1):\n",
        "        w = prox_R(w - step*grad_f(w), lmbd*step)\n",
        "        obj = f(w) + R(w, lmbd)\n",
        "        objectives.append(obj)\n",
        "    return w, np.array(objectives)"
      ],
      "execution_count": 0,
      "outputs": []
    },
    {
      "cell_type": "code",
      "metadata": {
        "colab_type": "code",
        "id": "K6oWdYjb2lMa",
        "outputId": "f487b26f-0852-4295-c589-b334de80b2b3",
        "colab": {
          "base_uri": "https://localhost:8080/",
          "height": 88
        }
      },
      "source": [
        "L = smoothness_const_linreg(X)\n",
        "w0 = np.zeros(p)\n",
        "\n",
        "w_min_pgd, obj_min_pgd = PGD(w0=w0, f=loss_linreg, grad_f=grad_linreg, R=L1_norm, prox_R=prox_L1, step=1/L, lmbd=lambd, \n",
        "                             n_iter=50)\n",
        "print(\"Minimum : \\n\", obj_min_pgd[-1])\n",
        "print(\"Minimizers : \\n\", w_min_pgd)"
      ],
      "execution_count": 0,
      "outputs": [
        {
          "output_type": "stream",
          "text": [
            "Minimum : \n",
            " 32.197691021665605\n",
            "Minimizers : \n",
            " [ 0. -0.  0. ... -0.  0.  0.]\n"
          ],
          "name": "stdout"
        }
      ]
    },
    {
      "cell_type": "code",
      "metadata": {
        "colab_type": "code",
        "id": "Kp7z04sg2lMb",
        "outputId": "2264726d-bb48-4969-c3d3-2a93e6683096",
        "colab": {
          "base_uri": "https://localhost:8080/",
          "height": 266
        }
      },
      "source": [
        "w_min_pgd[w_min_pgd!=0]"
      ],
      "execution_count": 0,
      "outputs": [
        {
          "output_type": "execute_result",
          "data": {
            "text/plain": [
              "array([-3.19424436e-08, -3.64152848e-07, -4.94620228e-07, -4.16532091e-07,\n",
              "       -1.50664715e-06,  1.59761403e-06, -2.61168581e-07, -2.90057010e-07,\n",
              "       -8.76820094e-07,  2.01264058e-06, -2.33524631e-07, -1.84740675e-07,\n",
              "        2.44524799e-06, -4.97614040e-07, -4.97384095e-07, -2.01187582e-07,\n",
              "        6.31604740e-07, -8.63141841e-08, -4.88317791e-08,  1.74634594e-06,\n",
              "       -2.74371007e-07, -2.17365626e-07, -6.14739489e-07, -8.03385503e-07,\n",
              "       -6.61261751e-08,  2.21344554e-07, -4.88160241e-08, -6.33533319e-07,\n",
              "       -4.89650489e-07, -7.47049619e-07, -9.32213268e-07,  2.50824410e-07,\n",
              "       -5.70333901e-07, -7.19609546e-07, -9.04248110e-07, -9.90253680e-08,\n",
              "       -5.91914941e-07, -6.77450277e-07, -3.42160634e-07,  7.74256703e-08,\n",
              "       -9.12337326e-07, -1.01250944e-06, -1.63269573e-06, -5.41810764e-07,\n",
              "        1.34440091e-07,  1.45337268e-06,  2.60269343e-07,  1.54191562e-07,\n",
              "        6.53559942e-07,  3.33886368e-08, -6.45389119e-08, -5.47412492e-07,\n",
              "        8.64219802e-08,  1.93547182e-07,  2.68648728e-07])"
            ]
          },
          "metadata": {
            "tags": []
          },
          "execution_count": 26
        }
      ]
    },
    {
      "cell_type": "markdown",
      "metadata": {
        "colab_type": "text",
        "id": "VPLi-dvm2lMd"
      },
      "source": [
        "### Prox CD solver for the Lasso "
      ]
    },
    {
      "cell_type": "code",
      "metadata": {
        "colab_type": "code",
        "id": "F8qs05Ep2lMd",
        "colab": {}
      },
      "source": [
        "def soft_thresh(x, u):\n",
        "    \"\"\"Soft thresholding of x at level u\"\"\"\n",
        "    return np.sign(x) * np.maximum(0., np.abs(x) - u)\n",
        "\n",
        "def cd_linreg(X, y, lamb, n_iter):\n",
        "    n_samples, n_features = X.shape\n",
        "    all_objs = np.zeros(n_iter)\n",
        "    w = np.zeros(n_features)\n",
        "    Xw = X.dot(w)\n",
        "    \n",
        "    # TODO\n",
        "    lips_const = np.linalg.norm(X, axis=0)**2\n",
        "    all_objs[0] = (1/2)*(np.linalg.norm(y - Xw, ord=2))**2 + lamb * np.linalg.norm(w, ord=1)\n",
        "    # END TODO\n",
        "    \n",
        "    for t in range(n_iter-1):\n",
        "        for j in range(n_features):\n",
        "            old_w_j = w[j]\n",
        "            # TODO\n",
        "            grad_j = np.dot(X[:,j], Xw - y)\n",
        "            step = 1/lips_const[j]\n",
        "            w[j] = soft_thresh(w[j] - step*grad_j, lamb*step)\n",
        "\n",
        "            if old_w_j != w[j]:\n",
        "                Xw += X[:,j].dot(w[j]-old_w_j)\n",
        "            #END TODO  \n",
        "        all_objs[t+1] = (1/2)*(np.linalg.norm(y - Xw, ord=2))**2 + lamb * np.linalg.norm(w, ord=1)\n",
        "    return w, all_objs"
      ],
      "execution_count": 0,
      "outputs": []
    },
    {
      "cell_type": "code",
      "metadata": {
        "colab_type": "code",
        "id": "w2FWoevV2lMf",
        "outputId": "f74e7bb2-4adb-4a0b-d779-586f707b8c18",
        "colab": {
          "base_uri": "https://localhost:8080/",
          "height": 124
        }
      },
      "source": [
        "%%time\n",
        "w_min_cd_linreg, obj_min_cd_linreg = cd_linreg(X, y, lambd, 50)\n",
        "print(\"Minimum : \\n\", obj_min_cd_linreg[-1])\n",
        "print(\"Minimizers : \\n\", w_min_cd_linreg)"
      ],
      "execution_count": 0,
      "outputs": [
        {
          "output_type": "stream",
          "text": [
            "Minimum : \n",
            " 26.500197757964404\n",
            "Minimizers : \n",
            " [ 0.  0.  0. ... -0.  0.  0.]\n",
            "CPU times: user 4.4 s, sys: 70.8 ms, total: 4.47 s\n",
            "Wall time: 4.91 s\n"
          ],
          "name": "stdout"
        }
      ]
    },
    {
      "cell_type": "code",
      "metadata": {
        "colab_type": "code",
        "id": "pej3GQnE2lMg",
        "outputId": "0c6b4b5c-02ce-4c36-fe10-13c84b742893",
        "colab": {
          "base_uri": "https://localhost:8080/",
          "height": 52
        }
      },
      "source": [
        "w_min_cd_linreg[w_min_cd_linreg!=0]"
      ],
      "execution_count": 0,
      "outputs": [
        {
          "output_type": "execute_result",
          "data": {
            "text/plain": [
              "array([-1.20566814e-05, -7.94044052e-06,  2.40730833e-05,  4.44371816e-05,\n",
              "        9.65975923e-06, -1.40718946e-06, -9.16697006e-06,  1.34550857e-05])"
            ]
          },
          "metadata": {
            "tags": []
          },
          "execution_count": 29
        }
      ]
    },
    {
      "cell_type": "markdown",
      "metadata": {
        "colab_type": "text",
        "id": "YYkeme0r2lMi"
      },
      "source": [
        "### Compare "
      ]
    },
    {
      "cell_type": "code",
      "metadata": {
        "colab_type": "code",
        "id": "5WkSmOR12lMi",
        "outputId": "66349283-17cf-4e47-a25d-da9b1a1e83c9",
        "colab": {
          "base_uri": "https://localhost:8080/",
          "height": 351
        }
      },
      "source": [
        "plt.figure(figsize=(8, 5))\n",
        "\n",
        "y = obj_min_cd_linreg\n",
        "z = obj_min_pgd\n",
        "\n",
        "x = np.arange(1, len(y)+1)\n",
        "\n",
        "plt.plot(x, y, label='cyclic_cd')\n",
        "plt.plot(x, z, label='pgd')\n",
        "plt.yscale('log')\n",
        "plt.title(\"Comparaison des fonctions à minimiser en fonction du nombre d'itération\")\n",
        "plt.xlabel('n_iter')\n",
        "plt.ylabel('f obj')\n",
        "plt.grid()\n",
        "plt.legend(loc='best')\n",
        "plt.show()"
      ],
      "execution_count": 0,
      "outputs": [
        {
          "output_type": "display_data",
          "data": {
            "image/png": "[encoded data removed]",
            "text/plain": [
              "<Figure size 576x360 with 1 Axes>"
            ]
          },
          "metadata": {
            "tags": [],
            "needs_background": "light"
          }
        }
      ]
    },
    {
      "cell_type": "markdown",
      "metadata": {
        "colab_type": "text",
        "id": "xYSnNB2D2lMk"
      },
      "source": [
        "## Conclusion\n",
        "On remarque donc que dans ce cas la descente de gradient par coordonnées cyclique est bien plus rapide que l'algorithme PGD. En effet, on peut constater que l'algorithme de descente par coordonnées a seulement besoin de 15 itérations pour atteindre la valeur minimale de la fonction objectif tandis que la méthode proximale décroit très rapidement sur les 5 premières itérations puis devient bien plus lente et nécessite ainsi un nombre d'itérations beaucoup plus élevé pour atteindre la valeur optimale de la fonction objectif. <br/>\n",
        "\n",
        "De plus, on a montré dans les notes de cours que la méthode de descente de gradient était plus lente que la méthode de descente par coordonnées. Les vitesses de convergences restant vraies pour les méthodes proximales, il est normal de voir la PGD plus lente que la CD. "
      ]
    }
  ]
}