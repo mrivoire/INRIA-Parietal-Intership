{
  "nbformat": 4,
  "nbformat_minor": 0,
  "metadata": {
    "anaconda-cloud": {},
    "kernelspec": {
      "display_name": "Python 3",
      "language": "python",
      "name": "python3"
    },
    "language_info": {
      "codemirror_mode": {
        "name": "ipython",
        "version": 3
      },
      "file_extension": ".py",
      "mimetype": "text/x-python",
      "name": "python",
      "nbconvert_exporter": "python",
      "pygments_lexer": "ipython3",
      "version": "3.7.5"
    },
    "colab": {
      "name": "coordinate_descent.ipynb",
      "provenance": [],
      "collapsed_sections": []
    }
  },
  "cells": [
    {
      "cell_type": "markdown",
      "metadata": {
        "id": "Z2Sp3-8kXR_8",
        "colab_type": "text"
      },
      "source": [
        "# Coordinate descent for least squares\n",
        "\n",
        "Author: Alexandre Gramfort, Mathurin Massias"
      ]
    },
    {
      "cell_type": "code",
      "metadata": {
        "id": "vedEXAHYXR_9",
        "colab_type": "code",
        "colab": {}
      },
      "source": [
        "%matplotlib inline\n",
        "import numpy as np\n",
        "import matplotlib.pyplot as plt\n",
        "from scipy import linalg"
      ],
      "execution_count": 0,
      "outputs": []
    },
    {
      "cell_type": "markdown",
      "metadata": {
        "id": "_KxzCEP3XSAB",
        "colab_type": "text"
      },
      "source": [
        "## Generate simulated data\n",
        "\n",
        "$y = Ax+noise$"
      ]
    },
    {
      "cell_type": "code",
      "metadata": {
        "id": "5_2jU9lpXSAC",
        "colab_type": "code",
        "colab": {}
      },
      "source": [
        "np.random.seed(0)\n",
        "n_samples, n_features = 300, 100\n",
        "A = np.random.randn(n_samples, n_features)\n",
        "x = np.random.randn(n_features)\n",
        "y = np.dot(A, x)\n",
        "y += 0.3 * np.random.randn(n_samples)"
      ],
      "execution_count": 0,
      "outputs": []
    },
    {
      "cell_type": "markdown",
      "metadata": {
        "id": "231BsGtRXSAF",
        "colab_type": "text"
      },
      "source": [
        "## Option 1 : \n",
        "\n",
        "$\\min_w \\frac{1}{2} \\|y - Ax\\|^2$\n",
        "\n",
        "solved with `linalg.solve`"
      ]
    },
    {
      "cell_type": "markdown",
      "metadata": {
        "id": "ARI2_GO0Y9gs",
        "colab_type": "text"
      },
      "source": [
        "**linalg.solve** <br/>\n",
        "\n",
        "Code : $np.linalg.solve(a,b)$ <br/>\n",
        "\n",
        "Solve a linear matrix equation, or system of linear scalar equations.\n",
        "Computes the exact solution, $x$, of the well-determined, i.e., full rank, linear matrix equation $ax = b$. <br/>\n",
        "\n",
        "Parameters : \n",
        "\n",
        "- $a : array\\_like$ : coeffiecient matrix.\n",
        "- $b : array\\_like$ : ordinate or dependent variable values.\n",
        "\n",
        "Returns : \n",
        "\n",
        "- $x ndarray$ : solution to the system $ax = b$. Returned shape is identical to $b$. \n",
        "\n",
        "Raises : \n",
        "\n",
        "- LinAlgError : if $a$ is singular or not square therefore not invertible."
      ]
    },
    {
      "cell_type": "code",
      "metadata": {
        "scrolled": true,
        "id": "pZnvxH1fXSAG",
        "colab_type": "code",
        "colab": {}
      },
      "source": [
        "x_solve = linalg.solve(np.dot(A.T, A), np.dot(A.T, y))"
      ],
      "execution_count": 0,
      "outputs": []
    },
    {
      "cell_type": "code",
      "metadata": {
        "id": "68Xt1eVMXSAK",
        "colab_type": "code",
        "colab": {
          "base_uri": "https://localhost:8080/",
          "height": 265
        },
        "outputId": "bcba4563-7b96-4883-b162-5a5604e11233"
      },
      "source": [
        "plt.scatter(x, x_solve);"
      ],
      "execution_count": 4,
      "outputs": [
        {
          "output_type": "display_data",
          "data": {
            "image/png": "[encoded data removed]",
            "text/plain": [
              "<Figure size 432x288 with 1 Axes>"
            ]
          },
          "metadata": {
            "tags": [],
            "needs_background": "light"
          }
        }
      ]
    },
    {
      "cell_type": "markdown",
      "metadata": {
        "id": "EhwL4EJKXSAQ",
        "colab_type": "text"
      },
      "source": [
        "## Option 2: gradient descent"
      ]
    },
    {
      "cell_type": "code",
      "metadata": {
        "id": "P5cY0XLtXSAQ",
        "colab_type": "code",
        "colab": {
          "base_uri": "https://localhost:8080/",
          "height": 297
        },
        "outputId": "2838447f-4bfe-40da-97e7-8041e5ea3689"
      },
      "source": [
        "def gradient(x):\n",
        "    return np.dot(A.T, np.dot(A, x) - y)\n",
        "\n",
        "\n",
        "def objective(x):\n",
        "    return 0.5 * linalg.norm(np.dot(A, x) - y) ** 2\n",
        "\n",
        "\n",
        "L = linalg.norm(A, ord=2) ** 2\n",
        "\n",
        "n_iter = 300\n",
        "\n",
        "x_hat = np.zeros_like(x)\n",
        "objs = list()\n",
        "for k in range(n_iter):\n",
        "    x_hat -= 1. / L * gradient(x_hat)\n",
        "    objs.append(objective(x_hat))\n",
        "\n",
        "eps = np.finfo('float').eps\n",
        "plt.semilogy(np.maximum(np.array(objs) - objective(x_solve), eps))\n",
        "plt.xlabel('iteration')\n",
        "plt.ylabel('objective')"
      ],
      "execution_count": 5,
      "outputs": [
        {
          "output_type": "execute_result",
          "data": {
            "text/plain": [
              "Text(0, 0.5, 'objective')"
            ]
          },
          "metadata": {
            "tags": []
          },
          "execution_count": 5
        },
        {
          "output_type": "display_data",
          "data": {
            "image/png": "[encoded data removed]",
            "text/plain": [
              "<Figure size 432x288 with 1 Axes>"
            ]
          },
          "metadata": {
            "tags": [],
            "needs_background": "light"
          }
        }
      ]
    },
    {
      "cell_type": "markdown",
      "metadata": {
        "id": "2-Sxwce7XSAT",
        "colab_type": "text"
      },
      "source": [
        "## Option 3: cyclic coordinate descent"
      ]
    },
    {
      "cell_type": "code",
      "metadata": {
        "id": "RQ7HwodrXSAT",
        "colab_type": "code",
        "colab": {
          "base_uri": "https://localhost:8080/",
          "height": 296
        },
        "outputId": "b0ee72c5-1d3a-45c0-fe92-cf5ee18aa746"
      },
      "source": [
        "Li = np.sum(A ** 2, axis=0)\n",
        "\n",
        "n_iter = 300 * n_features\n",
        "\n",
        "x_hat = np.zeros_like(x)\n",
        "objs = list()\n",
        "for k in range(n_iter):\n",
        "    i = k % n_features\n",
        "    x_hat[i] = np.dot(A[:, i].T, y - np.dot(A, x_hat) + x_hat[i] * A[:, i])\n",
        "    x_hat[i] /= np.dot(A[:, i], A[:, i])\n",
        "    objs.append(objective(x_hat))\n",
        "\n",
        "plt.semilogy(np.maximum(np.array(objs) - objective(x_solve), eps))\n",
        "plt.xlabel('iteration')\n",
        "plt.ylabel('objective')"
      ],
      "execution_count": 6,
      "outputs": [
        {
          "output_type": "execute_result",
          "data": {
            "text/plain": [
              "Text(0, 0.5, 'objective')"
            ]
          },
          "metadata": {
            "tags": []
          },
          "execution_count": 6
        },
        {
          "output_type": "display_data",
          "data": {
            "image/png": "[encoded data removed]",
            "text/plain": [
              "<Figure size 432x288 with 1 Axes>"
            ]
          },
          "metadata": {
            "tags": [],
            "needs_background": "light"
          }
        }
      ]
    },
    {
      "cell_type": "markdown",
      "metadata": {
        "id": "-jn_V9QGXSAY",
        "colab_type": "text"
      },
      "source": [
        "### or written in a more generic manner:"
      ]
    },
    {
      "cell_type": "code",
      "metadata": {
        "id": "4bQKQflAXSAZ",
        "colab_type": "code",
        "colab": {
          "base_uri": "https://localhost:8080/",
          "height": 296
        },
        "outputId": "70e2dee5-c157-43fa-8a2a-65c7cbab7d70"
      },
      "source": [
        "def gradient_i(x, i):\n",
        "    return np.dot(A[:, i].T, np.dot(A, x) - y)\n",
        "\n",
        "Li = np.sum(A * A, axis=0)\n",
        "\n",
        "n_iter = 300 * n_features\n",
        "\n",
        "x_hat = np.zeros_like(x)\n",
        "objs = list()\n",
        "for k in range(n_iter):\n",
        "    i = k % n_features\n",
        "    x_hat[i] -= 1. / Li[i] * gradient_i(x_hat, i)\n",
        "    objs.append(objective(x_hat))\n",
        "\n",
        "plt.semilogy(np.maximum(np.array(objs) - objective(x_solve), eps))\n",
        "plt.xlabel('iteration')\n",
        "plt.ylabel('objective')"
      ],
      "execution_count": 7,
      "outputs": [
        {
          "output_type": "execute_result",
          "data": {
            "text/plain": [
              "Text(0, 0.5, 'objective')"
            ]
          },
          "metadata": {
            "tags": []
          },
          "execution_count": 7
        },
        {
          "output_type": "display_data",
          "data": {
            "image/png": "[encoded data removed]",
            "text/plain": [
              "<Figure size 432x288 with 1 Axes>"
            ]
          },
          "metadata": {
            "tags": [],
            "needs_background": "light"
          }
        }
      ]
    }
  ]
}