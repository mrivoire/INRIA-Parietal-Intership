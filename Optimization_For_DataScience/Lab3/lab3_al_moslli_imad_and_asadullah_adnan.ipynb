{
  "nbformat": 4,
  "nbformat_minor": 0,
  "metadata": {
    "anaconda-cloud": {},
    "kernelspec": {
      "display_name": "Python 3",
      "language": "python",
      "name": "python3"
    },
    "language_info": {
      "codemirror_mode": {
        "name": "ipython",
        "version": 3
      },
      "file_extension": ".py",
      "mimetype": "text/x-python",
      "name": "python",
      "nbconvert_exporter": "python",
      "pygments_lexer": "ipython3",
      "version": "3.7.3"
    },
    "colab": {
      "name": "lab3_al_moslli_imad_and_asadullah_adnan.ipynb",
      "provenance": [],
      "collapsed_sections": []
    }
  },
  "cells": [
    {
      "cell_type": "markdown",
      "metadata": {
        "id": "2HBXtNqhHj63",
        "colab_type": "text"
      },
      "source": [
        "# Short Lab 3 : Proximal/cyclic/greedy coordinate descent\n",
        "\n",
        "#### Authors: A. Gramfort, M. Massias, P. Ablin\n",
        "\n",
        "## Aim\n",
        "\n",
        "The aim of this material is to code \n",
        "- cyclic and greedy coordinate descent for ordinary least squares (OLS)\n",
        "- proximal coordinate descent for sparse Logistic regression\n",
        "\n",
        "## VERY IMPORTANT\n",
        "\n",
        "- This work **must be done by pairs of students**.\n",
        "- **Each** student must send their work **before the 11th of november at 23:59**, using the **moodle platform**.\n",
        "- This means that **each student in the pair sends the same file**\n",
        "- On the moodle, in the \"Optimization for Data Science\" course, you have a \"devoir\" section called **Rendu TP du 5 novembre 2018**. This is where you submit your jupyter notebook file. \n",
        "- The **name of the file must be** constructed as in the next cell\n",
        "\n",
        "# Gentle reminder: no evaluation if you don't respect this EXACTLY\n",
        "\n",
        "### How to construct the name of your file"
      ]
    },
    {
      "cell_type": "markdown",
      "metadata": {
        "id": "3zZlo6TrK2-q",
        "colab_type": "text"
      },
      "source": [
        ""
      ]
    },
    {
      "cell_type": "code",
      "metadata": {
        "id": "kIfRlytKHj64",
        "colab_type": "code",
        "outputId": "1cc7c692-d740-4280-dd35-19aff6215145",
        "colab": {
          "base_uri": "https://localhost:8080/",
          "height": 34
        }
      },
      "source": [
        "# Change here using YOUR first and last names\n",
        "fn1 = \"Imad\"\n",
        "ln1 = \"Al_moslli\"\n",
        "fn2 = \"Adnan\"\n",
        "ln2 = \"Asadullah\"\n",
        "\n",
        "filename = \"_\".join(map(lambda s: s.strip().lower(), \n",
        "                        [\"lab3\", ln1, fn1, \"and\", ln2, fn2])) + \".ipynb\"\n",
        "print(filename)"
      ],
      "execution_count": 1,
      "outputs": [
        {
          "output_type": "stream",
          "text": [
            "lab3_al_moslli_imad_and_asadullah_adnan.ipynb\n"
          ],
          "name": "stdout"
        }
      ]
    },
    {
      "cell_type": "code",
      "metadata": {
        "id": "4jdSjE25Hj66",
        "colab_type": "code",
        "colab": {}
      },
      "source": [
        "import numpy as np\n",
        "from numpy.linalg import norm\n",
        "import matplotlib.pyplot as plt"
      ],
      "execution_count": 0,
      "outputs": []
    },
    {
      "cell_type": "code",
      "metadata": {
        "id": "zvmwxvxfHj68",
        "colab_type": "code",
        "colab": {}
      },
      "source": [
        "# the usual functions:\n",
        "\n",
        "from numpy.random import multivariate_normal\n",
        "from scipy.linalg.special_matrices import toeplitz\n",
        "from numpy.random import randn\n",
        "\n",
        "\n",
        "def simu(coefs, n_samples=1000, corr=0.5, for_logreg=False):\n",
        "    n_features = len(coefs)\n",
        "    cov = toeplitz(corr ** np.arange(0, n_features))\n",
        "    A = multivariate_normal(np.zeros(n_features), cov, size=n_samples)\n",
        "    b = A.dot(coefs) + randn(n_samples)\n",
        "    if for_logreg:\n",
        "        b = np.sign(b)\n",
        "    return A, b"
      ],
      "execution_count": 0,
      "outputs": []
    },
    {
      "cell_type": "markdown",
      "metadata": {
        "id": "9xKAYNnnHj6-",
        "colab_type": "text"
      },
      "source": [
        "## Part 1: Ordinary Least Squares\n",
        "\n",
        "\n",
        "Let $A \\in \\mathbb{R}^{n \\times p}$, $y \\in \\mathbb{R}^n$.\n",
        "We want to use coordinate descent to solve:\n",
        "    $$\\hat w \\in  \\mathrm{arg \\, min \\,} \\frac 12 \\Vert Aw - b \\Vert ^2 $$\n",
        "\n",
        "We ask you to code:\n",
        "- cyclic coordinate descent: at iteration $t$, update feature $j = t \\mod p$\n",
        "- greedy coordinate descent: at iteration $t$, update feature having the largest partial gradient in magnitude, ie $j = \\mathrm{arg\\, max \\,}_{i} \\vert \\nabla_i f(w_t) \\vert$.\n",
        "\n",
        "\n",
        "**WARNING**: You must do this in a clever way, ie such that $p$ updates cost the same as one update of GD."
      ]
    },
    {
      "cell_type": "code",
      "metadata": {
        "id": "HwPRm_I6Hj6_",
        "colab_type": "code",
        "colab": {}
      },
      "source": [
        "n_features = 100\n",
        "np.random.seed(1970)\n",
        "coefs = np.random.randn(n_features)\n",
        "n_iter=10000\n",
        "A, b = simu(coefs, n_samples=1000, for_logreg=False)"
      ],
      "execution_count": 0,
      "outputs": []
    },
    {
      "cell_type": "code",
      "metadata": {
        "id": "OxrJBPOwHj7A",
        "colab_type": "code",
        "colab": {}
      },
      "source": [
        "def cyclic_cd(A, b, n_iter):\n",
        "    n_samples, n_features = A.shape\n",
        "    all_objs = []\n",
        "    \n",
        "    w = np.zeros(n_features)\n",
        "    residuals = b - A.dot(w)\n",
        "    \n",
        "    # TODO\n",
        "    lips_const = np.linalg.norm(A, axis=0) ** 2\n",
        "    # END TODO\n",
        "    \n",
        "    for t in range(n_iter):\n",
        "        j = t % n_features\n",
        "        # TODO\n",
        "        old_w_j = w[j]\n",
        "        w[j] += np.dot(A[:,j].T,residuals)/lips_const[j]\n",
        "        # update residuals:\n",
        "        residuals += np.dot(A[:,j],old_w_j-w[j])\n",
        "        # END TODO\n",
        "        \n",
        "        if t % n_features == 0:\n",
        "            all_objs.append((residuals ** 2).sum() / 2.)\n",
        "    return w, np.array(all_objs)\n",
        "\n",
        "\n",
        "\n",
        "def greedy_cd(A, b, n_iter):\n",
        "    n_samples, n_features = A.shape\n",
        "    all_objs = []\n",
        "    \n",
        "    w = np.zeros(n_features)\n",
        "    \n",
        "    gradient = A.T.dot(A.dot(w) - b)\n",
        "    gram = A.T.dot(A)  # you will need this to keep the gradient up to date\n",
        "    \n",
        "    # TODO\n",
        "    lips_const = np.linalg.norm(A, axis=0) ** 2\n",
        "    # END TODO \n",
        "    \n",
        "    for t in range(n_iter):\n",
        "        # TODO\n",
        "        # choose feature j to update: \n",
        "        j = np.argmax(np.abs(gradient))\n",
        "        old_w_j =w[j] \n",
        "        w[j] -= (1/lips_const[j])*gradient[j]\n",
        "        # update gradient:\n",
        "        gradient +=gram[:,j].dot((w[j]-old_w_j)) \n",
        "        # END TODO\n",
        "        if t % n_features == 0:\n",
        "            all_objs.append(0.5 * np.linalg.norm(A.dot(w) - b) ** 2)\n",
        "    \n",
        "    return w, np.array(all_objs)"
      ],
      "execution_count": 0,
      "outputs": []
    },
    {
      "cell_type": "markdown",
      "metadata": {
        "id": "BfESmhhuHj7D",
        "colab_type": "text"
      },
      "source": [
        "- compute a precise minimum with your favorite solver\n",
        "- compare the performance of cyclic and greedy CD\n",
        "\n",
        "- from a practical point of view, could you use greedy CD for ridge logistic regression? to solve OLS, but with 100,000 features? Explain your answers."
      ]
    },
    {
      "cell_type": "code",
      "metadata": {
        "id": "u0zdcSFxLDrI",
        "colab_type": "code",
        "colab": {}
      },
      "source": [
        "class monitor:\n",
        "    def __init__(self, algo, loss, x_min, args=()):\n",
        "        self.x_min = x_min\n",
        "        self.algo = algo\n",
        "        self.loss = loss\n",
        "        self.args = args\n",
        "        self.f_min = loss(x_min, *args)\n",
        "    \n",
        "    def run(self, *algo_args, **algo_kwargs):\n",
        "        t0 = time()\n",
        "        _, x_list = self.algo(*algo_args, **algo_kwargs)\n",
        "        self.total_time = time() - t0\n",
        "        self.x_list = x_list\n",
        "        self.err = [norm(x - self.x_min) for x in x_list]\n",
        "        self.obj = [self.loss(x, *self.args) - self.f_min for x in x_list]"
      ],
      "execution_count": 0,
      "outputs": []
    },
    {
      "cell_type": "code",
      "metadata": {
        "id": "pv4fiaIfLNkS",
        "colab_type": "code",
        "colab": {}
      },
      "source": [
        "from time import time\n",
        "\n",
        "class callback():\n",
        "    def __init__(self):\n",
        "        self.x_list = []\n",
        "    \n",
        "    def __call__(self, x):\n",
        "        self.x_list.append(x.copy())\n",
        "        \n",
        "        \n",
        "def scipy_runner(scipy_algo):\n",
        "    def run(*args, **kwargs):\n",
        "        cb = callback()\n",
        "        x = scipy_algo(*args, **kwargs, callback=cb)\n",
        "        return x, cb.x_list\n",
        "    return run"
      ],
      "execution_count": 0,
      "outputs": []
    },
    {
      "cell_type": "code",
      "metadata": {
        "id": "L-mhxLVN-MtD",
        "colab_type": "code",
        "colab": {}
      },
      "source": [
        "from scipy.optimize import fmin_l_bfgs_b\n",
        "\n",
        "def loss(w,A,b):\n",
        "  return (1/2)*np.linalg.norm(np.dot(A,w)-b)**2\n",
        "\n",
        "def grad(w,A,b):\n",
        "  return np.dot(A.T,np.dot(A,w)-b)\n",
        "\n",
        "x_init = np.zeros(n_features)\n",
        "x_min, f_min, _ = fmin_l_bfgs_b(loss, x_init, grad, args=(A, b), pgtol=1e-30, factr=1e-30)"
      ],
      "execution_count": 0,
      "outputs": []
    },
    {
      "cell_type": "code",
      "metadata": {
        "id": "d3XVHGHkTnCL",
        "colab_type": "code",
        "outputId": "5a2f25db-c41d-402b-f67b-2afee876a9cc",
        "colab": {
          "base_uri": "https://localhost:8080/",
          "height": 367
        }
      },
      "source": [
        "w_cyclic, all_objs_cyclic = cyclic_cd(A, b, 1000)\n",
        "w_greedy, all_objs_greedy = greedy_cd(A, b, 1000)\n",
        "\n",
        "plt.figure(figsize=(8, 5))\n",
        "plt.semilogy(all_objs_cyclic, label=\"cyclic CD\")\n",
        "plt.semilogy(all_objs_greedy, label=\"greedy CD\")\n",
        "plt.title('Objective')\n",
        "plt.xlabel('epoch')\n",
        "plt.ylabel('objective')\n",
        "plt.grid()\n",
        "plt.legend()"
      ],
      "execution_count": 9,
      "outputs": [
        {
          "output_type": "execute_result",
          "data": {
            "text/plain": [
              "<matplotlib.legend.Legend at 0x7fe517386518>"
            ]
          },
          "metadata": {
            "tags": []
          },
          "execution_count": 9
        },
        {
          "output_type": "display_data",
          "data": {
            "image/png": "[encoded data removed]",
            "text/plain": [
              "<Figure size 576x360 with 1 Axes>"
            ]
          },
          "metadata": {
            "tags": []
          }
        }
      ]
    },
    {
      "cell_type": "markdown",
      "metadata": {
        "id": "ERwm4A4TTqkg",
        "colab_type": "text"
      },
      "source": [
        "When can see that greedy CD requires less computation to converge even though it computes full gradient at each iteration. This is due to the fact that it is more efficient because it performs exact coordinate descent along the coordinate which maximizes the gradient while for cyclic CD, this coordinate choice is rather arbitrary."
      ]
    },
    {
      "cell_type": "markdown",
      "metadata": {
        "id": "8wnKX2XnXx17",
        "colab_type": "text"
      },
      "source": [
        "We could not use greedy CD or even cyclic CD (exact CD in general) for unregularized logistic regression because it is non-smooth.\n",
        "\n",
        "Because it requires to compute full gradient, greedy CD would not be necessarily adapted for OLS with 100,000 features. "
      ]
    },
    {
      "cell_type": "markdown",
      "metadata": {
        "id": "6dNabZT4Hj7E",
        "colab_type": "text"
      },
      "source": [
        "## Part 2: Sparse Logistic regression"
      ]
    },
    {
      "cell_type": "markdown",
      "metadata": {
        "id": "QI_YLYNhHj7E",
        "colab_type": "text"
      },
      "source": [
        "### An important result\n",
        "\n",
        "Remember: we are solving \n",
        "$$\\hat w \\in \\mathrm{arg \\, min} \\sum_{i=1}^{n} \\mathrm{log} ( 1 + e^{- y_i w^\\top x_i} )  + \\lambda \\Vert w \\Vert_1$$\n",
        "1) Assuming uniqueness of the solution, show that:\n",
        "$$ \\lambda \\geq \\lambda_{max} \\Leftrightarrow \\hat w = 0$$\n",
        "where $\\lambda_{max} := \\frac 12 \\Vert X^\\top y \\Vert_{\\infty}$.\n",
        "\n",
        "\n",
        "You will need the following beautiful result: for any $w =(w_1, \\dots, w_p) \\in \\mathbb{R}^p$, the subdifferential of the L1 norm at $w$ is:\n",
        "\n",
        "$$\\partial \\Vert \\cdot \\Vert_1 (w) = \\partial \\vert \\cdot \\vert (w_1)  \\times \\dots \\times \\partial \\vert \\cdot \\vert (w_p) $$\n",
        "where $\\times$ is the Cartesian product between sets,\n",
        "and $$ \\partial \\vert \\cdot \\vert (w_j) = \n",
        "\\begin{cases} &w_j / |w_j| &\\mathrm{if} \\quad w_j \\neq 0, \n",
        "         \\\\ & [-1, 1] &\\mathrm{otherwise.} \n",
        "\\end{cases}\n",
        "$$\n",
        "\n",
        "\n",
        "(it should now be easy to find $\\partial \\Vert \\cdot \\Vert_1 (\\mathbf{0}_p)$)"
      ]
    },
    {
      "cell_type": "markdown",
      "metadata": {
        "id": "IYG9uROVHj7F",
        "colab_type": "text"
      },
      "source": [
        "*answer here*\n",
        "\n",
        "$\n",
        "f(w)=\\sum_{i=1}^nlog(1+e^{-y_iw^Tx_i}) = \\sum_{i=1}^n f_i(w) \\\\\n",
        "\\nabla f(w) = -\\sum_{i=1}^n \\frac{y_ix_i}{1 + e^{-y_i w^\\top x_i}} \\\\\n",
        "$\n",
        "\n",
        "$\n",
        "\\begin{align}\n",
        "\\hat w = 0 &\\Leftrightarrow -\\nabla f(0) \\in \\lambda \\partial \\Vert w \\Vert_1 \\\\\n",
        "&\\Leftrightarrow \\sum_{i=1}^n \\frac{y_ix_i}{2} \\in \\lambda \\partial \\Vert w \\Vert_1 \\\\\n",
        "&\\Leftrightarrow \\sum_{i=1}^n \\frac{y_ix_i}{2\\lambda} \\in \\partial \\Vert w \\Vert_1 \\\\\n",
        "&\\Leftrightarrow \\Vert \\frac{X^Ty}{2\\lambda} \\Vert_{\\infty} \\in [-1, 1] & because && \\partial \\Vert \\cdot \\Vert_1 (\\mathbf{0}_p)) = [-1, 1] \\times \\dots \\times [-1, 1] \\\\\n",
        "&\\Leftrightarrow \\frac{\\lambda_{max}}{\\lambda} \\leq 1 \\Leftrightarrow \\lambda_{max} \\leq \\lambda\n",
        "\\end{align}\n",
        "$\n",
        "\n"
      ]
    },
    {
      "cell_type": "markdown",
      "metadata": {
        "id": "szGc1riCHj7F",
        "colab_type": "text"
      },
      "source": [
        "2) Show that for sparse Logistic regression the coordinate-wise Lipschitz constant of the smooth term, $\\gamma_j$, can be taken equal to $\\Vert X_j \\Vert^2 / 4$, where $X_j$ denotes the $j$-th column of $X$."
      ]
    },
    {
      "cell_type": "markdown",
      "metadata": {
        "id": "5yWrvzr1Hj7G",
        "colab_type": "text"
      },
      "source": [
        "*answer here*\n",
        "\n",
        "$\n",
        "\\nabla f(w) = -\\sum_{i=1}^n \\frac{y_ix_i}{1 + e^{-y_i w^\\top x_i}} \\\\\n",
        "$\n",
        "\n",
        "$\n",
        "\\begin{align}\n",
        "\\nabla^2 f(w) &= \\sum_{i=1}^n \\frac{y_i^2x_i^2e^{-y_i w^\\top x_i}}{(1 + e^{-y_i w^\\top x_i})^2} \\\\\n",
        "&= \\sum_{i=1}^n \\frac{x_i^2e^{-w^\\top x_i}}{(1 + e^{-w^\\top x_i})^2} & if  &&y_i \\in \\{ -1, 1\\}\n",
        "\\end{align}\n",
        "$ \n",
        "\n",
        "$\n",
        "\\begin{align}\n",
        "\\nabla_j^2 f(w) &= \\sum_{i=1}^n x_{i,j}^2 \\overbrace{\\frac{e^{-y_i w^\\top x_i}}{(1 + e^{-y_i w^\\top x_i})^2}}^{\\leq 1/4} \\\\\n",
        "&\\leq \\frac{\\Vert X_j \\Vert^2}{4} = \\gamma_j\n",
        "\\end{align}\n",
        "$ \n"
      ]
    },
    {
      "cell_type": "markdown",
      "metadata": {
        "id": "60PuhBAqHj7H",
        "colab_type": "text"
      },
      "source": [
        "You are now ready to code cyclic proximal coordinate descent for sparse Logistic regression:"
      ]
    },
    {
      "cell_type": "markdown",
      "metadata": {
        "id": "TnBiiWLwHj7H",
        "colab_type": "text"
      },
      "source": [
        "**WARNING**: the Lasso means linear regression (quadratic fitting term) with L1 penalty. Sparse logistic regression means logistic regression with L1 penalty."
      ]
    },
    {
      "cell_type": "code",
      "metadata": {
        "id": "r6GAqKpGwreY",
        "colab_type": "code",
        "colab": {}
      },
      "source": [
        "X, y = simu(coefs, n_samples=1000, for_logreg=True)\n",
        "lambda_max = norm(X.T.dot(y), ord= np.inf) / 2.\n",
        "lamb = lambda_max / 20.  \n",
        "# much easier to parametrize lambda as a function of lambda_max than \n",
        "# to take random values like 0.1 in previous Labs\n"
      ],
      "execution_count": 0,
      "outputs": []
    },
    {
      "cell_type": "code",
      "metadata": {
        "id": "YbToLNrMHj7I",
        "colab_type": "code",
        "colab": {}
      },
      "source": [
        "\n",
        "\n",
        "def sigmoid(t):\n",
        "    \"\"\"Sigmoid function\"\"\"\n",
        "    return 1. / (1. + np.exp(-t))\n",
        "\n",
        "\n",
        "def soft_thresh(x, u):\n",
        "    \"\"\"Soft thresholding of x at level u\"\"\"\n",
        "    return np.sign(x) * np.maximum(0., np.abs(x) - u)\n",
        "\n",
        "\n",
        "def cd_logreg(X, y, lamb, n_iter):\n",
        "    n_samples, n_features = X.shape\n",
        "    w = np.zeros(n_features)\n",
        "    Xw = X.dot(w)\n",
        "    # TODO\n",
        "    lips_const = np.zeros(n_features)\n",
        "    lips_const = (np.linalg.norm(X,axis=0)**2)/4\n",
        "    all_objs = np.zeros(n_iter)\n",
        "    # END TODO\n",
        "    #print(n_iter)\n",
        "    for t in range(n_iter):\n",
        "        for j in range(n_features):\n",
        "            old_w_j = w[j]\n",
        "            # TODO\n",
        "            grad_j = np.sum(- y * X[:, j] * sigmoid(-y * Xw))\n",
        "            #print(lips_const[j])\n",
        "            w[j] = soft_thresh(w[j] - grad_j/lips_const[j] , lamb/lips_const[j])\n",
        "            if old_w_j != w[j]:\n",
        "               Xw += X[:,j].dot(w[j]-old_w_j)\n",
        "            #END TODO\n",
        "            \n",
        "        all_objs[t] = np.log(1. + np.exp(-y * Xw)).sum() + lamb * norm(w, ord=1)\n",
        "    \n",
        "    return w, all_objs\n"
      ],
      "execution_count": 0,
      "outputs": []
    },
    {
      "cell_type": "code",
      "metadata": {
        "id": "xXN9ig7dY6gS",
        "colab_type": "code",
        "outputId": "4b437bf5-7e8a-4b65-ae0b-0214dc60ebea",
        "colab": {
          "base_uri": "https://localhost:8080/",
          "height": 50
        }
      },
      "source": [
        "print(y.shape)\n",
        "print(X.shape)"
      ],
      "execution_count": 12,
      "outputs": [
        {
          "output_type": "stream",
          "text": [
            "(1000,)\n",
            "(1000, 100)\n"
          ],
          "name": "stdout"
        }
      ]
    },
    {
      "cell_type": "code",
      "metadata": {
        "id": "vVSWV2m5XQ4k",
        "colab_type": "code",
        "colab": {}
      },
      "source": [
        "\n",
        "w_logreg , obj_logreg = cd_logreg(X, y, lamb, n_iter=100)"
      ],
      "execution_count": 0,
      "outputs": []
    },
    {
      "cell_type": "code",
      "metadata": {
        "id": "qaKvLbDKuzpe",
        "colab_type": "code",
        "outputId": "8d3c756b-47c7-4631-9441-b919247f6798",
        "colab": {
          "base_uri": "https://localhost:8080/",
          "height": 437
        }
      },
      "source": [
        "obj_logreg"
      ],
      "execution_count": 16,
      "outputs": [
        {
          "output_type": "execute_result",
          "data": {
            "text/plain": [
              "array([441.85588087, 395.98118545, 383.59280552, 378.12157231,\n",
              "       375.2545411 , 373.64035796, 372.72171366, 372.13556571,\n",
              "       371.74842954, 371.48911748, 371.31249673, 371.19043127,\n",
              "       371.10675888, 371.04814393, 371.00684571, 370.97756717,\n",
              "       370.95669683, 370.94175311, 370.93101328, 370.92327085,\n",
              "       370.9176747 , 370.91362087, 370.91069135, 370.90869594,\n",
              "       370.90728527, 370.90627895, 370.90555842, 370.90504132,\n",
              "       370.90466954, 370.90440184, 370.90420881, 370.90406946,\n",
              "       370.90396875, 370.9038959 , 370.90384316, 370.90380494,\n",
              "       370.90377723, 370.90375713, 370.90374253, 370.90373193,\n",
              "       370.90372422, 370.90371861, 370.90371454, 370.90371157,\n",
              "       370.90370941, 370.90370784, 370.90370669, 370.90370585,\n",
              "       370.90370524, 370.9037048 , 370.90370447, 370.90370424,\n",
              "       370.90370406, 370.90370394, 370.90370385, 370.90370378,\n",
              "       370.90370373, 370.90370369, 370.90370367, 370.90370365,\n",
              "       370.90370363, 370.90370362, 370.90370362, 370.90370361,\n",
              "       370.90370361, 370.9037036 , 370.9037036 , 370.9037036 ,\n",
              "       370.9037036 , 370.9037036 , 370.9037036 , 370.9037036 ,\n",
              "       370.9037036 , 370.9037036 , 370.9037036 , 370.9037036 ,\n",
              "       370.9037036 , 370.9037036 , 370.9037036 , 370.9037036 ,\n",
              "       370.9037036 , 370.9037036 , 370.9037036 , 370.9037036 ,\n",
              "       370.9037036 , 370.9037036 , 370.9037036 , 370.9037036 ,\n",
              "       370.9037036 , 370.9037036 , 370.9037036 , 370.9037036 ,\n",
              "       370.9037036 , 370.9037036 , 370.9037036 , 370.9037036 ,\n",
              "       370.9037036 , 370.9037036 , 370.9037036 , 370.9037036 ])"
            ]
          },
          "metadata": {
            "tags": []
          },
          "execution_count": 16
        }
      ]
    },
    {
      "cell_type": "code",
      "metadata": {
        "id": "M5UbpSJTb1M6",
        "colab_type": "code",
        "outputId": "f389c220-a3d8-4857-93c7-5af114c1926d",
        "colab": {
          "base_uri": "https://localhost:8080/",
          "height": 384
        }
      },
      "source": [
        "plt.figure(figsize=(8, 5))\n",
        "\n",
        "plt.semilogy(obj_logreg)\n",
        "plt.title('Objective')\n",
        "plt.xlabel('epoch')\n",
        "plt.ylabel('objective')\n",
        "plt.grid()\n",
        "plt.legend()\n"
      ],
      "execution_count": 17,
      "outputs": [
        {
          "output_type": "stream",
          "text": [
            "No handles with labels found to put in legend.\n"
          ],
          "name": "stderr"
        },
        {
          "output_type": "execute_result",
          "data": {
            "text/plain": [
              "<matplotlib.legend.Legend at 0x7fe516e8d128>"
            ]
          },
          "metadata": {
            "tags": []
          },
          "execution_count": 17
        },
        {
          "output_type": "display_data",
          "data": {
            "image/png": "[encoded data removed]",
            "text/plain": [
              "<Figure size 576x360 with 1 Axes>"
            ]
          },
          "metadata": {
            "tags": []
          }
        }
      ]
    },
    {
      "cell_type": "markdown",
      "metadata": {
        "id": "Nnx75Yv1Hj7J",
        "colab_type": "text"
      },
      "source": [
        "# Part 3: Real data\n",
        "\n",
        "We will compare vanilla cyclic CD and ISTA to solve the Lasso on a real dataset, called _leukemia_."
      ]
    },
    {
      "cell_type": "code",
      "metadata": {
        "id": "Cql-N3LGHj7K",
        "colab_type": "code",
        "colab": {}
      },
      "source": [
        "from sklearn.datasets import fetch_openml\n",
        "\n",
        "leuk = fetch_openml(\"leukemia\")\n",
        "\n",
        "X = np.asfortranarray(leuk.data)\n",
        "y = np.ones(leuk.target.shape)\n",
        "y[leuk.target == leuk.target[0]] = -1."
      ],
      "execution_count": 0,
      "outputs": []
    },
    {
      "cell_type": "code",
      "metadata": {
        "id": "kkAClhfTHj7M",
        "colab_type": "code",
        "outputId": "60cf6dbe-11e5-4695-9acb-4d6152cd3534",
        "colab": {
          "base_uri": "https://localhost:8080/",
          "height": 34
        }
      },
      "source": [
        "print(X.shape)\n",
        "n_samples, n_features = X.shape\n",
        "lambda_max_lasso = norm(X.T.dot(y), ord=np.inf)\n",
        "lambd = lambda_max_lasso / 5."
      ],
      "execution_count": 19,
      "outputs": [
        {
          "output_type": "stream",
          "text": [
            "(72, 7129)\n"
          ],
          "name": "stdout"
        }
      ]
    },
    {
      "cell_type": "markdown",
      "metadata": {
        "id": "9do-2es-Hj7N",
        "colab_type": "text"
      },
      "source": [
        "Code:\n",
        "- a simple proximal gradient solver for the Lasso\n",
        "- a prox CD solver for the Lasso\n",
        "and compare them on this dataset. \n",
        "Do the plots in terms of epochs, not updates (to be fair to CD)."
      ]
    },
    {
      "cell_type": "markdown",
      "metadata": {
        "id": "28nwAXgd30u8",
        "colab_type": "text"
      },
      "source": [
        "**A simple proximal gradient solver for the Lasso**"
      ]
    },
    {
      "cell_type": "code",
      "metadata": {
        "id": "0vVykqIt1J0v",
        "colab_type": "code",
        "colab": {}
      },
      "source": [
        "def L1_norm(x, lmbd):\n",
        "    \"\"\"Value of the L1 penalization at x\"\"\"\n",
        "    return (lmbd)*np.linalg.norm(x,ord=1)"
      ],
      "execution_count": 0,
      "outputs": []
    },
    {
      "cell_type": "code",
      "metadata": {
        "id": "oDXM11gO8rhY",
        "colab_type": "code",
        "colab": {}
      },
      "source": [
        "def soft_thresh(x, u):\n",
        "    \"\"\"Soft thresholding of x at level u\"\"\"\n",
        "    return np.sign(x) * np.maximum(0., np.abs(x) - u)"
      ],
      "execution_count": 0,
      "outputs": []
    },
    {
      "cell_type": "code",
      "metadata": {
        "id": "45qwYfR2Ao8r",
        "colab_type": "code",
        "colab": {}
      },
      "source": [
        "def loss(Xw):\n",
        "  \"\"\"Ordinary Least Squares\"\"\"\n",
        "  return (1/2)*np.linalg.norm(Xw-y, ord=2)**2\n",
        "\n",
        "def grad(Xw):\n",
        "  \"\"\"Ordinary Least Squares\"\"\"\n",
        "  return np.dot(X.T,Xw-y)"
      ],
      "execution_count": 0,
      "outputs": []
    },
    {
      "cell_type": "code",
      "metadata": {
        "id": "t-poQKat63_d",
        "colab_type": "code",
        "colab": {}
      },
      "source": [
        "def PGD(f, grad_f, R, prox_R, lips, lmbd=0., n_iter=50):\n",
        "    \"\"\"Proximal gradient descent algorithm\"\"\"\n",
        "    w = np.zeros(n_features)\n",
        "    # objective history\n",
        "    objectives = []\n",
        "    print(X.shape)\n",
        "    # Current objective\n",
        "    Xw = X.dot(w)\n",
        "    obj = f(Xw) + R(w, lmbd)\n",
        "    objectives.append(obj)\n",
        "    for k in range(n_iter):\n",
        "        #### TODO ####\n",
        "        w = prox_R(w - (1/lips) * grad_f(Xw), lmbd/lips)\n",
        "        Xw = X.dot(w) \n",
        "        obj = f(Xw) + R(w, lmbd)\n",
        "        objectives.append(obj)\n",
        "\n",
        "    return w, objectives"
      ],
      "execution_count": 0,
      "outputs": []
    },
    {
      "cell_type": "markdown",
      "metadata": {
        "id": "J1LtDCPB0kOv",
        "colab_type": "text"
      },
      "source": [
        "# **CD**"
      ]
    },
    {
      "cell_type": "code",
      "metadata": {
        "id": "UXbepPI_16FQ",
        "colab_type": "code",
        "colab": {}
      },
      "source": [
        "def cd(X, y, lamb, n_iter,f,R,prox_R=soft_thresh):\n",
        "    n_samples, n_features = X.shape\n",
        "    w = np.zeros(n_features)\n",
        "\n",
        "    Xw = X.dot(w)\n",
        "    # TODO\n",
        "    lips_const = np.linalg.norm(X,axis=0)**2\n",
        "    all_objs = np.zeros(n_iter)\n",
        "    all_objs[0] = f(Xw) + R(w, lamb)\n",
        "    # END TODO\n",
        "    #print(n_iter)\n",
        "    for t in range(n_iter-1):\n",
        "        for j in range(n_features):\n",
        "            old_w_j = w[j]\n",
        "            \n",
        "            # TODO\n",
        "            grad_j = np.dot(X[:,j], Xw-y)\n",
        "            w[j] = prox_R(w[j] - grad_j/lips_const[j] , lamb/lips_const[j]) \n",
        "            \n",
        "            if old_w_j != w[j]:\n",
        "               Xw += X[:,j].dot(w[j]-old_w_j)\n",
        "            #END TODO\n",
        "            \n",
        "        all_objs[t+1] = f(Xw) + R(w, lamb)\n",
        "    \n",
        "    return w, all_objs"
      ],
      "execution_count": 0,
      "outputs": []
    },
    {
      "cell_type": "code",
      "metadata": {
        "id": "yHCd3ycbtDEZ",
        "colab_type": "code",
        "outputId": "0c4dc583-cce7-43ca-c559-0a6b3cb2d55b",
        "colab": {
          "base_uri": "https://localhost:8080/",
          "height": 34
        }
      },
      "source": [
        "n_features=X.shape[1]\n",
        "lips= np.linalg.norm(X, ord=2) ** 2\n",
        "\n",
        "w_PGD , objec_PGD = PGD( f=loss, grad_f=grad, R=L1_norm, prox_R=soft_thresh, lips=lips, lmbd=lambd, n_iter=30)\n",
        "w_CD , objec_CD =cd(X, y, lambd, n_iter=30,f=loss,R=L1_norm,prox_R=soft_thresh)"
      ],
      "execution_count": 26,
      "outputs": [
        {
          "output_type": "stream",
          "text": [
            "(72, 7129)\n"
          ],
          "name": "stdout"
        }
      ]
    },
    {
      "cell_type": "code",
      "metadata": {
        "id": "d19JMOn95Ltz",
        "colab_type": "code",
        "outputId": "9ce1ad28-4fa4-457a-cf81-c6fc3c61dfb5",
        "colab": {
          "base_uri": "https://localhost:8080/",
          "height": 367
        }
      },
      "source": [
        "plt.figure(figsize=(8, 5))\n",
        "\n",
        "plt.semilogy(objec_CD, label=\"CD\")\n",
        "plt.semilogy(objec_PGD, label=\"PGD\")\n",
        "plt.title('Objective')\n",
        "plt.xlabel('epoch')\n",
        "plt.ylabel('objective')\n",
        "plt.grid()\n",
        "plt.legend()\n"
      ],
      "execution_count": 27,
      "outputs": [
        {
          "output_type": "execute_result",
          "data": {
            "text/plain": [
              "<matplotlib.legend.Legend at 0x7fe512249278>"
            ]
          },
          "metadata": {
            "tags": []
          },
          "execution_count": 27
        },
        {
          "output_type": "display_data",
          "data": {
            "image/png": "[encoded data removed]",
            "text/plain": [
              "<Figure size 576x360 with 1 Axes>"
            ]
          },
          "metadata": {
            "tags": []
          }
        }
      ]
    },
    {
      "cell_type": "markdown",
      "metadata": {
        "id": "NQXDy-jMVDE1",
        "colab_type": "text"
      },
      "source": [
        "We can see above that proximal coordinate descent converges faster than proximal gradient descent.\n",
        "\n",
        "Indeed, for the gradiant descent to converge, we need :\n",
        "$\\frac{L(\\nabla f)}{2(k+1)}||x_* - x_0||_2^2$ while for coordianate descent, we need $\\frac{n}{\\epsilon}( (1 - \\frac{1}{n}) (f(x_0) - f(x_*)) + \\frac{1}{2} ||x_* - x_0||_L^2)$ and the cost of an iteration is lower and may be divided by the number of features compared to GD.\n",
        "\n",
        "\u000f"
      ]
    },
    {
      "cell_type": "code",
      "metadata": {
        "id": "fmprSpVmaXyP",
        "colab_type": "code",
        "colab": {}
      },
      "source": [
        ""
      ],
      "execution_count": 0,
      "outputs": []
    }
  ]
}