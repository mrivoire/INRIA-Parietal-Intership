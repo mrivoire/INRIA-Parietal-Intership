{
  "nbformat": 4,
  "nbformat_minor": 0,
  "metadata": {
    "colab": {
      "name": "Convex_Analysis_Computer_Lab_Quantile_Regression_Manon_Rivoire_2_3_1_4_4.ipynb",
      "provenance": [],
      "collapsed_sections": [
        "6gJACTwgua7W",
        "Iyj2tBHPwAUy",
        "GHO_0Gi0n01K",
        "ucEo6u_StQk0",
        "GzpTVmsx4_m-",
        "HTs8PSt0wKk3",
        "MJYHcqvNwSb_",
        "qrbvGyLEuzMZ",
        "hdus19ImwWa-",
        "PD4Bj5NrvL99",
        "yM3ARzlbvbG-",
        "cANMt-Puve01"
      ],
      "toc_visible": true,
      "machine_shape": "hm"
    },
    "kernelspec": {
      "name": "python3",
      "display_name": "Python 3"
    },
    "accelerator": "GPU"
  },
  "cells": [
    {
      "cell_type": "markdown",
      "metadata": {
        "colab_type": "text",
        "id": "6sdfedssohK2"
      },
      "source": [
        "# 1. Data"
      ]
    },
    {
      "cell_type": "code",
      "metadata": {
        "colab_type": "code",
        "outputId": "666bc83c-839c-4c64-f97d-6b15927b0a52",
        "id": "_dirJwBPohc_",
        "colab": {
          "base_uri": "https://localhost:8080/",
          "height": 35
        }
      },
      "source": [
        "fn1 = \"rayan\"\n",
        "ln1 = \"charrier\"\n",
        "fn2 = \"manon\"\n",
        "ln2 = \"rivoire\"\n",
        "\n",
        "filename = \"_\".join(map(lambda s: s.strip().lower(), \n",
        "                        [\"Computer_Lab_Quantile_Regression\", ln1, fn1, \"and\", ln2, fn2])) + \".ipynb\"\n",
        "\n",
        "print(filename)"
      ],
      "execution_count": 1,
      "outputs": [
        {
          "output_type": "stream",
          "text": [
            "computer_lab_quantile_regression_charrier_rayan_and_rivoire_manon.ipynb\n"
          ],
          "name": "stdout"
        }
      ]
    },
    {
      "cell_type": "code",
      "metadata": {
        "id": "gerYgsDi0FL1",
        "colab_type": "code",
        "colab": {}
      },
      "source": [
        "import numpy as np\n",
        "from numpy.linalg import norm\n",
        "import matplotlib.pyplot as plt\n",
        "import scipy.optimize as so\n",
        "import math"
      ],
      "execution_count": 0,
      "outputs": []
    },
    {
      "cell_type": "code",
      "metadata": {
        "colab_type": "code",
        "id": "mlrqoU-TohS4",
        "colab": {}
      },
      "source": [
        "from census_dataset import load_data\n",
        "from sklearn.preprocessing import StandardScaler\n",
        "from sklearn.model_selection import train_test_split\n",
        "from scipy.io import loadmat\n",
        "from tqdm import tqdm\n",
        "\n",
        "def load_data(filename='census_data.mat', test_size=0.99):\n",
        "    data = loadmat(filename)\n",
        "    X = data.get('A')  # Educational Attainment\n",
        "    X = np.asarray(X, dtype='float64')\n",
        "    # Variables\n",
        "#    Sex\n",
        "#    Age in 30 40\n",
        "#    Age in 40 50\n",
        "#    Age in 50 60\n",
        "#    Age in 60 70\n",
        "#    Age gte 70\n",
        "#    Non white*\n",
        "#    Unmarried\n",
        "#    Education\n",
        "#    Education code squared\n",
        "    # Education\n",
        "    #00 Not in universe (Under 3 years)\n",
        "    #01 No schooling completed\n",
        "    #02 Nursery school to 4th grade\n",
        "    #03 5th grade or 6th grade\n",
        "    #04 7th grade or 8th grade\n",
        "    #05 9th grade\n",
        "    #06 10th grade\n",
        "    #07 11th grade\n",
        "    #08 12th grade, no diploma\n",
        "    #09 High school graduate\n",
        "    #10 Some college, but less than 1 year\n",
        "    #11 One or more years of college, no degree\n",
        "    #12 Associate degree\n",
        "    #13 Bachelorâ€™s degree\n",
        "    #14 Masterâ€™s degree\n",
        "    #15 Professional degree\n",
        "    #16 Doctorate degree\n",
        "    y = data.get('b')[:, 0].reshape(-1, 1)\n",
        "    del data\n",
        "    ind = np.nonzero(y == 0.)[0]  # remove samples with no income\n",
        "    X = np.delete(X, ind, axis=0)\n",
        "    y = np.delete(y, ind, axis=0)\n",
        "    X = np.delete(X, 1, axis=1)  # this variable is just ones everywhere\n",
        "\n",
        "    scaler_x = StandardScaler()\n",
        "    scaler_y = StandardScaler()\n",
        "\n",
        "    X_train, X_test, y_train, y_test = train_test_split(X, y,\n",
        "                                test_size=test_size, random_state=0)\n",
        "    X_train = scaler_x.fit_transform(X_train)\n",
        "    y_train = scaler_y.fit_transform(y_train)\n",
        "    X_test = scaler_x.transform(X_test)\n",
        "    y_test = scaler_y.transform(y_test)\n",
        "\n",
        "    return X_train, X_test, y_train, y_test"
      ],
      "execution_count": 0,
      "outputs": []
    },
    {
      "cell_type": "code",
      "metadata": {
        "id": "p3QRu3jFmScc",
        "colab_type": "code",
        "colab": {}
      },
      "source": [
        "X_train, X_test, y_train, y_test = load_data(\"census_data.mat\")"
      ],
      "execution_count": 0,
      "outputs": []
    },
    {
      "cell_type": "code",
      "metadata": {
        "id": "1pNrb9cPkRMu",
        "colab_type": "code",
        "outputId": "eae0927d-47c6-40c9-8ecc-c0e0724d2aa0",
        "colab": {
          "base_uri": "https://localhost:8080/",
          "height": 204
        }
      },
      "source": [
        "!wget https://perso.telecom-paristech.fr/ofercoq/tp_qr/census_data.mat"
      ],
      "execution_count": 0,
      "outputs": [
        {
          "output_type": "stream",
          "text": [
            "--2019-12-22 21:27:02--  https://perso.telecom-paristech.fr/ofercoq/tp_qr/census_data.mat\n",
            "Resolving perso.telecom-paristech.fr (perso.telecom-paristech.fr)... 137.194.2.165, 2001:660:330f:2::a5\n",
            "Connecting to perso.telecom-paristech.fr (perso.telecom-paristech.fr)|137.194.2.165|:443... connected.\n",
            "HTTP request sent, awaiting response... 200 OK\n",
            "Length: 33091048 (32M)\n",
            "Saving to: ‘census_data.mat.1’\n",
            "\n",
            "census_data.mat.1   100%[===================>]  31.56M  2.59MB/s    in 17s     \n",
            "\n",
            "2019-12-22 21:27:22 (1.84 MB/s) - ‘census_data.mat.1’ saved [33091048/33091048]\n",
            "\n"
          ],
          "name": "stdout"
        }
      ]
    },
    {
      "cell_type": "code",
      "metadata": {
        "id": "Nf6dIlFwkIhN",
        "colab_type": "code",
        "colab": {}
      },
      "source": [
        "y_train = np.squeeze(y_train)\n",
        "y_test = np.squeeze(y_test)"
      ],
      "execution_count": 0,
      "outputs": []
    },
    {
      "cell_type": "markdown",
      "metadata": {
        "id": "H38ggw1z00nE",
        "colab_type": "text"
      },
      "source": [
        "# 2. Quantile Regression With Linear Kernels"
      ]
    },
    {
      "cell_type": "markdown",
      "metadata": {
        "id": "6gJACTwgua7W",
        "colab_type": "text"
      },
      "source": [
        "## Introduction"
      ]
    },
    {
      "cell_type": "markdown",
      "metadata": {
        "id": "NK_aKe1SuXRk",
        "colab_type": "text"
      },
      "source": [
        "For $\\tau \\in (0,1)$, let us consider the pinball loss defined as : \n",
        "\\begin{equation}\n",
        "  L_{\\tau}(v) = max(-(1-\\tau)v, \\tau v)\n",
        "\\end{equation} "
      ]
    },
    {
      "cell_type": "code",
      "metadata": {
        "id": "W6TZk2thfFB5",
        "colab_type": "code",
        "colab": {}
      },
      "source": [
        "def l(t, v):\n",
        "  \"\"\"\n",
        "  Inputs\n",
        "  ----------\n",
        "  tau: tau parameter\n",
        "  v: argument of the function\n",
        "  \"\"\"\n",
        "  return np.maximum(-(1-t)*v, t*v)"
      ],
      "execution_count": 0,
      "outputs": []
    },
    {
      "cell_type": "markdown",
      "metadata": {
        "id": "aIawFExDfGQ3",
        "colab_type": "text"
      },
      "source": [
        "**Graphic visualization**"
      ]
    },
    {
      "cell_type": "code",
      "metadata": {
        "id": "XeK0F1TofIed",
        "colab_type": "code",
        "outputId": "b77c4e80-39ad-42b1-a44b-f76459b7c11a",
        "colab": {
          "base_uri": "https://localhost:8080/",
          "height": 311
        }
      },
      "source": [
        "tau = 0.7\n",
        "x = np.linspace(start=-1, stop=1, num=50)\n",
        "y = [l(tau, v) for v in x]\n",
        "plt.plot(x, y)\n",
        "plt.hlines(xmin=x[0], xmax=x[-1], y=0)\n",
        "plt.vlines(ymin=min(y), ymax=max(y), x=0)\n",
        "plt.suptitle(\"Pinball loss\")\n",
        "plt.title(\"Tau = \" + str(tau))"
      ],
      "execution_count": 7,
      "outputs": [
        {
          "output_type": "execute_result",
          "data": {
            "text/plain": [
              "Text(0.5, 1.0, 'Tau = 0.7')"
            ]
          },
          "metadata": {
            "tags": []
          },
          "execution_count": 7
        },
        {
          "output_type": "display_data",
          "data": {
            "image/png": "[encoded data removed]",
            "text/plain": [
              "<Figure size 432x288 with 1 Axes>"
            ]
          },
          "metadata": {
            "tags": []
          }
        }
      ]
    },
    {
      "cell_type": "markdown",
      "metadata": {
        "id": "QVFVGamDtgPl",
        "colab_type": "text"
      },
      "source": [
        "## Question 2.1"
      ]
    },
    {
      "cell_type": "markdown",
      "metadata": {
        "id": "Iyj2tBHPwAUy",
        "colab_type": "text"
      },
      "source": [
        "#### Statement"
      ]
    },
    {
      "cell_type": "markdown",
      "metadata": {
        "id": "1iIFDonk1xrZ",
        "colab_type": "text"
      },
      "source": [
        "Calculate $L_{\\tau}^{*}$, $prox_{\\gamma L_{\\tau}^{*}} (v)$, and $prox_{\\gamma L_{\\tau}}(v)$ for $\\gamma > 0$. <br/>\n",
        "The quantile regression problem consists in estimating conditional quantiles. given a pair of random variables $(X,Y) \\in \\mathbb{R}^{d} \\times \\mathbb{R}$ and a number $\\tau \\in [0,1]$, our goal is to estimate the conditional quantile function : \n",
        "\\begin{equation}\n",
        "  \\mu_{\\tau}(x) = inf\\{\\mu \\in \\mathbb{R} : \\mathbb{P} (Y \\leq \\mu | X = x) \\geq \\tau\\}\n",
        "\\end{equation}\n",
        "\n",
        "Given a training set ${(x_{i}, y_{i})}_{0 \\leq i \\leq n-1}$, we estimate the conditional quantile using the solution of the following optimization problem : \n",
        "\\begin{equation}\n",
        "  min_{w \\in \\mathbb{R}^{d}, w_{0} \\in \\mathbb{R}} \\frac{\\alpha}{2} \\sum_{j = 1}^{d} w_{j}^2 + \\sum_{i = 1}^{n} L_{\\tau} (y_{i} - \\sum_{j = 1}^{d} x_{i,j}w_{j} - w_{0})\n",
        "\\end{equation}\n",
        "\n",
        "where $\\alpha > 0$ is a regularization constant and set $\\hat{\\mu}_{\\tau} (x) = \\sum_{j = 1}^{d} x_{j}w_{j} - w_{0}$. In the rest of the lab, we shall take $\\alpha = 1$. "
      ]
    },
    {
      "cell_type": "markdown",
      "metadata": {
        "id": "PBIwJI9anus1",
        "colab_type": "text"
      },
      "source": [
        "### Answer"
      ]
    },
    {
      "cell_type": "markdown",
      "metadata": {
        "id": "GHO_0Gi0n01K",
        "colab_type": "text"
      },
      "source": [
        "#### Fenchel-Legendre transformation $L^{*}_{\\tau}$"
      ]
    },
    {
      "cell_type": "markdown",
      "metadata": {
        "id": "ivjRYTgkl0dn",
        "colab_type": "text"
      },
      "source": [
        "Fenchel Legendre Transform Definition : <br/>\n",
        "\n",
        "\\begin{equation}\n",
        "  L_{\\tau}^{*}(\\phi) = sup_{x \\in \\mathbb{R}} (<x, \\phi> - L_{\\tau}(x))\n",
        "\\end{equation}\n",
        "\n",
        "Interpretation of the Fenchel Legendre Transform : <br/>\n",
        "The Fenchel Legendre Transform $L^{*}_{\\tau}(\\phi)$ corresponds to the opposite of the intercept of the highest affine minimizer of the function $L_{\\tau}(x)$. <br/>\n",
        "We are going to study the function $L_{\\tau}(x)$. <br/>\n",
        "\n",
        "\\\\\n",
        "\n",
        "\n",
        "\\begin{aligned}\n",
        "  L_{\\tau}(x) &= max(-(1-\\tau)x, \\tau x) \\\\\n",
        "  &= \\left\\{\n",
        "    \\begin{array}{ll}\n",
        "        -(1-\\tau)x & \\mbox{if } -(1-\\tau)x > \\tau x \\\\\n",
        "        \\tau x & \\mbox{otherwise}\n",
        "    \\end{array}\n",
        "\\right. \\\\\n",
        "&= \\left\\{\n",
        "    \\begin{array}{ll}\n",
        "        -(1-\\tau)x & \\mbox{if } x < 0 \\\\\n",
        "        \\tau x & \\mbox{if } x \\geq 0\n",
        "    \\end{array}\n",
        "\\right.\n",
        "\\end{aligned}\n",
        "\n",
        "\\\\\n",
        "\n",
        "Therefore, we can realize that the function $L_{\\tau}(v)$ is differentiable on $\\mathbb{R}_{+}^{*}$ and on $\\mathbb{R}_{-}^{*}$ but $L_{\\tau}(v)$ is not differentiable in $0$. <br/>\n",
        "The subdifferential of $L_{\\tau}(v)$ is given as follows : \n",
        "$$\n",
        "\\partial L_{\\tau}(x) = \\left\\{\n",
        "    \\begin{array}{11}\n",
        "        -(1-\\tau) & \\mbox{if } x < 0 \\\\\n",
        "        [-(1-\\tau), \\tau] & \\mbox{if } x = 0 \\\\\n",
        "        \\tau  & \\mbox{if } x \\geq 0\n",
        "    \\end{array}\n",
        "\\right.\n",
        "$$\n",
        "\n",
        "We are going to make a cases disjunction in function of the slopes of the affine minimizers of $L_{\\tau}(v)$. \n",
        "Let's denote by $\\phi$ the slope of the minimizers of the function $L_{\\tau}(v)$.\n",
        "\n",
        "\\begin{equation}\n",
        "  L_{\\tau}^{*}(\\phi) = sup_{x \\in \\mathbb{R}} (<x, \\phi> - L_{\\tau}(x)) \n",
        "\\end{equation}\n",
        "\n",
        "\\begin{equation}\n",
        "  L_{\\tau}^{*}(\\phi) = sup_{x \\in \\mathbb{R}} (<x, \\phi> - max(-(1-\\tau)x, \\tau x))\n",
        "\\end{equation}\n",
        "\n",
        "\\\\\n",
        "\n",
        "\n",
        "- **First Case:** $\\phi < -(1-\\tau)$\n",
        "In this case we can realize that the affine function $<\\phi, x> - L_{\\tau}^{*}(\\phi)$ cannot lower bound the function $L_{\\tau}(x)$ on $\\mathbb{R}_{-}^{*}$. Therefore, the intuition gives that the opposite of the intercept for that affine function must be $+\\infty$. Let's formalize that. <br/>\n",
        "\n",
        "\\\\\n",
        "\n",
        "\n",
        "Let's consider the maximizing series $x_n = -n$. For every $n \\in \\mathbb{N}$ we have\n",
        "\n",
        "\\begin{aligned}\n",
        "  L_{\\tau}^{*}(\\phi) &\\geq \\ <x_n, \\phi> - max(-(1-\\tau)x_n, \\tau x_n) \\\\\n",
        "  &\\geq \\ <-n, \\phi> - max(+(1-\\tau)n, -\\tau n) \\\\\n",
        "  &\\geq \\ <-n, \\phi> - (n -\\tau n) \\\\\n",
        "  &\\geq \\ -\\phi n - n + \\tau n \\\\\n",
        "  &= \\ (-\\phi -(1-\\tau)) n\n",
        "\\end{aligned}\n",
        "\n",
        "\n",
        "We have assumed that $\\phi < -(1-\\tau)$, that is $-\\phi - 1 + \\tau > 0$, thus : \n",
        "\\begin{equation}\n",
        "  \\lim\\limits_{\\substack{n \\rightarrow +\\infty \\\\}} (-\\phi - 1 + \\tau)n = +\\infty\n",
        "\\end{equation}\n",
        "\n",
        "and  \n",
        "\n",
        "\\begin{equation}\n",
        "  L_{\\tau}^{*}(\\phi) = + \\infty\n",
        "\\end{equation}\n",
        "\n",
        "\\\\\n",
        "\n",
        "- **Second Case:** $\\phi > \\tau$\n",
        "In this case we can realize that the affine function $<\\phi, x> - L_{\\tau}^{*}(\\phi)$ cannot lower bound the function $L_{\\tau}(x)$ on $\\mathbb{R}_{-}^{*}$. Therefore, the intuition gives that the opposite of the intercept for that affine function must be $+\\infty$. Let's formalize that. <br/>\n",
        "\n",
        "\n",
        "\\\\\n",
        "\n",
        "\n",
        "Let's consider the maximizing series $x_n = +n$. For every $n \\in \\mathbb{N}$ we have\n",
        "\n",
        "\\begin{aligned}\n",
        "  L_{\\tau}^{*}(\\phi) &\\geq \\ <x_n, \\phi> - max(-(1-\\tau)x_n, \\tau x_n) \\\\\n",
        "  &\\geq \\ <+n, \\phi> - max(-(1-\\tau)n, +\\tau n) \\\\\n",
        "  &\\geq \\ <+n, \\phi> -\\tau n \\\\\n",
        "  &= \\ (\\phi -\\tau) n\n",
        "\\end{aligned}\n",
        "\n",
        "\n",
        "We have assumed that $\\phi > \\tau$, that is $\\phi - \\tau > 0$, thus : \n",
        "\\begin{equation}\n",
        "  \\lim\\limits_{\\substack{n \\rightarrow +\\infty \\\\}} (-\\phi - \\tau)n = +\\infty\n",
        "\\end{equation}\n",
        "\n",
        "and  \n",
        "\n",
        "\\begin{equation}\n",
        "  L_{\\tau}^{*}(\\phi) = + \\infty\n",
        "\\end{equation}\n",
        "\n",
        "\\\\\n",
        "\n",
        "\n",
        "- **Third Case:** $\\phi \\in [-(1-\\tau), \\tau]$\n",
        "In this case, the affine function $<\\phi, x> - L_{\\tau}^{*}(\\phi)$ can minimize the function $L_{\\tau}(x)$ in $0$. What is the opposite of the intercept of the highest minimizer of the function $L_{\\tau}(x)$ ? Let's compute the Fenchel Legendre Transform. \n",
        "\n",
        "\\begin{aligned}\n",
        "  L_{\\tau}^{*}(\\phi) = sup_{x \\in \\mathbb{R}} (<x, \\phi> - L_{\\tau}(x)) \\\\\n",
        "  &= sup_{x \\in \\mathbb{R}} (<x, \\phi> - max(-(1-\\tau)x, \\tau x))\n",
        "\\end{aligned}\n",
        "\n",
        "\n",
        "Let's distinguish two cases : <br/>\n",
        "On the one hand, if $x < 0$ : <br/>\n",
        "\n",
        "\\begin{aligned}\n",
        "  L_{\\tau}^{*}(\\phi) &= sup_{x \\in \\mathbb{R}} (<x, \\phi> - (-(1-\\tau)x)) \\\\\n",
        "  &= sup_{x \\in \\mathbb{R}} (<x, \\phi> + (1-\\tau)x) \\\\\n",
        "  &= sup_{x \\in \\mathbb{R}} (\\phi + 1 - \\tau)x\n",
        "\\end{aligned}\n",
        "\n",
        "\n",
        "But we have assumed that $\\phi \\in [-(1-\\tau), \\tau]$, then $\\phi \\geq -(1- \\tau)$, that is $\\phi + 1 - \\tau \\geq 0$. And since we have assumed that $x < 0$, then we have $(\\phi + 1 - \\tau)x \\leq 0$. Consequently, we obtain : \n",
        "\\begin{equation}\n",
        "  L_{\\tau}^{*}(\\phi) = sup_{x \\in \\mathbb{R}} (\\phi + 1 - \\tau)x = 0\n",
        "\\end{equation}\n",
        "\n",
        "On the other hand, if $x \\geq 0$ : <br/>\n",
        "\\begin{aligned}\n",
        "  L_{\\tau}^{*}(\\phi) &= sup_{x \\in \\mathbb{R}} (<x, \\phi> - \\tau x) \\\\\n",
        "  &= sup_{x \\in \\mathbb{R}} (\\phi - \\tau)x\n",
        "\\end{aligned}\n",
        "\n",
        "\n",
        "But we have assumed that $\\phi \\in [-(1-\\tau), \\tau]$, then we have $\\phi \\leq \\tau$, that is $\\phi - \\tau \\leq 0$. And since we have assumed that $x \\geq 0$, then we obtain that $(\\phi - \\tau)x \\leq 0$. Consequently, we deduce that : \n",
        "\\begin{equation}\n",
        "  L_{\\tau}^{*}(\\phi) = sup_{x \\in \\mathbb{R}} (\\phi - \\tau)x = 0\n",
        "\\end{equation}\n",
        "\n",
        "\\\\\n",
        "\n",
        "\n",
        "**Conclusion:** <br/>\n",
        "$$\n",
        "L_{\\tau}^{*}(\\phi) = \\left\\{\n",
        "    \\begin{array}{11}\n",
        "        +\\infty & \\mbox{if } \\phi < -(1-\\tau) \\\\\n",
        "        0 & \\mbox{if } \\phi \\in [-(1-\\tau), \\tau] \\\\\n",
        "        +\\infty  & \\mbox{if } \\phi > \\tau\n",
        "    \\end{array}\n",
        "\\right.\n",
        "$$"
      ]
    },
    {
      "cell_type": "code",
      "metadata": {
        "id": "ZqRf7qFjnUCb",
        "colab_type": "code",
        "colab": {}
      },
      "source": [
        "def l_star(tau, phi):\n",
        "  \"\"\"\n",
        "  Inputs\n",
        "  ----------\n",
        "  tau: tau parameter\n",
        "  phi: argument of the function\n",
        "  \"\"\"\n",
        "  if -(1-tau) < phi and phi < tau:\n",
        "    return 0\n",
        "  else:\n",
        "    return math.inf "
      ],
      "execution_count": 0,
      "outputs": []
    },
    {
      "cell_type": "code",
      "metadata": {
        "id": "PaMnCk6doP7q",
        "colab_type": "code",
        "outputId": "dd7edbfd-b3fe-413d-f7bc-4f22ef6016d8",
        "colab": {
          "base_uri": "https://localhost:8080/",
          "height": 311
        }
      },
      "source": [
        "x = np.linspace(start=-1, stop=1, num=50)\n",
        "y = [l_star(tau, v) for v in x]\n",
        "\n",
        "plt.plot(x, y)\n",
        "plt.axis(xmin=-1, xmax=1)\n",
        "plt.vlines(x=0, ymin=-1, ymax=1)\n",
        "plt.suptitle(\"Fenchel-Legendre Transformation of the Pinball loss\")\n",
        "plt.title(\"Tau = \" + str(tau))"
      ],
      "execution_count": 9,
      "outputs": [
        {
          "output_type": "execute_result",
          "data": {
            "text/plain": [
              "Text(0.5, 1.0, 'Tau = 0.7')"
            ]
          },
          "metadata": {
            "tags": []
          },
          "execution_count": 9
        },
        {
          "output_type": "display_data",
          "data": {
            "image/png": "[encoded data removed]",
            "text/plain": [
              "<Figure size 432x288 with 1 Axes>"
            ]
          },
          "metadata": {
            "tags": []
          }
        }
      ]
    },
    {
      "cell_type": "markdown",
      "metadata": {
        "id": "S9-xyxtXoFSO",
        "colab_type": "text"
      },
      "source": [
        "#### Proximal operators"
      ]
    },
    {
      "cell_type": "markdown",
      "metadata": {
        "id": "PE1S0maXr1mi",
        "colab_type": "text"
      },
      "source": [
        "- $prox_{\\gamma L_{\\tau}^{*} (v)}$\n",
        "\n",
        "\\begin{aligned}\n",
        "  prox_{\\gamma L_{\\tau}^{*}} (v) &= argmin_{y \\in \\mathbb{R}} L_{\\tau}^{*}(y) + \\frac{1}{2\\gamma} \\left\\|y-v\\right\\|^2 \\\\\n",
        "  &= argmin_{y \\in [-(1-\\tau, \\tau)]} \\frac{1}{2\\gamma} \\left\\|y-v\\right\\|^2 \\\\\n",
        "  &= proj_{[-(1-\\tau),\\tau]}(v) \\\\\n",
        "  &= \\left\\{\n",
        "    \\begin{array}{ll}\n",
        "        -(1-\\tau) & \\mbox{if } v < -(1-\\tau) \\\\\n",
        "        v & \\mbox{if } v \\in [-(1-\\tau), \\tau] \\\\\n",
        "        \\tau & \\mbox{if } v > \\tau        \n",
        "    \\end{array}\n",
        "\\right.\n",
        "\\end{aligned}"
      ]
    },
    {
      "cell_type": "code",
      "metadata": {
        "id": "9XTkGlNCqRWC",
        "colab_type": "code",
        "colab": {}
      },
      "source": [
        "def prox_l_star(gamma, tau, v):\n",
        "  \"\"\"\n",
        "  Inputs\n",
        "  ----------\n",
        "  gamma: gamma parameter\n",
        "  tau: tau parameter\n",
        "  v: argument of the function\n",
        "  \"\"\"\n",
        "  if v < -(1-tau):\n",
        "    return -(1-tau)\n",
        "  elif v > tau:\n",
        "    return tau\n",
        "  else:\n",
        "    return v"
      ],
      "execution_count": 0,
      "outputs": []
    },
    {
      "cell_type": "code",
      "metadata": {
        "id": "ggKby6aiquJG",
        "colab_type": "code",
        "outputId": "824f07fe-9322-49cc-e047-cebc521041eb",
        "colab": {
          "base_uri": "https://localhost:8080/",
          "height": 311
        }
      },
      "source": [
        "gamma = 1\n",
        "\n",
        "x = np.linspace(start=-1, stop=1, num=50)\n",
        "y = [prox_l_star(gamma, tau, v) for v in x]\n",
        "\n",
        "plt.plot(x, y)\n",
        "plt.hlines(xmin=x[0], xmax=x[-1], y=0)\n",
        "plt.vlines(ymin=min(y), ymax=max(y), x=0)\n",
        "plt.suptitle(\"Proximal operator (Fenchel-Legendre of the loss)\")\n",
        "plt.title(\"Tau = \" + str(tau) + \", Gamma = \" + str(gamma))"
      ],
      "execution_count": 11,
      "outputs": [
        {
          "output_type": "execute_result",
          "data": {
            "text/plain": [
              "Text(0.5, 1.0, 'Tau = 0.7, Gamma = 1')"
            ]
          },
          "metadata": {
            "tags": []
          },
          "execution_count": 11
        },
        {
          "output_type": "display_data",
          "data": {
            "image/png": "[encoded data removed]",
            "text/plain": [
              "<Figure size 432x288 with 1 Axes>"
            ]
          },
          "metadata": {
            "tags": []
          }
        }
      ]
    },
    {
      "cell_type": "markdown",
      "metadata": {
        "id": "SlUkqXpjQpT0",
        "colab_type": "text"
      },
      "source": [
        "- $prox_{\\gamma L_{\\tau}}(v)$\n",
        "\\begin{equation}\n",
        "  prox_{\\gamma L_{\\tau}} = argmin_{y \\in \\mathbb{R}} (L_{\\tau}(y) + \\frac{1}{2 \\gamma}\\left\\|y-v\\right\\|^2) \n",
        "\\end{equation}\n",
        "\n",
        "From Fenchel Moreau Theorem we obtain the following statement : <br/>\n",
        "\n",
        "\\begin{aligned}\n",
        "  prox_{\\gamma L_{\\tau}}(v) &= v - \\gamma prox_{\\frac{1}{\\gamma}L_{\\tau}^{*}}(\\frac{v}{\\gamma}) \\\\\n",
        "  &= v - \\gamma proj_{[-(1-\\tau), \\tau]}(\\frac{v}{\\gamma})\n",
        "\\end{aligned}\n",
        "\n",
        "\n",
        "\n",
        "where $proj_{[-(1-\\tau), \\tau]}(\\frac{v}{\\gamma})$ is the orthognal projection of $\\frac{v}{\\gamma}$ onto the interval $[-(1-\\tau), \\tau]$.\n",
        "\n",
        "\\begin{aligned}\n",
        "prox_{\\gamma L_{\\tau} (v)} &= \\left\\{\n",
        "    \\begin{array}{ll}\n",
        "        v + \\gamma (1-\\tau) & \\mbox{if } v < -\\gamma (1-\\tau) \\\\\n",
        "        0 & \\mbox{if } v \\in [-\\gamma(1-\\tau), \\gamma \\tau] \\\\\n",
        "        v- \\gamma \\tau & \\mbox{if } v > \\gamma \\tau        \n",
        "    \\end{array}\n",
        "\\right.\n",
        "\\end{aligned}\n"
      ]
    },
    {
      "cell_type": "code",
      "metadata": {
        "id": "WjCMrcMar6BS",
        "colab_type": "code",
        "colab": {}
      },
      "source": [
        "def prox_l(gamma, tau, v):\n",
        "  \"\"\"\n",
        "  Inputs\n",
        "  ----------\n",
        "  gamma: gamma parameter\n",
        "  tau: tau parameter\n",
        "  v: argument of the function\n",
        "  \"\"\"\n",
        "  if v < -gamma*(1-tau):\n",
        "    return v+gamma*(1-tau)\n",
        "  elif v > gamma*tau:\n",
        "    return v-gamma*tau\n",
        "  else:\n",
        "    return 0"
      ],
      "execution_count": 0,
      "outputs": []
    },
    {
      "cell_type": "code",
      "metadata": {
        "id": "G7SzAaCfr6vx",
        "colab_type": "code",
        "outputId": "1866c974-8df4-49c8-f80e-1a49fcfecdb2",
        "colab": {
          "base_uri": "https://localhost:8080/",
          "height": 311
        }
      },
      "source": [
        "gamma = 1\n",
        "\n",
        "x = np.linspace(start=-1, stop=1, num=50)\n",
        "y = [prox_l_star(gamma, tau, v) for v in x]\n",
        "\n",
        "plt.plot(x, y)\n",
        "plt.hlines(xmin=x[0], xmax=x[-1], y=0)\n",
        "plt.vlines(ymin=min(y), ymax=max(y), x=0)\n",
        "plt.suptitle(\"Proximal operator of the loss\")\n",
        "plt.title(\"Tau = \" + str(tau) + \", Gamma = \" + str(gamma))"
      ],
      "execution_count": 13,
      "outputs": [
        {
          "output_type": "execute_result",
          "data": {
            "text/plain": [
              "Text(0.5, 1.0, 'Tau = 0.7, Gamma = 1')"
            ]
          },
          "metadata": {
            "tags": []
          },
          "execution_count": 13
        },
        {
          "output_type": "display_data",
          "data": {
            "image/png": "[encoded data removed]",
            "text/plain": [
              "<Figure size 432x288 with 1 Axes>"
            ]
          },
          "metadata": {
            "tags": []
          }
        }
      ]
    },
    {
      "cell_type": "markdown",
      "metadata": {
        "id": "ucEo6u_StQk0",
        "colab_type": "text"
      },
      "source": [
        "### What is Quantile Regression ? "
      ]
    },
    {
      "cell_type": "markdown",
      "metadata": {
        "id": "TpkJd6OEDPVG",
        "colab_type": "text"
      },
      "source": [
        "\n",
        "\n",
        "Quantile Regression is a type of regression analysis used in statistics and econometrics. Whereas the method of least squares results in estimates of the conditional mean of the response variable given certain values of the predictor variables : \n",
        "\\begin{equation}\n",
        "  \\mathbb{E}[Y|X]\n",
        "\\end{equation}\n",
        "Quantile Regression aims at estimating either the conditional median or other quantiles of the response variable. Essentially, Quantile Regression is the extension of linear regression and we use it when the conditions of linear regression are not applicable. <br/>\n",
        "Quantile Regression is desired if conditional quantile functions are of interest. One advantage of quantile regression, relative to the ordinary least squares regression, is that the quantile regression estimates are more robust against outliers in the response measurements. However, the main attractio of quantile regression goes beyond that. Different measures of central tendency and statistical dispersion can be useful to obtain a more comprehensive analysis of the relationship between variables. <br/>\n",
        "\n",
        "The mathematical forms arising from quantile regression are distinct from those arising in the method of least squares. The method of least squares leads to a consideration of problems in an inner product space, involving projection onto subspaces, and thus the problem of minimizing the squared errors can be reduced to a problem in numerical linear algebra. Quantile Regression does not have this structure, and instead leads to problems in linear programming that can be solved by the simplex method. <br/>\n",
        "\n",
        "Let $Y$ be a real valued random variable with cumulative distribution function $F_{Y}(y) = \\mathbb{P}(Y \\leq y)$. The $\\tau^{th}$ quantile of $Y$ is given by : \n",
        "\\begin{equation}\n",
        "  Q_{Y}(\\tau) = F_{Y}^{-1}(\\tau) = inf \\{ y: F_{Y}(y) \\geq \\tau \\}\n",
        "\\end{equation}\n",
        "\n",
        "where $\\tau \\in (0,1)$. "
      ]
    },
    {
      "cell_type": "markdown",
      "metadata": {
        "id": "GzpTVmsx4_m-",
        "colab_type": "text"
      },
      "source": [
        "##  Question 2.2"
      ]
    },
    {
      "cell_type": "markdown",
      "metadata": {
        "id": "HTs8PSt0wKk3",
        "colab_type": "text"
      },
      "source": [
        "### Statement"
      ]
    },
    {
      "cell_type": "markdown",
      "metadata": {
        "id": "UeqPjbHZwP6W",
        "colab_type": "text"
      },
      "source": [
        "Define : \n",
        "\\begin{equation}\n",
        "  g : (w, w_{0}) \\leftarrow \\frac{\\alpha}{2} \\left \\| w \\right \\|^2\n",
        "\\end{equation}\n",
        "\n",
        "Calculate : \n",
        "\\begin{equation}\n",
        "  prox_{\\gamma g}(w,w_{0})\n",
        "\\end{equation}"
      ]
    },
    {
      "cell_type": "markdown",
      "metadata": {
        "id": "MJYHcqvNwSb_",
        "colab_type": "text"
      },
      "source": [
        "### Answer"
      ]
    },
    {
      "cell_type": "markdown",
      "metadata": {
        "id": "uy9rKcPcEnKt",
        "colab_type": "text"
      },
      "source": [
        "\n",
        "\n",
        "\\begin{equation}\n",
        "  prox_{\\gamma g}(w,w_{0}) = argmin_{(w',w_{0}') \\in \\mathbb{R}^2} (\\frac{\\alpha}{2} \\left \\| w' \\right \\|^2 + \\frac{1}{2\\gamma} \\left \\| w-w' \\right \\|^2 + \\frac{1}{2\\gamma} \\left \\| w_{0}-w_{0}' \\right \\|^2)\n",
        "\\end{equation}\n",
        "\n",
        "\\begin{equation}\n",
        "  prox_{\\gamma g}(w,w_{0}) = argmin_{w' \\in \\mathbb{R}, w_{0}' = w_{0}} (\\frac{\\alpha}{2} \\left \\| w' \\right \\|^2 + \\frac{1}{2\\gamma} \\left \\| w-w' \\right \\|^2)\n",
        "\\end{equation}\n",
        "\n",
        "Let's denote by $f(w')$ the following function : \n",
        "\\begin{equation}\n",
        "  f(w') = \\frac{\\alpha}{2} \\left \\| w' \\right \\|^2 +\\frac{1}{2\\gamma} \\left \\| w-w' \\right \\|^2\n",
        "\\end{equation}\n",
        "Now we are going to compute the gradient of the function $f$ with regards to $w'$ as follows : \n",
        "\\begin{equation}\n",
        "  \\nabla f(w') = \\alpha w' - \\frac{w - w'}{\\gamma}\n",
        "\\end{equation}\n",
        "\n",
        "\\begin{equation}\n",
        "  \\nabla f(w') = \\alpha w' + \\frac{w' - w}{\\gamma}\n",
        "\\end{equation}\n",
        "\n",
        "\\begin{equation}\n",
        "  \\nabla f(w') = (\\alpha + \\frac{1}{\\gamma}) w' - \\frac{1}{\\gamma}w\n",
        "\\end{equation}\n",
        "\n",
        "Now we equate the gradient of $f$ to $0$ and we solve this optimization problem.\n",
        "\n",
        "\\begin{equation}\n",
        "  \\nabla f(w') = 0\n",
        "\\end{equation}\n",
        "\n",
        "\n",
        "\\begin{equation}\n",
        "  (\\alpha + \\frac{1}{\\gamma}) w' - \\frac{1}{\\gamma}w = 0\n",
        "\\end{equation}\n",
        "\n",
        "$$\n",
        " \\left\\{\n",
        "    \\begin{array}{ll}\n",
        "        w^{*} = \\frac{w}{\\alpha \\gamma + 1} & \\mbox{ } \\\\\n",
        "        w_{0}^{*} = w_{0} & \\mbox{}\n",
        "    \\end{array}\n",
        "\\right.\n",
        "$$\n",
        "\n",
        "\\begin{equation}\n",
        "  prox_{\\gamma g}(w,w_{0}) = (w^{*}, w_{0}^{*}) \n",
        "\\end{equation}\n",
        "\n",
        "\\begin{equation}\n",
        "  prox_{\\gamma g}(w,w_{0}) = (\\frac{w}{\\alpha \\gamma + 1}, w_{0}) \n",
        "\\end{equation}\n",
        "\n",
        "\n"
      ]
    },
    {
      "cell_type": "markdown",
      "metadata": {
        "id": "qrbvGyLEuzMZ",
        "colab_type": "text"
      },
      "source": [
        "## Question 2.3"
      ]
    },
    {
      "cell_type": "markdown",
      "metadata": {
        "id": "hdus19ImwWa-",
        "colab_type": "text"
      },
      "source": [
        "### Statement"
      ]
    },
    {
      "cell_type": "markdown",
      "metadata": {
        "id": "aNLXW8W5Ew0q",
        "colab_type": "text"
      },
      "source": [
        "$\\forall z \\in \\mathbb{R}^{n}$ denote :\n",
        "\\begin{equation}\n",
        "  L_{\\tau}(z) = \\sum_{i = 1}^{n} L_{\\tau}(z_{i})\n",
        "\\end{equation}\n",
        "and $e = (1, \\ldots, 1)$. <br/>\n",
        "Show that :\n",
        "\n",
        "1. \n",
        "\\begin{equation}\n",
        "  min_{w \\in \\mathbb{R}^{d}, w_{0} \\in \\mathbb{R}} \\frac{\\alpha}{2}  \\left \\| w \\right \\|^2 + L_{\\tau}(y - xw - w_{0}e) = min_{w \\in \\mathbb{R}^{d}, w_{0} \\in \\mathbb{R}} max_{z \\in \\mathbb{R}^{n}} \\frac{\\alpha}{2}  \\left \\| w \\right \\|^2 - L_{\\tau}^{*}(z) + z^{T} (y - xw - w_{0}e)\n",
        "\\end{equation}\n",
        "\n",
        "2. \n",
        "\\begin{equation}\n",
        "  min_{w \\in \\mathbb{R}^{d}, w_{0} \\in \\mathbb{R}} \\frac{\\alpha}{2}  \\left \\| w \\right \\|^2 + L_{\\tau}(y - xw - w_{0}e) = max_{z \\in \\mathbb{R}^{n}} y^{T}z - \\frac{1}{2\\alpha} \\left \\| x^{T}z \\right \\|^2 - L_{\\tau}^{*}(z) - \\iota_{0} (e^{T}z)\n",
        "\\end{equation}\n",
        "\n",
        "3. \n",
        "\\begin{equation}\n",
        "  min_{w \\in \\mathbb{R}^{d}, w_{0} \\in \\mathbb{R}} \\frac{\\alpha}{2}  \\left \\| w \\right \\|^2 + L_{\\tau}(y - xw - w_{0}e) = max_{z \\in \\mathbb{R}^{n}} min_{u \\in \\mathbb{R}} y^{T}z - \\frac{1}{2\\alpha} \\left \\| x^{T}z \\right \\|^2 - L_{\\tau}^{*}(z) - ue^{T}z\n",
        "\\end{equation}"
      ]
    },
    {
      "cell_type": "markdown",
      "metadata": {
        "id": "MIBcmFFVvGqy",
        "colab_type": "text"
      },
      "source": [
        "### Answer"
      ]
    },
    {
      "cell_type": "markdown",
      "metadata": {
        "id": "PD4Bj5NrvL99",
        "colab_type": "text"
      },
      "source": [
        "#### Equality 1"
      ]
    },
    {
      "cell_type": "markdown",
      "metadata": {
        "id": "27u0d8NncKu5",
        "colab_type": "text"
      },
      "source": [
        "\\begin{aligned}\n",
        "  max_{z \\in \\mathbb{R}^{n}} - L_{\\tau}^{*}(z) + z^{T}(y - xw - w_{0}e) &= max_{z \\in \\mathbb{R}^{n}} <z, y - xw - w_{0}e> - L_{\\tau}^{*}(z) \\\\\n",
        "  &= L_{\\tau}^{**}(y - xw - w_{0}e) \\\\\n",
        "  &= L_{\\tau}(y - xw - w_{0}e)\n",
        "\\end{aligned}\n",
        "\n",
        "\n",
        "since the pinball loss $L_{\\tau}$ is convex, continuous and lower semi-continuous, the convex enveloppe of $L_{\\tau}$ is equal to the biconjugate of $L_{\\tau}$ : \n",
        "\\begin{equation}\n",
        "  L_{\\tau} = L_{\\tau}^{**}\n",
        "\\end{equation}\n",
        "\n",
        "Consequently we obtain : \n",
        "\\begin{equation}\n",
        "  min_{(w, w_{0}) \\in \\mathbb{R}^2} max_{z \\in \\mathbb{R}^{n}} \\frac{\\alpha}{2} \\left \\| w \\right \\|^2 - L_{\\tau}^{*}(z) + z^{T}(y - xw - w_{0}e) = min_{(w, w_{0}) \\in \\mathbb{R}^2} \\frac{\\alpha}{2} \\left \\| w \\right \\|^2 + L_{\\tau} (y - xw - w_{0}e)\n",
        "\\end{equation}\n"
      ]
    },
    {
      "cell_type": "markdown",
      "metadata": {
        "id": "yM3ARzlbvbG-",
        "colab_type": "text"
      },
      "source": [
        "#### Equality 2"
      ]
    },
    {
      "cell_type": "markdown",
      "metadata": {
        "id": "fNxfd--Dvegf",
        "colab_type": "text"
      },
      "source": [
        "**Fenchel Rockafellar Theorem:** <br/>\n",
        "Let $f : X \\rightarrow (- \\infty, + \\infty]$ and $g : Y \\rightarrow (- \\infty, + \\infty]$ be two convex functions and let $M : X \\rightarrow Y$ be a linear operator. Assume that : \n",
        "\\begin{equation}\n",
        "  0 \\in ri(M dom f - dom g)\n",
        "\\end{equation}\n",
        "\n",
        "Then,\n",
        "\n",
        "\\begin{equation}\n",
        "  inf_{x \\in X} f(x) + g(Mx) = -min_{\\phi \\in Y} f^{*}(-M^{*}\\phi + g^{*}(\\phi))\n",
        "\\end{equation}\n",
        "\n",
        "Now we have to identify the functions $f$, $g$ and the matrix M used in the Fenchel-Rockafellar Theorem. <br/>\n",
        "Function $g$ : <br/>\n",
        "\\begin{equation}\n",
        "  \\forall z \\in \\mathbb{R}, \\  g(z) = L_{\\tau}(y + z)\n",
        "\\end{equation}\n",
        "\n",
        "Function $f$ : <br/>\n",
        "\\begin{equation}\n",
        "  \\forall (w, w_{0}) \\in \\mathbb{R}^{d} \\times \\mathbb{R}, \\ f(w, w_{0}) = \\frac{\\alpha}{2} \\left \\| w \\right \\|^2\n",
        "\\end{equation}\n",
        "\n",
        "Matrix $M$ : <br/>\n",
        "\n",
        "\\begin{equation}\n",
        "  M = [-X, -e]\n",
        "\\end{equation}\n",
        "\n",
        "where : $X \\in \\mathbb{R}^{n \\times d}$ is the Observations Matrix and $e = (0, 0, \\ldots, 0, 1, 0, \\ldots, 0) \\in \\mathbb{R}^{n}$. Therefore, $M \\in \\mathbb{R}^{n \\times (d+1)}$\n",
        "\n",
        "\\\\\n",
        "\n",
        "\n",
        "**Condition of Qualification:** <br/>\n",
        "We have : \n",
        "\\begin{equation}\n",
        "  dom(f) = \\mathbb{R}^{d}\n",
        "\\end{equation}\n",
        "\n",
        "\\begin{equation}\n",
        "  Mdom(f) \\subset \\mathbb{R}^{n}\n",
        "\\end{equation}\n",
        "\n",
        "\\begin{equation}\n",
        "  ri(M dom(f) - dom(g)) = \\mathbb{R}^{n}\n",
        "\\end{equation}\n",
        "\n",
        "Thus\n",
        "\n",
        "\\begin{equation}\n",
        "  0 \\in ri(M dom(f) - dom(g))\n",
        "\\end{equation}\n",
        "\n",
        "The condition of qualification is verified.\n",
        "\n",
        "\\\\\n",
        "\n",
        "**Applying the theorem**\n",
        "\n",
        "We apply Fenchel Rockafellar Theorem with the functions $f$, $g$ and the matrix $M$. \n",
        "\n",
        "\\begin{equation}\n",
        "  inf_{(w, w_{0}) \\in \\mathbb{R}^{d} \\times \\mathbb{R}} f(w, w_{0}) + g(Mz) = max{(\\phi, \\phi_{0}) \\in \\mathbb{R}^{d} \\times \\mathbb{R}} -f^{*}(-M^{*}(\\phi, \\phi_{0}) - g^{*}(\\phi, \\phi_{0}))\n",
        "\\end{equation}\n",
        "\n",
        "Let's write the formula of $f^{*}(\\phi, \\phi_{0})$ corresponding to the Fenchel Legendre Transform of the function $f$. \n",
        "Function $f$ : <br/>\n",
        "\\begin{equation}\n",
        "  \\forall (w, w_{0}) \\in \\mathbb{R}^{d} \\times \\mathbb{R} \\ f(w, w_{0}) = \\frac{\\alpha}{2} \\left \\| w \\right \\|^2\n",
        "\\end{equation}\n",
        "\n",
        "Let's write the Fenchel Legendre Transform of $f$ : \n",
        "\\begin{equation}\n",
        "  f^{*}(w, w_{0}) = max_{w, w_{0}} <w,\\phi> + <w_{0}, \\phi_{0}> - \\frac{\\alpha}{2} \\left \\| w \\right \\|^2\n",
        "\\end{equation}\n",
        "\n",
        "We want to maximize a concave function $h$, therefore, we are going to compute the gradient of the function $h$ with regards to each variable $w$ and $w_{0}$, then we equate it to $0$ and we solve the optimization problem. \n",
        "\n",
        "Let's denote by $h$ the following function : <br/>\n",
        "\n",
        "Gradient of $h$ with regards to $w$ : \n",
        "\\begin{equation}\n",
        "  \\frac{\\partial}{\\partial w} h(w, w_{0}) = \\phi - \\alpha w \n",
        "\\end{equation}\n",
        "\n",
        "\\\\\n",
        "\n",
        "\\begin{equation}\n",
        "\\frac{\\partial}{\\partial w} h(w{*}, w_{0}) = 0 \\Leftrightarrow \\phi - \\alpha w{*}  = 0 \\Leftrightarrow w^{*}  = \\frac{\\phi}{\\alpha}\n",
        "\\end{equation}\n",
        "\n",
        "\n",
        "Gradient of $h$ with regards to $w_{0}$ : \n",
        "\n",
        "\\begin{equation}\n",
        "  \\frac{\\partial}{\\partial w_{0}} h(w, w_{0}) = \\phi_{0} \n",
        "\\end{equation}\n",
        "\n",
        "\\\\\n",
        "\n",
        "\\begin{equation}\n",
        "\\frac{\\partial}{\\partial w} h(w{*}, w_{0}) = 0 \\Leftrightarrow \\phi_{0} = 0 \\Leftrightarrow w^{*}  = \\frac{\\phi}{\\alpha}\n",
        "\\end{equation}\n",
        "\n",
        "\\\\\n",
        "\n",
        "**First Case:** $\\phi_{0} = 0$\n",
        "\n",
        "\\begin{equation}\n",
        "  <w_{0}, \\phi_{0}> = 0\n",
        "\\end{equation}\n",
        "\n",
        "**Second Case:** $\\phi_{0} \\ne 0$\n",
        "\n",
        "Let's take a maximizing series defined as follows :\n",
        "\\begin{equation}\n",
        "  w_{0_{n}} = n \\times sign(\\phi_{0}) = n |\\phi_{0}|\n",
        "\\end{equation}\n",
        "\n",
        "\\begin{equation}\n",
        "  \\lim\\limits_{\\substack{n \\rightarrow \\infty}} n |\\phi_{0}| = + \\infty\n",
        "\\end{equation}\n",
        "\n",
        "Therefore we have the following statement :\n",
        "\\begin{equation}\n",
        "  sup_{w_{0} \\in \\mathbb{R}} w_{0}\\phi_{0} = \\iota_{0} (\\phi_{0})\n",
        "\\end{equation}\n",
        "\n",
        "Consequently, we obtain : \n",
        "\n",
        "\\begin{aligned}\n",
        "  f^{*}(\\phi, \\phi_{0}) &= <\\frac{\\phi}{\\alpha}, \\phi> + l_{0}(\\phi_{0}) - \\frac{\\alpha}{2} \\left \\| \\frac{\\phi}{\\alpha} \\right \\|^2 \\\\\n",
        "  &= \\frac{1}{\\alpha} \\left \\| \\phi \\right \\|^2 + \\iota_{0}(\\phi_{0}) - \\frac{1}{2\\alpha} \\left \\| \\phi \\right \\|^2 \\\\\n",
        "  &= \\frac{1}{2\\alpha} \\left \\| \\phi \\right \\|^2 + \\iota_{0}(\\phi_{0})\n",
        "\\end{aligned}\n",
        "\n",
        "And the Fenchel-Legendre Transform of the function $g$ is given as follows : \n",
        "\n",
        "\\begin{aligned}\n",
        "  g^{*}(\\phi) &= max_{z} <z, \\phi> - g(z) \\\\\n",
        "  &= max_{z} <z, \\phi> - L_{\\tau}(y + z)\n",
        "\\end{aligned}\n",
        "\n",
        "\n",
        "Let's performe the following variable change : $z' = y + z$\n",
        "\n",
        "\\begin{aligned}\n",
        "  g^{*}(\\phi) &= max_{z'} <z' - y, \\phi> - L_{\\tau}(z') \\\\\n",
        "  &= max_{z'} <z' , \\phi> - L_{\\tau}(z') - <y, \\phi> \\\\\n",
        "  &= L_{\\tau}^{*}(\\phi) - <y, \\phi>\n",
        "\\end{aligned}\n",
        "\n",
        "\n",
        "Thus we obtain : \n",
        "\\begin{equation}\n",
        "  inf_{(w, w_{0}) \\in \\mathbb{R}^{d} \\times \\mathbb{R}} f(w, w_{0}) + g(Mz) = - min_{(\\phi, \\phi_{0})} f^{*} (-M^{*}(\\phi, \\phi_{0})) + g^{*}(\\phi, \\phi_{0})\n",
        "\\end{equation}\n",
        "\n",
        "\\begin{equation}\n",
        "  M^{*}z = [-X^{*} \\ e^{*}]z = [- X^{*}z \\ e^{*}z] = [\\phi \\ \\phi_{0}]\n",
        "\\end{equation}\n",
        "\n",
        "\\begin{equation}\n",
        "  f^{*}(-M^{*}z) = \\frac{1}{2 \\alpha} \\left \\| X^{*}z \\right \\|^2 + \\iota_{0}{e^{*}z}\n",
        "\\end{equation}\n",
        "\n",
        "\\begin{equation}\n",
        "  g^{*}(z) = L_{\\tau}^{*} - <y, z>\n",
        "\\end{equation}\n",
        "\n",
        "\n",
        "Consequently we have proved the following result : \n",
        "\\begin{equation}\n",
        "  inf_{(w, w_{0}) \\in \\mathbb{R}^{d} \\times \\mathbb{R}} f(w, w_{0}) + g(Mz) = max_{z} - f^{*}(-M^{*}z) - g^{*}(z) \n",
        "\\end{equation}\n",
        "\n",
        "\\begin{equation}\n",
        "  inf_{(w, w_{0}) \\in \\mathbb{R}^{d} \\times \\mathbb{R}} f(w, w_{0}) + g(Mz) = max_{z} - \\frac{1}{2\\alpha} \\left \\| X^{*}z \\right \\|^2 - \\iota_{0}(e^{*}z) - L_{\\tau}^{*}(z) + <y, z>\n",
        "\\end{equation}"
      ]
    },
    {
      "cell_type": "markdown",
      "metadata": {
        "id": "cANMt-Puve01",
        "colab_type": "text"
      },
      "source": [
        "#### Equality 3"
      ]
    },
    {
      "cell_type": "markdown",
      "metadata": {
        "id": "zQaynDlwvhDy",
        "colab_type": "text"
      },
      "source": [
        "\\begin{equation}\n",
        "  max_{z \\in \\mathbb{R}^{n}} min_{u \\in \\mathbb{R}} y^{*}z - \\frac{1}{2\\alpha} \\left \\| X^{*}z \\right \\|^2 - L_{\\tau}^{*}(z) - ue^{*}z\n",
        "\\end{equation}\n",
        "\n",
        "$$\n",
        "min_{u \\in \\mathbb{R}} - ue^{*}z = - max_{u \\in \\mathbb{R} ue^{*}z}  = \\left\\{\n",
        "    \\begin{array}{ll}\n",
        "        + \\infty & \\mbox{if } \\ e^{*}z \\ne 0 \\\\\n",
        "        0 & \\mbox{otherwise.}\n",
        "    \\end{array}\n",
        "\\right.\n",
        "$$\n",
        "\n",
        "Therefore we obtain the following equality : \n",
        "\\begin{equation}\n",
        "  max_{z \\in \\mathbb{R}^{n}} min_{u \\in \\mathbb{R}} y^{*}z - \\frac{1}{2\\alpha} \\left \\| X^{*}z \\right \\|^2 - L_{\\tau}^{*}(z) - ue^{*}z = max_{z \\in \\mathbb{R}^{n}} y^{*}z - \\frac{1}{2\\alpha} \\left \\| X^{*}z \\right \\|^2 - L_{\\tau}^{*}(z) - \\iota_{0} e^{*}z\n",
        "\\end{equation}"
      ]
    },
    {
      "cell_type": "markdown",
      "metadata": {
        "id": "pwNeDfzZEypb",
        "colab_type": "text"
      },
      "source": [
        "# 3. Implementation"
      ]
    },
    {
      "cell_type": "markdown",
      "metadata": {
        "id": "S9J5AxCo12jC",
        "colab_type": "text"
      },
      "source": [
        "## Question 3.1"
      ]
    },
    {
      "cell_type": "markdown",
      "metadata": {
        "id": "zGc5Gd2I4efH",
        "colab_type": "text"
      },
      "source": [
        "### Statement"
      ]
    },
    {
      "cell_type": "markdown",
      "metadata": {
        "id": "tOSGOkju14vQ",
        "colab_type": "text"
      },
      "source": [
        "Implement at least two algorithms for the resolution of the quantile regression problem. You\n",
        "may choose test size = 0.99 in order to test your algorithm on small data."
      ]
    },
    {
      "cell_type": "code",
      "metadata": {
        "id": "An3YbCeAlk5D",
        "colab_type": "code",
        "colab": {}
      },
      "source": [
        "def opti_function(w, M, y, alpha=1, tau=0.7):\n",
        "  \"\"\"\n",
        "  Inputs\n",
        "  ----------\n",
        "  w: parameters\n",
        "  M: transformed matrix of the input data\n",
        "  y: output data\n",
        "  \"\"\"\n",
        "  return alpha/2*norm(w[1:])**2 + np.sum(np.apply_along_axis(lambda v: l(tau, v), 0, y-np.dot(M,w)))"
      ],
      "execution_count": 0,
      "outputs": []
    },
    {
      "cell_type": "markdown",
      "metadata": {
        "id": "-tf1X-CmFElD",
        "colab_type": "text"
      },
      "source": [
        "### Augmented Method of Multipliers (ADMM) Algorithm"
      ]
    },
    {
      "cell_type": "markdown",
      "metadata": {
        "id": "KRhtYjZ22FfX",
        "colab_type": "text"
      },
      "source": [
        "Using the notations of the course we aim at minimizing\n",
        "\n",
        "\\begin{equation}\n",
        "f(w) + g(Mw)\n",
        "\\end{equation}\n",
        "\n",
        "with\n",
        "* $w = (w_0, w_1) \\in \\mathbb{R}^{d+1}$\n",
        "* $f(w) = g(w_1) = \\frac \\alpha 2 ||w_1||^2$ (here $g$ is the function of the statement)\n",
        "* $g(Mw) = \\sum_i L_{\\tau} (y_i - (Mw)_i)$ with $M^T = \\Big( x'_1 | ... | x'_n \\Big)$ and $x' = (1, x)$.\n",
        "\n",
        "We thus have\n",
        "\n",
        "\\begin{equation}\n",
        "g(.) = \\sum_i L_{\\tau} (y_i - ._i)\n",
        "\\end{equation}\n",
        "\n",
        "\\\\\n",
        "\n",
        "The algorithm introduced during the class is defined as follows:\n",
        "\n",
        "\n",
        "$$\n",
        "\\left\\{\n",
        "    \\begin{array}{11}\n",
        "        w^{k+1} \\in argmin_{w'} \\ f(w') + <\\phi^k, Mw'> + \\frac 1 {2 \\gamma} ||Mw'-z^k||^2\\\\\n",
        "        z^{k+1} = argmin_{z'} \\ g(z') - <\\phi^k, z'> + \\frac 1 {2 \\gamma} ||Mw^{k+1} - z'||^2 \\\\\n",
        "        \\phi^{k+1} = \\phi^k + \\frac 1 {\\gamma} (Mw^{k+1} - z^{k+1})\n",
        "    \\end{array}\n",
        "\\right.\n",
        "$$\n",
        "\n",
        "\\\\\n",
        "\n",
        "For each iteration let's have a more explicit formula for $w^{k+1}$ and $z^{k+1}$.\n",
        "\n",
        "- $w^{k+1}$\n",
        "\n",
        "We are looking for\n",
        "\n",
        "\\begin{equation}\n",
        "argmin_{w'} \\ f(w') + <\\phi^k, Mw'> + \\frac 1 {2 \\gamma} ||Mw'-z^k||^2 \n",
        "\\end{equation}\n",
        "\n",
        "i.e.\n",
        "\n",
        "\\begin{equation}\n",
        "argmin_{w'} \\ \\frac \\alpha 2 ||w'_1||^2 + <\\phi^k, Mw'> + \\frac 1 {2 \\gamma} ||Mw'-z^k||^2 \n",
        "\\end{equation}\n",
        "\n",
        "with $w'_1$ the vector $w'$ without the first coordinate. We also note $w'_{-0}$ the vector $w'$ with a $0$ at the first coordinate.\n",
        "\n",
        "We compute the gradient of the function in the argmin and the argmin is solution of\n",
        "\n",
        "\\begin{aligned}\n",
        "\\alpha w'_{-0} + M^T \\phi^k + \\frac 1 {\\gamma} M^T (M w' - z^k) = 0\n",
        "\\end{aligned}\n",
        "\n",
        "i.e. with $P_{-0} = diag(0, 1, ..., 1)$ we get the following equation for $w^{k+1}$:\n",
        "\n",
        "\\begin{aligned}\n",
        "(\\alpha P_{-0} + \\frac 1 {\\gamma} M^T M)w' = M^T (\\frac 1 {\\gamma} z^k-\\phi^k).\n",
        "\\end{aligned}\n",
        "\n",
        "Given the values of $P_0$ and the fact that $\\alpha, \\gamma > 0$, we can easily see that the eignvalues of the left matrix are all strictly positive if M is injective.\n",
        "\n",
        "We can indeed diagonalize the matrix $M^TM$ and use the same decomposition for $P_0$. The injectivity of $M$ plays a role regarding the first coordinate in position $(1,1)$, as we have $P_0(1,1) = 0$ and $M^T M > 0$ as the first colonne is different from zero due to the injectivity.\n",
        "\n",
        "We thus have\n",
        "\n",
        "\\begin{aligned}\n",
        "w^{k+1} = (\\alpha P_{-0} + \\frac 1 {\\gamma} M^T M)^{-1}(\\frac 1 {\\gamma} M (z^k-\\phi^k))\n",
        "\\end{aligned}\n",
        "\n",
        "\\\\\n",
        "\n",
        "- $z^{k+1}$\n",
        "\n",
        "\\begin{aligned}\n",
        "z^{k+1} &= argmin_{z'} \\ g(z') - <\\phi^k, z'> + \\frac 1 {2 \\gamma} ||Mw^{k+1} - z'||^2 \\\\\n",
        "&= argmin_{z'} \\ g(z') + \\frac 1 {2 \\gamma} ||z' - \\Big( \\gamma \\phi^k + M w^{k+1} \\Big)||^2 \\\\\n",
        "&= prox_{\\gamma g}(\\gamma \\phi^k + M w^{k+1}).\n",
        "\\end{aligned}\n",
        "\n",
        "Given that $g$ is separable we can compute the proximal operator coordinate by coordinate and use\n",
        "\n",
        "\\begin{equation}\n",
        "\\Big( prox_{\\gamma g}(.) \\Big)_i = y_i - prox_{\\gamma L_{\\tau}}(.).\n",
        "\\end{equation}\n"
      ]
    },
    {
      "cell_type": "code",
      "metadata": {
        "id": "zf7TsJEl2FtZ",
        "colab_type": "code",
        "colab": {}
      },
      "source": [
        "alpha = 1\n",
        "\n",
        "def ADMM(alpha, gamma, tau, M, y, nb_iter = 100, w_init=None, phi_init=None, z_init=None):\n",
        "  \"\"\"\n",
        "  Inputs\n",
        "  ----------\n",
        "  alpha: alpha parameter\n",
        "  gamma: gamma parameter\n",
        "  tau: tau parameter\n",
        "  M: matrix of the data\n",
        "  y: y vector\n",
        "  nb_iter: number of iterations\n",
        "  w_init : array of initial values\n",
        "  phi_init : array of initial values\n",
        "  z_init : array of initial values\n",
        "  \"\"\"\n",
        "  \n",
        "  # various parameters\n",
        "  n, d = M.shape[0], M.shape[1]-1\n",
        "  P_0 = np.diag(np.array([0]+d*[1]))\n",
        "\n",
        "  # initial parameters\n",
        "  if w_init is None:\n",
        "    w_init = np.zeros(d+1)  # des zeros partout une bonne idée ?\n",
        "  if z_init is None:\n",
        "    z_init = np.zeros(n)\n",
        "  if phi_init is None:\n",
        "    phi_init = np.zeros(n)\n",
        "\n",
        "  # evolution of the optimization function\n",
        "  f = [opti_function(w_init, M, y, alpha, tau)]\n",
        "\n",
        "  w_old, phi_old, z_old = w_init, phi_init, z_init\n",
        "\n",
        "  # the algorithm in itself\n",
        "  for i in range(nb_iter):\n",
        "    w_new = np.linalg.inv(alpha*P_0 + 1/gamma*np.dot(M.T, M)).dot(1/gamma*(M.T).dot(z_old - phi_old))\n",
        "    z_new = y - np.vectorize(lambda v: prox_l(gamma, tau, v))(gamma*phi_old + np.dot(M, w_new))\n",
        "    phi_new = phi_old + 1/gamma*(np.dot(M, w_new) - z_new)\n",
        "\n",
        "    f += [opti_function(w_new, M, y, alpha, tau)]\n",
        "    w_old, phi_old, z_old = w_new, phi_new, z_new\n",
        "\n",
        "  plt.plot(f)\n",
        "\n",
        "  return w_new, phi_new, z_new"
      ],
      "execution_count": 0,
      "outputs": []
    },
    {
      "cell_type": "code",
      "metadata": {
        "id": "zvNWGJ_1m6Ad",
        "colab_type": "code",
        "outputId": "f3ead182-2fac-4a1a-8437-cd8f2448eaac",
        "colab": {
          "base_uri": "https://localhost:8080/",
          "height": 387
        }
      },
      "source": [
        "tau = 0.7\n",
        "n = X_train.shape[0]\n",
        "d = X_train.shape[1]\n",
        "M = np.concatenate((np.ones((n,1)), X_train), axis=1)\n",
        "gamma = 1.1\n",
        "alpha = 1\n",
        "sigma = norm(M, ord=2)**2\n",
        "\n",
        "ADMM(alpha, gamma, tau, M, y_train, nb_iter = 10, w_init=np.random.normal(size=d+1), phi_init=np.random.normal(size=n), z_init=np.random.normal(size=n))"
      ],
      "execution_count": 16,
      "outputs": [
        {
          "output_type": "execute_result",
          "data": {
            "text/plain": [
              "(array([ 0.11955504, -0.11392931,  0.08754777,  0.11902233,  0.11690229,\n",
              "         0.07086622,  0.03809419, -0.02674625,  0.03571424, -0.0824508 ,\n",
              "         0.28694462]),\n",
              " array([  691.94527929, -1143.79595154,    54.95535032, ...,\n",
              "           16.73002421,   287.56974115,  -378.67365357]),\n",
              " array([-380.78689451,  628.7931774 ,  -29.91062892, ...,   -8.90837914,\n",
              "        -157.82294547,  208.59076293]))"
            ]
          },
          "metadata": {
            "tags": []
          },
          "execution_count": 16
        },
        {
          "output_type": "display_data",
          "data": {
            "image/png": "[encoded data removed]",
            "text/plain": [
              "<Figure size 432x288 with 1 Axes>"
            ]
          },
          "metadata": {
            "tags": []
          }
        }
      ]
    },
    {
      "cell_type": "markdown",
      "metadata": {
        "colab_type": "text",
        "id": "ZjrXCz7v5PZj"
      },
      "source": [
        "### Vu-Condat Algorithm"
      ]
    },
    {
      "cell_type": "markdown",
      "metadata": {
        "id": "4KJ6U0zh2fWW",
        "colab_type": "text"
      },
      "source": [
        "Using the notations of the course we aim at minimizing\n",
        "\n",
        "\\begin{equation}\n",
        "f(w) + g(w) + h(Mw)\n",
        "\\end{equation}\n",
        "\n",
        "with\n",
        "* $w = (w_0, w_1) \\in \\mathbb{R}^{d+1}$\n",
        "* $f(w) = g(w_1) = \\frac \\alpha 2 ||w_1||^2$\n",
        "* $g = 0$ ($g$ here is the function from the algorithm definition)\n",
        "* $h(Mw) = \\sum_i L_{\\tau} (y_i - (Mw)_i)$ with $M^T = \\Big( x'_1 | ... | x'_n \\Big)$ and $x' = (1, x)$.\n",
        "\n",
        "We thus have\n",
        "\n",
        "\\begin{equation}\n",
        "h(.) = \\sum_i L_{\\tau} (y_i - ._i)\n",
        "\\end{equation}\n",
        "\n",
        "\\\\\n",
        "\n",
        "The algorithm introduced during the class is defined as follows:\n",
        "\n",
        "\n",
        "$$\n",
        "\\left\\{\n",
        "    \\begin{array}{11}\n",
        "        z^{k+1} = argmin_{z'} \\ h(z') - <z',\\phi^k> + \\frac 1 {2 \\gamma} ||z' - Mw^k||^2\\\\\n",
        "        \\phi^{k+1} = \\phi^k + \\frac 1 {\\gamma} (Mw^k - z^{k+1})\\\\\n",
        "        w^{k+1} = argmin_{w'} \\ <\\nabla f(w^k), w'> + <M^T(2\\phi^{k+1} - \\phi^k),w'> + \\frac 1 {2 \\delta} ||w'-w^k||^2\n",
        "    \\end{array}\n",
        "\\right.\n",
        "$$\n",
        "\n",
        "\\\\\n",
        "\n",
        "For each iteration let's have a more explicit formula for $z^{k+1}$ and $w^{k+1}$.\n",
        "\n",
        "- $z^{k+1}$\n",
        "\n",
        "First, we have\n",
        "\n",
        "\\begin{aligned}\n",
        "- <z',\\phi^k> + \\frac 1 {2 \\gamma} ||z' - Mw^k||^2 &= \\frac 1 {2 \\gamma} ||z'||^2 - <z', \\phi^k + \\frac 1 {\\gamma} M w^k> + \\ c^{te} \\\\\n",
        "&= \\frac 1 {2 \\gamma} || z' - (\\gamma \\phi^k + M w^k)||^2 + \\ c^{te}\n",
        "\\end{aligned}\n",
        "\n",
        "and\n",
        "\n",
        "\\begin{aligned}\n",
        "z^{k+1} &= argmin_{z'} \\ h(z') - <z',\\phi^k> + \\frac 1 {2 \\gamma} ||z' - Mw^k||^2\\\\\n",
        "&= argmin_{z'} \\ h(z') + \\frac 1 {2 \\gamma} || z' - (\\gamma \\phi^k + M w^k)||^2 \\\\\n",
        "&= prox_{\\gamma h} (\\gamma \\phi^k + M w^k)\n",
        "\\end{aligned}\n",
        "\n",
        "\\\\\n",
        "\n",
        "The issue is now to compute $prox_{\\gamma h}$. Considering the fact that $h$ is a separable function we can compute the argmin coordinate by coordinate and use\n",
        "\n",
        "\\begin{equation}\n",
        "\\Big( prox_{\\gamma h}(.) \\Big)_i = y_i - prox_{\\gamma L_{\\tau}}(.).\n",
        "\\end{equation}\n",
        "\n",
        "\\\\\n",
        "\n",
        "- $w^{k+1}$\n",
        "\n",
        "If we write $w^k_{-0}$ the vector $w^k$ with the first coordinate equal to $0$, we have\n",
        "\n",
        "\\begin{equation}\n",
        "\\nabla f(w^k) = w^k_{-0}\n",
        "\\end{equation}\n",
        "\n",
        "and\n",
        "\n",
        "\n",
        "\\begin{aligned}\n",
        "w^{k+1} &= argmin_{w'} \\ <w', \\alpha w^k_{-0} + M^T(2 \\phi^{k+1} - \\phi^k)> + \\frac 1 {2 \\delta} ||w'-w^k||^2 \\\\\n",
        "&= w^k - \\delta \\Big[ \\alpha w^k_{-0} + M^T(2 \\phi^{k+1} - \\phi^k) \\Big].\n",
        "\\end{aligned}\n",
        "\n",
        "*(by looking for a zero of the gradient)*."
      ]
    },
    {
      "cell_type": "code",
      "metadata": {
        "id": "s1v9dsra2ffa",
        "colab_type": "code",
        "colab": {}
      },
      "source": [
        "def Vu_Condat(alpha, gamma, delta, tau, M, y, nb_iter = 100, w_init=None, phi_init=None, z_init=None):\n",
        "  \"\"\"\n",
        "  Inputs\n",
        "  ----------\n",
        "  alpha: alpha parameter\n",
        "  gamma: gamma parameter\n",
        "  delta: deta parameter\n",
        "  tau: tau parameter\n",
        "  M: matrix of the data\n",
        "  y: y vector\n",
        "  nb_iter: number of iterations\n",
        "  w_init : array of initial values\n",
        "  phi_init : array of initial values\n",
        "  z_init : array of initial values\n",
        "  \"\"\"\n",
        "  \n",
        "  # various parameters\n",
        "  n, j = M.shape[0], M.shape[1]-1\n",
        "\n",
        "  # initial parameters\n",
        "  if w_init is None:\n",
        "    w_init = np.zeros(j+1)  # des zeros partout une bonne idée ?\n",
        "  if z_init is None:\n",
        "    z_init = np.zeros(n)\n",
        "  if phi_init is None:\n",
        "    phi_init = np.zeros(n)\n",
        "\n",
        "  # evolution of the optimization function\n",
        "  f = [opti_function(w_init, M, y, alpha, tau)]\n",
        "\n",
        "  w_old, phi_old, z_old = w_init, phi_init, z_init\n",
        "\n",
        "  # the algorithm in itself\n",
        "  for i in range(nb_iter):\n",
        "    z_new = y - np.vectorize(lambda v: prox_l_bis(gamma, tau, v))(gamma*phi_old + np.dot(M, w_old))\n",
        "    phi_new = phi_old + 1/gamma*(np.dot(M, w_old) - z_new)\n",
        "\n",
        "    w_minus_0 = w_old.copy()\n",
        "    w_minus_0[0] = 0\n",
        "\n",
        "    w_new = w_old - delta*(alpha*w_minus_0 + np.dot(M.T,2*phi_new - phi_old))\n",
        "\n",
        "\n",
        "    f += [opti_function(w_new, M, y, alpha, tau)]\n",
        "    w_old, phi_old, z_old = w_new, phi_new, z_new\n",
        "\n",
        "  plt.plot(f)\n",
        "  \n",
        "  return w_new, phi_new, z_new"
      ],
      "execution_count": 0,
      "outputs": []
    },
    {
      "cell_type": "markdown",
      "metadata": {
        "id": "-ssUhqQJDbgw",
        "colab_type": "text"
      },
      "source": [
        "From the course the parameters $\\gamma$ and $\\delta$ have to satisfy the following identity:\n",
        "\n",
        "\\begin{equation}\n",
        "\\delta < \\frac 1 {\\frac {\\mathcal{L}(\\nabla f)} 2 + \\gamma ||M||^2}\n",
        "\\end{equation}\n",
        "\n",
        "\\\\\n",
        "\n",
        "Given that $\\nabla f(w) = \\alpha P_0 w$ we have $\\mathcal{L}(\\nabla f) = \\alpha$.\n",
        "\n",
        "The condition is then $\\frac 1 {\\delta} > \\frac 1 2 + \\gamma  ||M||^2$.\n",
        "\n",
        "We take $\\gamma$ such that both additive terms are of same order, i.e.\n",
        "* $\\gamma = \\frac 1 {||M||^2}$\n",
        "* $\\frac 1 {\\delta}$ = 1.1"
      ]
    },
    {
      "cell_type": "code",
      "metadata": {
        "id": "CJj7ZGIfBVNY",
        "colab_type": "code",
        "colab": {}
      },
      "source": [
        "def prox_l_bis(gamma, tau, v):\n",
        "  \"\"\"\n",
        "  Inputs\n",
        "  ----------\n",
        "  gamma: gamma parameter\n",
        "  tau: tau parameter\n",
        "  v: argument of the function\n",
        "  \"\"\"\n",
        "  if v < -gamma*(1-tau):\n",
        "    return -(1-tau)\n",
        "  elif v > gamma*tau:\n",
        "    return tau\n",
        "  else:\n",
        "    return v/gamma"
      ],
      "execution_count": 0,
      "outputs": []
    },
    {
      "cell_type": "code",
      "metadata": {
        "id": "1IHqGYsHoznE",
        "colab_type": "code",
        "outputId": "59403059-2948-414d-af60-b801e6db2c58",
        "colab": {
          "base_uri": "https://localhost:8080/",
          "height": 387
        }
      },
      "source": [
        "tau = 0.7\n",
        "n = X_train.shape[0]\n",
        "M = np.concatenate((np.ones((n,1)), X_train), axis=1)\n",
        "gamma = 1.1\n",
        "alpha = 1\n",
        "sigma = (norm(M, ord=2)**2)\n",
        "delta = 1/sigma\n",
        "Vu_Condat(alpha, gamma, delta, tau, M, y_train, nb_iter = 10, w_init=np.random.normal(size=d+1), phi_init=np.random.normal(size=n), z_init=np.random.normal(size=n))"
      ],
      "execution_count": 19,
      "outputs": [
        {
          "output_type": "execute_result",
          "data": {
            "text/plain": [
              "(array([-0.11620779, -0.15417985, -0.15783065, -0.06774818, -0.04032075,\n",
              "        -0.10910525, -0.02737609, -0.01462505,  0.13439618,  0.09044778,\n",
              "         0.29864834]),\n",
              " array([ 16.97827645,  -2.29072875,   5.84286672, ...,   3.79811144,\n",
              "         -1.45722732, -13.37203903]),\n",
              " array([-1.9039818 ,  0.04080811, -0.84037248, ..., -0.88373164,\n",
              "         0.21082433,  1.27050694]))"
            ]
          },
          "metadata": {
            "tags": []
          },
          "execution_count": 19
        },
        {
          "output_type": "display_data",
          "data": {
            "image/png": "[encoded data removed]",
            "text/plain": [
              "<Figure size 432x288 with 1 Axes>"
            ]
          },
          "metadata": {
            "tags": []
          }
        }
      ]
    },
    {
      "cell_type": "markdown",
      "metadata": {
        "id": "Cz-Do6FBlZbT",
        "colab_type": "text"
      },
      "source": [
        "### Forward Backward Splitting "
      ]
    },
    {
      "cell_type": "code",
      "metadata": {
        "id": "X7bLLFYypsbt",
        "colab_type": "code",
        "colab": {}
      },
      "source": [
        "def grad_term_reg(x, alpha):\n",
        "  return alpha * np.concatenate(([0], x[1:]), axis=0)"
      ],
      "execution_count": 0,
      "outputs": []
    },
    {
      "cell_type": "code",
      "metadata": {
        "id": "L7MO3HWAmzUE",
        "colab_type": "code",
        "colab": {}
      },
      "source": [
        "def vect_prox_l(x, tau, gamma,):\n",
        "  res1 = (gamma-1)/gamma * x * ((x>=gamma*(tau-1)) & (x<=gamma*tau))\n",
        "  res2 = (x-tau) * (x>gamma*tau)\n",
        "  res3 = (x-tau+1) * (x<gamma*(tau-1))\n",
        "  return res1+res2+res3"
      ],
      "execution_count": 0,
      "outputs": []
    },
    {
      "cell_type": "code",
      "metadata": {
        "id": "lIG8k0B5lW8b",
        "colab_type": "code",
        "colab": {}
      },
      "source": [
        "def forward_backward_splitting(X, y_label, tau, alpha, gamma, lambd,w0=None, y0=None, n_iter=100, eps=0.001):\n",
        "  n = X.shape[0]\n",
        "  n_features = X.shape[1]\n",
        "  M = np.concatenate((np.ones((n,1)), X), axis=1)\n",
        "  e = np.ones((n))\n",
        "\n",
        "  w = None or np.zeros((n_features+1,))\n",
        "  y = None or np.zeros((n,))\n",
        "\n",
        "  print(np.mean((M@w-y_label)**2))\n",
        "  for i in range(n_iter):\n",
        "    \n",
        "    u = w - gamma*grad_term_reg(w, alpha)\n",
        "    stop=False\n",
        "    while not stop:\n",
        "      v = y + lambd/gamma*M@(u-gamma*M.T@y)\n",
        "      y_new = v - lambd/gamma*y_label + lambd/gamma*vect_prox_l(y_label-gamma/lambd*v, tau, gamma/lambd)\n",
        "      if np.linalg.norm(y_new-y)<=eps:\n",
        "        stop = True\n",
        "      y = y_new\n",
        "    w = u - gamma*M.T@y\n",
        "    if i %100==0:\n",
        "      print(np.mean((M@w-y_label)**2))\n"
      ],
      "execution_count": 0,
      "outputs": []
    },
    {
      "cell_type": "code",
      "metadata": {
        "id": "OvMB8Hw1linV",
        "colab_type": "code",
        "outputId": "247d406e-1c67-4c8d-da50-841a794d7382",
        "colab": {
          "base_uri": "https://localhost:8080/",
          "height": 1000
        }
      },
      "source": [
        "forward_backward_splitting(X_train, np.squeeze(y_train), 0.3, 0.2, 0.005, 1e-5, n_iter=10000, eps=1e-5)"
      ],
      "execution_count": 23,
      "outputs": [
        {
          "output_type": "stream",
          "text": [
            "1.0000000000000002\n",
            "0.9990841199229659\n",
            "0.9258682208319379\n",
            "0.8788860473517537\n",
            "0.8479116591769311\n",
            "0.8269392274624237\n",
            "0.8123760126927982\n",
            "0.8020273018065971\n",
            "0.7945211291506907\n",
            "0.7889786514203327\n",
            "0.7848227531995303\n",
            "0.7816651495350697\n",
            "0.779238566532432\n",
            "0.7773551599545979\n",
            "0.7758804502600967\n",
            "0.7747166022784553\n",
            "0.7737914477606758\n",
            "0.773051114950283\n",
            "0.7724549753215371\n",
            "0.7719721127214946\n",
            "0.7715788146039445\n",
            "0.7712567633887242\n",
            "0.770991716178734\n",
            "0.7707725306106834\n",
            "0.7705904394585154\n",
            "0.770438506143535\n",
            "0.7703112131543828\n",
            "0.7702041489698364\n",
            "0.7701137685381955\n",
            "0.7700372090503462\n",
            "0.7699721475249571\n",
            "0.7699166901821543\n",
            "0.7698692861059908\n",
            "0.7698286595529708\n",
            "0.7697937566394226\n",
            "0.7697637031655924\n",
            "0.7697377711022609\n",
            "0.769715351843786\n",
            "0.7696959347685635\n",
            "0.7696790899797734\n",
            "0.7696644543522443\n",
            "0.7696517202048163\n",
            "0.7696406260662503\n",
            "0.7696309491172946\n",
            "0.7696224989801782\n",
            "0.7696151125956019\n",
            "0.7696086499809354\n",
            "0.7696029907052477\n",
            "0.7695980309497135\n",
            "0.7695936810478544\n",
            "0.7695898634205657\n",
            "0.7695865108371225\n",
            "0.7695835649463169\n",
            "0.7695809750322016\n",
            "0.7695786969572201\n",
            "0.7695766922621694\n",
            "0.769574927397836\n",
            "0.7695733730675078\n",
            "0.7695720036631265\n",
            "0.7695707967807333\n",
            "0.7695697328032421\n",
            "0.7695687945405252\n",
            "0.7695679669183956\n",
            "0.769567236709411\n",
            "0.7695665922995197\n",
            "0.7695660234854863\n",
            "0.7695655212988038\n",
            "0.7695650778524409\n",
            "0.7695646862073051\n",
            "0.7695643402557599\n",
            "0.7695640346199177\n",
            "0.7695637645627486\n",
            "0.7695635259103216\n",
            "0.769563314983733\n",
            "0.7695631285394626\n",
            "0.7695629637170874\n",
            "0.7695628179934059\n",
            "0.7695626891421682\n",
            "0.7695625751987062\n",
            "0.76956247442885\n",
            "0.7695623853015977\n",
            "0.7695623064650781\n",
            "0.7695622367253953\n",
            "0.7695621750280066\n",
            "0.7695621204413244\n",
            "0.7695620721422658\n",
            "0.7695620294035247\n",
            "0.7695619915823497\n",
            "0.7695619581106481\n",
            "0.7695619284862608\n",
            "0.7695619022652656\n",
            "0.7695618790551843\n",
            "0.7695618585089895\n",
            "0.7695618403198153\n",
            "0.7695618242162855\n",
            "0.7695618099583895\n",
            "0.7695617973338423\n",
            "0.7695617861548661\n",
            "0.7695617762553509\n",
            "0.7695617674883422\n",
            "0.7695617597238243\n"
          ],
          "name": "stdout"
        }
      ]
    },
    {
      "cell_type": "markdown",
      "metadata": {
        "id": "cHDkxSazmj32",
        "colab_type": "text"
      },
      "source": [
        "## Question 3.2\n"
      ]
    },
    {
      "cell_type": "markdown",
      "metadata": {
        "id": "CI-clx846OFB",
        "colab_type": "text"
      },
      "source": [
        "### Statement"
      ]
    },
    {
      "cell_type": "markdown",
      "metadata": {
        "id": "Jw74Dem46Ppy",
        "colab_type": "text"
      },
      "source": [
        "Define a stopping criterion. Why did you choose it ?"
      ]
    },
    {
      "cell_type": "markdown",
      "metadata": {
        "id": "u0nebPT16TdL",
        "colab_type": "text"
      },
      "source": [
        "### Answer"
      ]
    },
    {
      "cell_type": "markdown",
      "metadata": {
        "id": "aoZQyIH8napt",
        "colab_type": "text"
      },
      "source": [
        "We look at the relative difference between the successive values of the function to optimized. When that quantity doesn't vary much (the optimization doesn't prove efficient anymore), we stop the algorithm.\n",
        "\n",
        "We take a threshold of 0.01 in order to ensure that we have reached a proper convergence.\n",
        "\n",
        "Another issue is the early stopping: we define a good threshold in order to avoir the overfitting of our data."
      ]
    },
    {
      "cell_type": "code",
      "metadata": {
        "id": "R-Fje3YR6zyL",
        "colab_type": "code",
        "colab": {}
      },
      "source": [
        "def relative_diff(x1, x2, threshold):\n",
        "  \"\"\"\n",
        "  Inputs\n",
        "  ----------\n",
        "  x1: reference value\n",
        "  x2: second value\n",
        "  threshold: threshold\n",
        "\n",
        "  Outputs\n",
        "  ----------\n",
        "  bigger: boolean |(x1-x2)/x1| < threshold\n",
        "  \"\"\"\n",
        "  bigger = (abs((x1-x2)/x1) > threshold)\n",
        "  return bigger"
      ],
      "execution_count": 0,
      "outputs": []
    },
    {
      "cell_type": "markdown",
      "metadata": {
        "id": "GIe9un7K7gXf",
        "colab_type": "text"
      },
      "source": [
        "We adapt our algorithms with that."
      ]
    },
    {
      "cell_type": "code",
      "metadata": {
        "id": "oggzX-j9CO95",
        "colab_type": "code",
        "colab": {}
      },
      "source": [
        "alpha = 1\n",
        "\n",
        "def new_ADMM(alpha, gamma, tau, M, y, threshold=0.01, w_init=None, phi_init=None, z_init=None):\n",
        "  \"\"\"\n",
        "  Inputs\n",
        "  ----------\n",
        "  alpha: alpha parameter\n",
        "  gamma: gamma parameter\n",
        "  tau: tau parameter\n",
        "  M: matrix of the data\n",
        "  y: y vector\n",
        "  nb_iter: number of iterations\n",
        "  w_init : array of initial values\n",
        "  phi_init : array of initial values\n",
        "  z_init : array of initial values\n",
        "  \"\"\"\n",
        "  \n",
        "  # various parameters\n",
        "  n, d = M.shape[0], M.shape[1]-1\n",
        "  P_0 = np.diag(np.array([0]+d*[1]))\n",
        "  keep_going = True\n",
        "\n",
        "  # initial parameters\n",
        "  if w_init is None:\n",
        "    w_init = np.zeros(d+1)  # des zeros partout une bonne idée ?\n",
        "  if z_init is None:\n",
        "    z_init = np.zeros(n)\n",
        "  if phi_init is None:\n",
        "    phi_init = np.zeros(n)\n",
        "\n",
        "  # evolution of the optimization function\n",
        "  f = [opti_function(w_init, M, y, alpha, tau)]\n",
        "\n",
        "  w_old, phi_old, z_old = w_init, phi_init, z_init\n",
        "\n",
        "  # the algorithm in itself\n",
        "  while keep_going:\n",
        "    w_new = np.linalg.inv(alpha*P_0 + 1/gamma*np.dot(M.T, M)).dot(1/gamma*(M.T).dot(z_old - phi_old))\n",
        "    z_new = y - np.vectorize(lambda v: prox_l(gamma, tau, v))(gamma*phi_old + np.dot(M, w_new))\n",
        "    phi_new = phi_old + 1/gamma*(np.dot(M, w_new) - z_new)\n",
        "\n",
        "    f += [opti_function(w_new, M, y, alpha, tau)]\n",
        "    w_old, phi_old, z_old = w_new, phi_new, z_new\n",
        "\n",
        "    keep_going = relative_diff(f[-2], f[-1], threshold)\n",
        "\n",
        "  return w_new, f\n",
        "\n",
        "\n",
        "def new_Vu_Condat(alpha, gamma, delta, tau, M, y, threshold=0.01, w_init=None, phi_init=None, z_init=None):\n",
        "  \"\"\"\n",
        "  Inputs\n",
        "  ----------\n",
        "  alpha: alpha parameter\n",
        "  gamma: gamma parameter\n",
        "  delta: deta parameter\n",
        "  tau: tau parameter\n",
        "  M: matrix of the data\n",
        "  y: y vector\n",
        "  nb_iter: number of iterations\n",
        "  w_init : array of initial values\n",
        "  phi_init : array of initial values\n",
        "  z_init : array of initial values\n",
        "  \"\"\"\n",
        "  \n",
        "  # various parameters\n",
        "  n, j = M.shape[0], M.shape[1]-1\n",
        "  keep_going = True\n",
        "\n",
        "  # initial parameters\n",
        "  if w_init is None:\n",
        "    w_init = np.zeros(j+1)  # des zeros partout une bonne idée ?\n",
        "  if z_init is None:\n",
        "    z_init = np.zeros(n)\n",
        "  if phi_init is None:\n",
        "    phi_init = np.zeros(n)\n",
        "\n",
        "  # evolution of the optimization function\n",
        "  f = [opti_function(w_init, M, y, alpha, tau)]\n",
        "\n",
        "  w_old, phi_old, z_old = w_init, phi_init, z_init\n",
        "\n",
        "  # the algorithm in itself\n",
        "  while keep_going:\n",
        "    z_new = y - np.vectorize(lambda v: prox_l_bis(gamma, tau, v))(gamma*phi_old + np.dot(M, w_old))\n",
        "    phi_new = phi_old + 1/gamma*(np.dot(M, w_old) - z_new)\n",
        "\n",
        "    w_minus_0 = w_old.copy()\n",
        "    w_minus_0[0] = 0\n",
        "\n",
        "    w_new = w_old - delta*(alpha*w_minus_0 + np.dot(M.T,2*phi_new - phi_old))\n",
        "\n",
        "    f += [opti_function(w_new, M, y, alpha, tau)]\n",
        "    w_old, phi_old, z_old = w_new, phi_new, z_new\n",
        "\n",
        "    keep_going = relative_diff(f[-2], f[-1], threshold)\n",
        "\n",
        "  return w_new, f"
      ],
      "execution_count": 0,
      "outputs": []
    },
    {
      "cell_type": "markdown",
      "metadata": {
        "id": "Q_OSZ6jWnMJu",
        "colab_type": "text"
      },
      "source": [
        "### Question 3.3 \n",
        "Compare the performance of the algorithms you implemented on the census dataset with\n",
        "$\\tau = 0.7$ and test $size=0.33$.\n",
        "\n"
      ]
    },
    {
      "cell_type": "code",
      "metadata": {
        "id": "Cwmx4r_HDg1M",
        "colab_type": "code",
        "colab": {}
      },
      "source": [
        "X_train, X_test, y_train, y_test = load_data(\"census_data.mat\", test_size=0.33)\n",
        "y_train = np.squeeze(y_train)\n",
        "y_test = np.squeeze(y_test)\n",
        "n = X_train.shape[0]\n",
        "M = np.concatenate((np.ones((n,1)), X_train), axis=1)"
      ],
      "execution_count": 0,
      "outputs": []
    },
    {
      "cell_type": "markdown",
      "metadata": {
        "id": "QZWFrPSiETe2",
        "colab_type": "text"
      },
      "source": [
        "ADMM"
      ]
    },
    {
      "cell_type": "code",
      "metadata": {
        "id": "-oxp75xGEDxL",
        "colab_type": "code",
        "colab": {}
      },
      "source": [
        "w_admm, f_admm = new_ADMM(alpha, gamma, tau, M, y_train, threshold=0.01, w_init=np.random.normal(size=d+1), phi_init=np.random.normal(size=n), z_init=np.random.normal(size=n))"
      ],
      "execution_count": 0,
      "outputs": []
    },
    {
      "cell_type": "markdown",
      "metadata": {
        "id": "DatSVFpaEU1g",
        "colab_type": "text"
      },
      "source": [
        "Vu-Condat"
      ]
    },
    {
      "cell_type": "code",
      "metadata": {
        "id": "wVRzTQYVEWAa",
        "colab_type": "code",
        "colab": {}
      },
      "source": [
        "w_vucondat, f_vucondat = new_Vu_Condat(alpha, gamma, 1/(norm(M, ord=2)**2), tau, M, y_train, threshold=0.01, w_init=np.random.normal(size=d+1), phi_init=np.random.normal(size=n), z_init=np.random.normal(size=n))"
      ],
      "execution_count": 0,
      "outputs": []
    },
    {
      "cell_type": "markdown",
      "metadata": {
        "id": "x8g8B3dXR5X_",
        "colab_type": "text"
      },
      "source": [
        "Test"
      ]
    },
    {
      "cell_type": "code",
      "metadata": {
        "id": "txuEKjzvR6um",
        "colab_type": "code",
        "colab": {}
      },
      "source": [
        "n = X_test.shape[0]\n",
        "M = np.concatenate((np.ones((n,1)), X_test), axis=1)\n",
        "f1 = opti_function(w_admm, M, y_test, alpha, tau)\n",
        "f2 = opti_function(w_vucondat, M, y_test, alpha, tau)"
      ],
      "execution_count": 0,
      "outputs": []
    },
    {
      "cell_type": "code",
      "metadata": {
        "id": "yNjV6nlIHR8H",
        "colab_type": "code",
        "outputId": "1e65f3a8-0ac3-4cdb-a9b3-deb82726667b",
        "colab": {
          "base_uri": "https://localhost:8080/",
          "height": 265
        }
      },
      "source": [
        "plt.plot(f_admm, label=\"ADMM\")\n",
        "plt.plot(f_vucondat, label=\"Vu_Condat\")\n",
        "plt.hlines(xmin=0, xmax=10, y=f1, label=\"Test loss ADMMM\", linestyles=\"dashed\", colors=\"blue\")\n",
        "plt.hlines(xmin=0, xmax=10, y=f2, label=\"Test loss Vu-Condat\", linestyles=\"dashed\", color = \"orange\")\n",
        "plt.legend()\n",
        "plt.show()"
      ],
      "execution_count": 30,
      "outputs": [
        {
          "output_type": "display_data",
          "data": {
            "image/png": "[encoded data removed]",
            "text/plain": [
              "<Figure size 432x288 with 1 Axes>"
            ]
          },
          "metadata": {
            "tags": []
          }
        }
      ]
    },
    {
      "cell_type": "markdown",
      "metadata": {
        "id": "foYIFbIEnYKE",
        "colab_type": "text"
      },
      "source": [
        "We can remark that the speed of convergence of the two algorithms ADMM and Vu-Condat are similar except the fact that the Vu-Condat Algorithm is less stable than the ADMM Algorithm. <br/>\n",
        "Nevertheless, theoretically, the Vu-Condat algorithm is more suited than the ADMM algorithm to large scale optimization optimization problems. This is due to the fact that the linear operator M involved in both the ADMM and the Vu-Condat algorithms is never involved in complex subproblems in the Vu-Condat algorithm : this linear operator is only involved through matrix-vector multiplications. The counterpart of this computational advantage is that the Vu-Condat method usually requires more iterations than the ADMM algorithm to get an approximate solution of good quality.<br/>\n",
        "The forward-backward algorithm is a general version of the proximal gradient algorithm. And the Vu-Condat algorithm is an instance of the forward-backward algorithm therefore, the performance of these two algorithms are similar, especially the speed of convergence towards the optimum solution."
      ]
    }
  ]
}