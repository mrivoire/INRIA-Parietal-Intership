{
  "nbformat": 4,
  "nbformat_minor": 0,
  "metadata": {
    "colab": {
      "name": "ConvexAnalysisTp.ipynb",
      "provenance": [],
      "collapsed_sections": [],
      "machine_shape": "hm"
    },
    "kernelspec": {
      "name": "python3",
      "display_name": "Python 3"
    }
  },
  "cells": [
    {
      "cell_type": "code",
      "metadata": {
        "id": "sijJeZWwMqbh",
        "colab_type": "code",
        "colab": {}
      },
      "source": [
        ""
      ],
      "execution_count": 0,
      "outputs": []
    },
    {
      "cell_type": "code",
      "metadata": {
        "id": "bPDgMW_RovBL",
        "colab_type": "code",
        "colab": {}
      },
      "source": [
        "import numpy as np\n",
        "from sklearn.preprocessing import StandardScaler\n",
        "from sklearn.model_selection import train_test_split\n",
        "from scipy.io import loadmat\n",
        "from tqdm import tqdm\n",
        "\n",
        "def load_data(filename='census_data.mat', test_size=0.33):\n",
        "    data = loadmat(filename)\n",
        "    X = data.get('A')  # Educational Attainment\n",
        "    X = np.asarray(X, dtype='float64')\n",
        "    # Variables\n",
        "#    Sex\n",
        "#    Age in 30 40\n",
        "#    Age in 40 50\n",
        "#    Age in 50 60\n",
        "#    Age in 60 70\n",
        "#    Age gte 70\n",
        "#    Non white*\n",
        "#    Unmarried\n",
        "#    Education\n",
        "#    Education code squared\n",
        "    # Education\n",
        "    #00 Not in universe (Under 3 years)\n",
        "    #01 No schooling completed\n",
        "    #02 Nursery school to 4th grade\n",
        "    #03 5th grade or 6th grade\n",
        "    #04 7th grade or 8th grade\n",
        "    #05 9th grade\n",
        "    #06 10th grade\n",
        "    #07 11th grade\n",
        "    #08 12th grade, no diploma\n",
        "    #09 High school graduate\n",
        "    #10 Some college, but less than 1 year\n",
        "    #11 One or more years of college, no degree\n",
        "    #12 Associate degree\n",
        "    #13 Bachelorâ€™s degree\n",
        "    #14 Masterâ€™s degree\n",
        "    #15 Professional degree\n",
        "    #16 Doctorate degree\n",
        "    y = data.get('b')[:, 0].reshape(-1, 1)\n",
        "    del data\n",
        "    ind = np.nonzero(y == 0.)[0]  # remove samples with no income\n",
        "    X = np.delete(X, ind, axis=0)\n",
        "    y = np.delete(y, ind, axis=0)\n",
        "    X = np.delete(X, 1, axis=1)  # this variable is just ones everywhere\n",
        "\n",
        "    scaler_x = StandardScaler()\n",
        "    scaler_y = StandardScaler()\n",
        "\n",
        "    X_train, X_test, y_train, y_test = train_test_split(X, y,\n",
        "                                test_size=test_size, random_state=0)\n",
        "    X_train = scaler_x.fit_transform(X_train)\n",
        "    y_train = scaler_y.fit_transform(y_train)\n",
        "    X_test = scaler_x.transform(X_test)\n",
        "    y_test = scaler_y.transform(y_test)\n",
        "\n",
        "    return X_train, X_test, y_train, y_test"
      ],
      "execution_count": 0,
      "outputs": []
    },
    {
      "cell_type": "code",
      "metadata": {
        "id": "72GbvPSQowdu",
        "colab_type": "code",
        "outputId": "6edd3462-65c5-41d5-ca4f-2667a6a239a6",
        "colab": {
          "base_uri": "https://localhost:8080/",
          "height": 202
        }
      },
      "source": [
        "!wget https://perso.telecom-paristech.fr/ofercoq/tp_qr/census_data.mat"
      ],
      "execution_count": 6,
      "outputs": [
        {
          "output_type": "stream",
          "text": [
            "--2019-12-21 19:30:11--  https://perso.telecom-paristech.fr/ofercoq/tp_qr/census_data.mat\n",
            "Resolving perso.telecom-paristech.fr (perso.telecom-paristech.fr)... 137.194.2.165, 2001:660:330f:2::a5\n",
            "Connecting to perso.telecom-paristech.fr (perso.telecom-paristech.fr)|137.194.2.165|:443... connected.\n",
            "HTTP request sent, awaiting response... 200 OK\n",
            "Length: 33091048 (32M)\n",
            "Saving to: ‘census_data.mat’\n",
            "\n",
            "census_data.mat     100%[===================>]  31.56M  4.17MB/s    in 7.8s    \n",
            "\n",
            "2019-12-21 19:30:20 (4.05 MB/s) - ‘census_data.mat’ saved [33091048/33091048]\n",
            "\n"
          ],
          "name": "stdout"
        }
      ]
    },
    {
      "cell_type": "code",
      "metadata": {
        "id": "3r_kdluuo1O8",
        "colab_type": "code",
        "colab": {}
      },
      "source": [
        "X_train, X_test, y_train, y_test = load_data(\"census_data.mat\")"
      ],
      "execution_count": 0,
      "outputs": []
    },
    {
      "cell_type": "code",
      "metadata": {
        "id": "IRSR2GTxtijl",
        "colab_type": "code",
        "colab": {}
      },
      "source": [
        "def pinball_loss(x, tau):\n",
        "  return tau*x*(x>=0) + (tau-1)*x*(x<=0)\n",
        "\n",
        "def L_tau(Xw,y, tau):\n",
        "  return np.sum(pinball_loss(y-Xw, tau))\n",
        "\n",
        "def g_fn(w, alpha):\n",
        "  return alpha * 0.5 * np.linalg.norm(w[1:], ord=2)**2\n",
        "\n",
        "def grad_g(w, alpha):\n",
        "  return alpha * np.concatenate(([0], w[1:]), axis=0)\n",
        "\n",
        "def prox_gamma_L_tau(x, tau, gamma,):\n",
        "  res1 = (gamma-1)/gamma * x * ((x>=gamma*(tau-1)) & (x<=gamma*tau))\n",
        "  res2 = (x-tau) * (x>gamma*tau)\n",
        "  res3 = (x-tau+1) * (x<gamma*(tau-1))\n",
        "  return res1+res2+res3\n"
      ],
      "execution_count": 0,
      "outputs": []
    },
    {
      "cell_type": "code",
      "metadata": {
        "id": "TKllyRABpCXJ",
        "colab_type": "code",
        "colab": {}
      },
      "source": [
        "def vu_condat(X, y, tau, alpha, sigma, gamma=None,  w_init=None, lambda_init=None, n_iter=10000):\n",
        "  n = X.shape[0]\n",
        "  n_features = X.shape[1]\n",
        "  w = w_init or np.random.normal(size=(n_features+1))\n",
        "  lambd = lambda_init or np.random.normal(size=(n,))\n",
        "  M = np.concatenate((np.ones((n,1)), X), axis=1)\n",
        "\n",
        "  if not gamma:\n",
        "    gamma =  (1/2 + np.linalg.norm(M)/sigma)   # theorem for convergence of Vu Condat\n",
        "  for i in range(n_iter):\n",
        "    w_next = w - 1./gamma * (grad_g(w,alpha) + M.T@lambd)\n",
        "    v = M@(2*w_next-w)\n",
        "    x = lambd+1./sigma*v\n",
        "    prox = prox_gamma_L_tau(y-x, tau, sigma)\n",
        "    lambd_next = lambd - sigma * ( v  - y + prox)\n",
        "\n",
        "    w = w_next\n",
        "    lambd = lambd_next\n",
        "    if i%100==0:\n",
        "      print(L_tau(M@w,y, tau))\n",
        "      #print(lambd)\n",
        "      #print(w)\n",
        "\n",
        "\n"
      ],
      "execution_count": 0,
      "outputs": []
    },
    {
      "cell_type": "code",
      "metadata": {
        "id": "yZrbEgEQ8HDv",
        "colab_type": "code",
        "colab": {}
      },
      "source": [
        "vu_condat(X_train, np.squeeze(y_train), 0.3, 0.5,0.1)"
      ],
      "execution_count": 0,
      "outputs": []
    },
    {
      "cell_type": "code",
      "metadata": {
        "id": "s8lxW3fF21nH",
        "colab_type": "code",
        "colab": {}
      },
      "source": [
        "def ADMM(X, y, tau, alpha, gamma=None,  w_init=None, lambda_init=None, u_init=None, n_iter=1000):\n",
        "  n = X.shape[0]\n",
        "  n_features = X.shape[1]\n",
        "  M = np.concatenate((np.ones((n,1)), X), axis=1)\n",
        "  e = np.ones((n))\n",
        "\n",
        "  w = w_init or np.random.normal(size=(n_features+1))\n",
        "  lambd_curr = lambda_init or np.random.normal(size=(n,))\n",
        "  u_curr = u_init or np.random.normal(size=(n,))\n",
        "\n",
        "  for i in range(n_iter):\n",
        "    \n",
        "    w1 = np.linalg.inv(gamma*X.T@X + alpha*np.eye(n_features)) @ X.T @ (gamma * y - lambd_curr - gamma * u_curr)\n",
        "    w0 = 1./(n*gamma) * e.T@(gamma*y - lambd_curr - gamma*u_curr)\n",
        "    w = np.concatenate(([w0], w1), axis=0)\n",
        "\n",
        "    u = prox_gamma_L_tau(y-M@w-1./gamma*lambd_curr, tau, 1./gamma)\n",
        "\n",
        "    lambd = lambd_curr + gamma*(M@w-y+u)\n",
        "\n",
        "    u_curr = u\n",
        "    lambd_curr = lambd\n",
        "\n",
        "    if i %100==0:\n",
        "      print(np.mean((M@w-y)**2))\n"
      ],
      "execution_count": 0,
      "outputs": []
    },
    {
      "cell_type": "code",
      "metadata": {
        "id": "pZlNN9n966XR",
        "colab_type": "code",
        "colab": {
          "base_uri": "https://localhost:8080/",
          "height": 313
        },
        "outputId": "9557a41d-f0b9-40ee-d736-04334dfa7889"
      },
      "source": [
        "ADMM(X_train, np.squeeze(y_train), 0.3, 0.5, 17000,n_iter=10000)"
      ],
      "execution_count": 84,
      "outputs": [
        {
          "output_type": "stream",
          "text": [
            "0.7054929266759229\n",
            "1.7623012634374104\n"
          ],
          "name": "stdout"
        },
        {
          "output_type": "error",
          "ename": "KeyboardInterrupt",
          "evalue": "ignored",
          "traceback": [
            "\u001b[0;31m---------------------------------------------------------------------------\u001b[0m",
            "\u001b[0;31mKeyboardInterrupt\u001b[0m                         Traceback (most recent call last)",
            "\u001b[0;32m<ipython-input-84-b353da48e24e>\u001b[0m in \u001b[0;36m<module>\u001b[0;34m()\u001b[0m\n\u001b[0;32m----> 1\u001b[0;31m \u001b[0mADMM\u001b[0m\u001b[0;34m(\u001b[0m\u001b[0mX_train\u001b[0m\u001b[0;34m,\u001b[0m \u001b[0mnp\u001b[0m\u001b[0;34m.\u001b[0m\u001b[0msqueeze\u001b[0m\u001b[0;34m(\u001b[0m\u001b[0my_train\u001b[0m\u001b[0;34m)\u001b[0m\u001b[0;34m,\u001b[0m \u001b[0;36m0.3\u001b[0m\u001b[0;34m,\u001b[0m \u001b[0;36m0.5\u001b[0m\u001b[0;34m,\u001b[0m \u001b[0;36m17000\u001b[0m\u001b[0;34m,\u001b[0m\u001b[0mn_iter\u001b[0m\u001b[0;34m=\u001b[0m\u001b[0;36m10000\u001b[0m\u001b[0;34m)\u001b[0m\u001b[0;34m\u001b[0m\u001b[0;34m\u001b[0m\u001b[0m\n\u001b[0m",
            "\u001b[0;32m<ipython-input-75-7fc17ad6fb2c>\u001b[0m in \u001b[0;36mADMM\u001b[0;34m(X, y, tau, alpha, gamma, w_init, lambda_init, u_init, n_iter)\u001b[0m\n\u001b[1;32m     17\u001b[0m     \u001b[0mu\u001b[0m \u001b[0;34m=\u001b[0m \u001b[0mprox_gamma_L_tau\u001b[0m\u001b[0;34m(\u001b[0m\u001b[0my\u001b[0m\u001b[0;34m-\u001b[0m\u001b[0mM\u001b[0m\u001b[0;34m@\u001b[0m\u001b[0mw\u001b[0m\u001b[0;34m-\u001b[0m\u001b[0;36m1.\u001b[0m\u001b[0;34m/\u001b[0m\u001b[0mgamma\u001b[0m\u001b[0;34m*\u001b[0m\u001b[0mlambd_curr\u001b[0m\u001b[0;34m,\u001b[0m \u001b[0mtau\u001b[0m\u001b[0;34m,\u001b[0m \u001b[0;36m1.\u001b[0m\u001b[0;34m/\u001b[0m\u001b[0mgamma\u001b[0m\u001b[0;34m)\u001b[0m\u001b[0;34m\u001b[0m\u001b[0;34m\u001b[0m\u001b[0m\n\u001b[1;32m     18\u001b[0m \u001b[0;34m\u001b[0m\u001b[0m\n\u001b[0;32m---> 19\u001b[0;31m     \u001b[0mlambd\u001b[0m \u001b[0;34m=\u001b[0m \u001b[0mlambd_curr\u001b[0m \u001b[0;34m+\u001b[0m \u001b[0mgamma\u001b[0m\u001b[0;34m*\u001b[0m\u001b[0;34m(\u001b[0m\u001b[0mM\u001b[0m\u001b[0;34m@\u001b[0m\u001b[0mw\u001b[0m\u001b[0;34m-\u001b[0m\u001b[0my\u001b[0m\u001b[0;34m+\u001b[0m\u001b[0mu\u001b[0m\u001b[0;34m)\u001b[0m\u001b[0;34m\u001b[0m\u001b[0;34m\u001b[0m\u001b[0m\n\u001b[0m\u001b[1;32m     20\u001b[0m \u001b[0;34m\u001b[0m\u001b[0m\n\u001b[1;32m     21\u001b[0m     \u001b[0mu_curr\u001b[0m \u001b[0;34m=\u001b[0m \u001b[0mu\u001b[0m\u001b[0;34m\u001b[0m\u001b[0;34m\u001b[0m\u001b[0m\n",
            "\u001b[0;31mKeyboardInterrupt\u001b[0m: "
          ]
        }
      ]
    },
    {
      "cell_type": "code",
      "metadata": {
        "id": "1kBBbxat_eMc",
        "colab_type": "code",
        "colab": {
          "base_uri": "https://localhost:8080/",
          "height": 67
        },
        "outputId": "72a4e12c-5394-4138-a9f4-80dcc58e4ff9"
      },
      "source": [
        "np.eye(3)"
      ],
      "execution_count": 24,
      "outputs": [
        {
          "output_type": "execute_result",
          "data": {
            "text/plain": [
              "array([[1., 0., 0.],\n",
              "       [0., 1., 0.],\n",
              "       [0., 0., 1.]])"
            ]
          },
          "metadata": {
            "tags": []
          },
          "execution_count": 24
        }
      ]
    },
    {
      "cell_type": "code",
      "metadata": {
        "id": "nzqqok1hDbdw",
        "colab_type": "code",
        "colab": {}
      },
      "source": [
        "from sklearn.linear_model import LinearRegression"
      ],
      "execution_count": 0,
      "outputs": []
    },
    {
      "cell_type": "code",
      "metadata": {
        "id": "hyHJV3veDgn5",
        "colab_type": "code",
        "colab": {}
      },
      "source": [
        "model = LinearRegression()"
      ],
      "execution_count": 0,
      "outputs": []
    },
    {
      "cell_type": "code",
      "metadata": {
        "id": "s3LmTHIeEi9A",
        "colab_type": "code",
        "colab": {}
      },
      "source": [
        "reg = model.fit(X_train, y_train)"
      ],
      "execution_count": 0,
      "outputs": []
    },
    {
      "cell_type": "code",
      "metadata": {
        "id": "MG8YPnPsEpPZ",
        "colab_type": "code",
        "colab": {
          "base_uri": "https://localhost:8080/",
          "height": 34
        },
        "outputId": "5126b185-fc45-4218-aedf-abd539119f06"
      },
      "source": [
        "np.mean((reg.predict(X_train)-y_train)**2)"
      ],
      "execution_count": 87,
      "outputs": [
        {
          "output_type": "execute_result",
          "data": {
            "text/plain": [
              "0.705490614781552"
            ]
          },
          "metadata": {
            "tags": []
          },
          "execution_count": 87
        }
      ]
    }
  ]
}